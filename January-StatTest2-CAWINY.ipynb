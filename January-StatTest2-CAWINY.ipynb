{
 "cells": [
  {
   "cell_type": "code",
   "execution_count": 1,
   "metadata": {},
   "outputs": [],
   "source": [
    "import pandas as pd\n",
    "from scipy.stats.stats import pearsonr\n",
    "from scipy import stats\n",
    "from scipy import special\n",
    "import statsmodels.api as sm\n",
    "import numpy as np\n",
    "import matplotlib.pyplot as plt\n",
    "import math"
   ]
  },
  {
   "cell_type": "code",
   "execution_count": 2,
   "metadata": {
    "scrolled": true
   },
   "outputs": [
    {
     "name": "stderr",
     "output_type": "stream",
     "text": [
      "/anaconda3/lib/python3.6/site-packages/IPython/core/interactiveshell.py:2785: DtypeWarning: Columns (1,2,52,323,649,882,932,1092,1202) have mixed types. Specify dtype option on import or set low_memory=False.\n",
      "  interactivity=interactivity, compiler=compiler, result=result)\n",
      "/anaconda3/lib/python3.6/site-packages/IPython/core/interactiveshell.py:2785: DtypeWarning: Columns (1,2,57,204,341,376,377,396,430,431,928,944,1006,1013,1151,1160,1169,1179,1411) have mixed types. Specify dtype option on import or set low_memory=False.\n",
      "  interactivity=interactivity, compiler=compiler, result=result)\n",
      "/anaconda3/lib/python3.6/site-packages/IPython/core/interactiveshell.py:2785: DtypeWarning: Columns (1,2,17,163,355,406,702,835,847,1083,1156,1183,1185,1200) have mixed types. Specify dtype option on import or set low_memory=False.\n",
      "  interactivity=interactivity, compiler=compiler, result=result)\n"
     ]
    }
   ],
   "source": [
    "data2014 = pd.read_csv(\"Our_Dataset/2014dataset.csv\")\n",
    "data2015 = pd.read_csv(\"Our_Dataset/2015dataset.csv\")\n",
    "data2016 = pd.read_csv(\"Our_Dataset/2016dataset.csv\")\n",
    "data2017 = pd.read_csv(\"Our_Dataset/2017dataset.csv\")"
   ]
  },
  {
   "cell_type": "code",
   "execution_count": 3,
   "metadata": {},
   "outputs": [],
   "source": [
    "# Create the labels.\n",
    "# By index:\n",
    "# label 2 is transfers\n",
    "# label 3 is premiums\n",
    "# label 4 is costs\n",
    "# label 5 is member months\n",
    "# label 6 is reinsurance (individual group only)\n",
    "\n",
    "ind_labels_14 = [\"HIOS ID\", \"HIOS INPUTTED INSURANCE COMPANY NAME\",\n",
    "                  \"HHS RISK ADJUSTMENT TRANSFER AMOUNT (INDIVIDUAL MARKET, INCLUDING CATASTROPHIC)\",\n",
    "                  \"1.1Directpremiumwritten2HealthInsuranceINDIVIDUALTotalasof3/31/15\",\n",
    "                  \"2.16Totalincurredclaims2HealthInsuranceINDIVIDUALTotalasof3/31/15\",\n",
    "                  \"7.4Membermonths2HealthInsuranceINDIVIDUALTotalasof3/31/15\",\n",
    "                  \"STATE\", \"REINSURANCE PAYMENT AMOUNT (OR NOT ELIGIBLE)\"] # no more reinsurance as of 2017\n",
    "ind_labels_15 = [label.replace('15', '16') for label in ind_labels_14]\n",
    "ind_labels_16 = [label.replace('15', '17') for label in ind_labels_14]\n",
    "ind_labels_17 = [label.replace('15', '18') for label in ind_labels_14][:-1]\n",
    "\n",
    "sg_labels_14 = [\"HIOS ID\", \"HIOS INPUTTED INSURANCE COMPANY NAME\",\n",
    "                 \"HHS RISK ADJUSTMENT TRANSFERS AMOUNT (SMALL GROUP MARKET)\",\n",
    "                  \"1.1Directpremiumwritten7HealthInsuranceSMALLGROUPTotalasof3/31/15\",\n",
    "                  \"2.16Totalincurredclaims7HealthInsuranceSMALLGROUPTotalasof3/31/15\",\n",
    "                  \"7.4Membermonths7HealthInsuranceSMALLGROUPTotalasof3/31/15\", \"STATE\"]\n",
    "sg_labels_15 = [label.replace('15', '16') for label in sg_labels_14]\n",
    "sg_labels_16 = [label.replace('15', '17') for label in sg_labels_14]\n",
    "sg_labels_17 = [label.replace('15', '18') for label in sg_labels_14]"
   ]
  },
  {
   "cell_type": "code",
   "execution_count": 4,
   "metadata": {},
   "outputs": [],
   "source": [
    "# Filter the data to include only the fields we want\n",
    "\n",
    "ind_data_14 = data2014[ind_labels_14].dropna()\n",
    "ind_data_15 = data2015[ind_labels_15].dropna()\n",
    "ind_data_16 = data2016[ind_labels_16].dropna()\n",
    "ind_data_17 = data2017[ind_labels_17].dropna()\n",
    "sg_data_14 = data2014[sg_labels_14].dropna()\n",
    "sg_data_15 = data2015[sg_labels_15].dropna()\n",
    "sg_data_16 = data2016[sg_labels_16].dropna()\n",
    "sg_data_17 = data2017[sg_labels_17].dropna()"
   ]
  },
  {
   "cell_type": "code",
   "execution_count": 5,
   "metadata": {},
   "outputs": [],
   "source": [
    "# Drop companies with <2000 MM\n",
    "ind_data_14 = ind_data_14.where(ind_data_14[ind_labels_14[5]] > 2000).dropna()\n",
    "ind_data_15 = ind_data_15.where(ind_data_15[ind_labels_15[5]] > 2000).dropna()\n",
    "ind_data_16 = ind_data_16.where(ind_data_16[ind_labels_16[5]] > 2000).dropna()\n",
    "ind_data_17 = ind_data_17.where(ind_data_17[ind_labels_17[5]] > 2000).dropna()\n",
    "sg_data_14 = sg_data_14.where(sg_data_14[sg_labels_14[5]] > 2000).dropna()\n",
    "sg_data_15 = sg_data_15.where(sg_data_15[sg_labels_15[5]] > 2000).dropna()\n",
    "sg_data_16 = sg_data_16.where(sg_data_16[sg_labels_16[5]] > 2000).dropna()\n",
    "sg_data_17 = sg_data_17.where(sg_data_17[sg_labels_17[5]] > 2000).dropna()"
   ]
  },
  {
   "cell_type": "code",
   "execution_count": 6,
   "metadata": {},
   "outputs": [],
   "source": [
    "# Calculate transfers, premiums, costs, and reinsurance (if individual group) per member month\n",
    "def calculate_pmm(df, df_labels, group):\n",
    "    df[\"MM\"] = df[df_labels[5]]\n",
    "    df[\"Transfers\"] = df[df_labels[2]]\n",
    "    df[\"Enrollees\"] = df[\"MM\"] / 12\n",
    "    df[\"TransfersPerEnrollee\"] = df[\"Transfers\"] / df[\"Enrollees\"]\n",
    "    df[\"TransfersPerSqrtEnrollee\"] = df[\"Transfers\"] / np.sqrt(df[\"Enrollees\"])\n",
    "    df[\"LogEnrollees\"] = np.log(df[\"Enrollees\"])\n",
    "    df[\"LogTransfers\"] = np.log(df[\"Transfers\"]**2 + 1)\n",
    "    df[\"TransfersPMM\"] = df[df_labels[2]] / df[df_labels[5]]\n",
    "    df[\"PremiumsPMM\"] = abs(df[df_labels[3]] / df[df_labels[5]])\n",
    "    df[\"CostsPMM\"] = abs(df[df_labels[4]] / df[df_labels[5]])\n",
    "    if group == \"i\":\n",
    "        df[\"ReinsurancePMM\"] = df[df_labels[7]] / df[df_labels[5]]\n",
    "        df[\"ProfitsPMM\"] = df[\"PremiumsPMM\"] - df[\"CostsPMM\"] + df[\"TransfersPMM\"] + df[\"ReinsurancePMM\"]\n",
    "        #df[\"PremMinusCostsPlusReinsurancePMM\"] = df[\"PremiumsPMM\"] - df[\"CostsPMM\"] + df[\"ReinsurancePMM\"]\n",
    "    elif group == \"sg\":\n",
    "        df[\"ProfitsPMM\"] = df[\"PremiumsPMM\"] - df[\"CostsPMM\"] + df[\"TransfersPMM\"]\n",
    "    df[\"PremMinusCostsPMM\"] = df[\"PremiumsPMM\"] - df[\"CostsPMM\"]\n",
    "    df[\"PremMinusCostsPlusTransfersPMM\"] = df[\"PremiumsPMM\"] - df[\"CostsPMM\"] + df[\"TransfersPMM\"]\n",
    "    df[\"SicknessPMM\"] = df[\"CostsPMM\"] - df[\"PremiumsPMM\"]\n",
    "    average_sickness = np.mean(df[\"SicknessPMM\"])\n",
    "    df[\"ExcessSicknessPMM\"] = df[\"SicknessPMM\"] - average_sickness\n",
    "    return df\n",
    "\n",
    "ind_data_14 = calculate_pmm(ind_data_14, ind_labels_14, \"i\")\n",
    "ind_data_15 = calculate_pmm(ind_data_15, ind_labels_15, \"i\")\n",
    "ind_data_16 = calculate_pmm(ind_data_16, ind_labels_16, \"i\")\n",
    "ind_data_17 = calculate_pmm(ind_data_17, ind_labels_17, \"sg\")\n",
    "sg_data_14 = calculate_pmm(sg_data_14, sg_labels_14, \"sg\")\n",
    "sg_data_15 = calculate_pmm(sg_data_15, sg_labels_15, \"sg\")\n",
    "sg_data_16 = calculate_pmm(sg_data_16, sg_labels_16, \"sg\")\n",
    "sg_data_17 = calculate_pmm(sg_data_17, sg_labels_17, \"sg\")"
   ]
  },
  {
   "cell_type": "code",
   "execution_count": 7,
   "metadata": {},
   "outputs": [],
   "source": [
    "# Combine the dataframes by left merging\n",
    "\n",
    "ind_data = ind_data_14.merge(ind_data_15, on='HIOS ID', how='outer', suffixes=('_14', '_15'))\\\n",
    ".merge(ind_data_16, on='HIOS ID', how='outer').merge(ind_data_17, on='HIOS ID', how='outer', suffixes=('_16', '_17'))"
   ]
  },
  {
   "cell_type": "code",
   "execution_count": 8,
   "metadata": {},
   "outputs": [],
   "source": [
    "# Do the same thing for small group\n",
    "\n",
    "sg_data = sg_data_14.merge(sg_data_15, on='HIOS ID', how='outer', suffixes=('_14', '_15'))\\\n",
    ".merge(sg_data_16, on='HIOS ID', how='outer').merge(sg_data_17, on='HIOS ID', how='outer', suffixes=('_16', '_17'))"
   ]
  },
  {
   "cell_type": "code",
   "execution_count": 9,
   "metadata": {},
   "outputs": [
    {
     "data": {
      "text/plain": [
       "(611, 85)"
      ]
     },
     "execution_count": 9,
     "metadata": {},
     "output_type": "execute_result"
    }
   ],
   "source": [
    "sg_data.shape"
   ]
  },
  {
   "cell_type": "code",
   "execution_count": 10,
   "metadata": {},
   "outputs": [],
   "source": [
    "def plot(df, label, show_graphs):\n",
    "    no_nulls = df[['LogEnrollees', 'LogTransfers']].dropna()\n",
    "    X = no_nulls[['LogEnrollees']]\n",
    "    y = no_nulls['LogTransfers']\n",
    "    X = sm.add_constant(X)\n",
    "    est = sm.OLS(y, X).fit()\n",
    "    equation = \"Log T = %f + %f * Log Enrollees\" % (est.params[0], est.params[1])\n",
    "    if show_graphs:\n",
    "        fig, ax = plt.subplots(figsize=(8,8))\n",
    "        plt.scatter(df[\"LogEnrollees\"], df[\"LogTransfers\"])\n",
    "        x = np.linspace(min(df[\"LogEnrollees\"]), max(df[\"LogEnrollees\"]), 1000)\n",
    "        plt.plot(x, est.params[0] + est.params[1] * x, label=equation)\n",
    "        plt.title(label)\n",
    "        plt.xlabel(\"Log # Enrollees\")\n",
    "        plt.ylabel(\"Log Transfers^2 + 1\")\n",
    "        plt.legend()\n",
    "        plt.show()\n",
    "    print(label)\n",
    "    print(equation)\n",
    "    \n",
    "def state(df, state):\n",
    "    return df.where(df[\"STATE\"] == state).where(df[\"LogTransfers\"] > 2).dropna()\n",
    "\n",
    "def remove_outliers(df):\n",
    "    return df.where(df[\"LogTransfers\"] > 2).dropna()"
   ]
  },
  {
   "cell_type": "code",
   "execution_count": 11,
   "metadata": {},
   "outputs": [],
   "source": [
    "def erfinv2(sample_size):# sig):\n",
    "    # erf inverse 0.5 * p/k where p=0.05\n",
    "    print(\"Sample size %d\" % (sample_size))\n",
    "    return special.erfinv(1-0.5*0.05/sample_size) * np.sqrt(2)# * sig\n",
    "\n",
    "def num_pass(df, a):\n",
    "    sample_size = df.shape[0]\n",
    "    count = 0\n",
    "    delta = erfinv2(sample_size)\n",
    "    print(\"Delta_0 % .3f\" % (delta))\n",
    "    es1 = max(abs(df[\"TransfersPerSqrtEnrollee\"])) / delta\n",
    "    print(\"Comparison es_0 = %.3f\" % (es1))\n",
    "    print(\"Comparison es_0*%.2f = %.3f\" % (a, a*es1))\n",
    "    \n",
    "    for index, row in df.iterrows():\n",
    "        t = row[\"Transfers\"]\n",
    "        n = row[\"Enrollees\"]\n",
    "        if abs(row[\"TransfersPerSqrtEnrollee\"]) < a*es1:\n",
    "            count += 1\n",
    "            print(\"T/sqrt(N)=%.3f \\t <a*es_0 Satisfied\" % (row[\"TransfersPerSqrtEnrollee\"]))\n",
    "        else:\n",
    "            print(\"T/sqrt(N)=%.3f \\t <a*es_0 NOT Satisfied \\t Distance |T/sqrt(N)|-a*es_0 %.1f \" % (row[\"TransfersPerSqrtEnrollee\"], abs(row[\"TransfersPerSqrtEnrollee\"]) - a*es1))\n",
    "    return count\n",
    "    \n",
    "def binom(k, n, p):\n",
    "    return stats.binom.cdf(k, n, p)"
   ]
  },
  {
   "cell_type": "code",
   "execution_count": 12,
   "metadata": {},
   "outputs": [],
   "source": [
    "def run_stat_test(data, label, a):\n",
    "    print(label)\n",
    "    p01 = special.erf(a/np.sqrt(2))\n",
    "    print(\"P01 = %.3f\" % (p01))\n",
    "    successes = num_pass(data, a)\n",
    "    print(\"Number of successes: %d\" % (successes))\n",
    "    print(\"P value = %.3f\" % (1- binom(successes, data.shape[0], p01)))"
   ]
  },
  {
   "cell_type": "code",
   "execution_count": 13,
   "metadata": {},
   "outputs": [],
   "source": [
    "def ratio(df, v):# sig):\n",
    "    # # of people where |d_i| < v\n",
    "    return df[\"TransfersPerSqrtEnrollee\"].where(abs(df[\"TransfersPerSqrtEnrollee\"]) < v).dropna().count() / df[\"TransfersPerSqrtEnrollee\"].count()\n",
    "\n",
    "def ratio_list(t, v):# sig):\n",
    "    # # of people where |d_i| < v\n",
    "    k = len(t)\n",
    "    t2 = [x for x in t if abs(x) < v]\n",
    "    return len(t2) / k"
   ]
  },
  {
   "cell_type": "code",
   "execution_count": 14,
   "metadata": {},
   "outputs": [],
   "source": [
    "#df = state(sg_data_14, \"NY\")\n",
    "#k = len(df)\n",
    "#v = np.linspace(0, max(df[\"TransfersPerSqrtEnrollee\"]), 1000)\n",
    "#v = v[1:len(v)-2]"
   ]
  },
  {
   "cell_type": "code",
   "execution_count": 15,
   "metadata": {},
   "outputs": [],
   "source": [
    "this_nb_state = \"CA\""
   ]
  },
  {
   "cell_type": "code",
   "execution_count": 16,
   "metadata": {},
   "outputs": [],
   "source": [
    "this_nb_state = \"CA\"\n",
    "\n",
    "df2 = state(sg_data_14, this_nb_state)[\"TransfersPerSqrtEnrollee\"]\n",
    "df2 = df2.append(state(sg_data_15, this_nb_state)[\"TransfersPerSqrtEnrollee\"]) \n",
    "df2 = df2.append(state(sg_data_16, this_nb_state)[\"TransfersPerSqrtEnrollee\"]) \n",
    "df2 = df2.append(state(sg_data_17, this_nb_state)[\"TransfersPerSqrtEnrollee\"])\n",
    "\n",
    "this_nb_state = \"NY\"\n",
    "\n",
    "df2 = df2.append(state(sg_data_14, this_nb_state)[\"TransfersPerSqrtEnrollee\"])\n",
    "df2 = df2.append(state(sg_data_15, this_nb_state)[\"TransfersPerSqrtEnrollee\"]) \n",
    "df2 = df2.append(state(sg_data_16, this_nb_state)[\"TransfersPerSqrtEnrollee\"]) \n",
    "df2 = df2.append(state(sg_data_17, this_nb_state)[\"TransfersPerSqrtEnrollee\"])\n",
    "\n",
    "this_nb_state = \"WI\"\n",
    "\n",
    "df2 = df2.append(state(sg_data_14, this_nb_state)[\"TransfersPerSqrtEnrollee\"])\n",
    "df2 = df2.append(state(sg_data_15, this_nb_state)[\"TransfersPerSqrtEnrollee\"]) \n",
    "df2 = df2.append(state(sg_data_16, this_nb_state)[\"TransfersPerSqrtEnrollee\"]) \n",
    "df2 = df2.append(state(sg_data_17, this_nb_state)[\"TransfersPerSqrtEnrollee\"])"
   ]
  },
  {
   "cell_type": "code",
   "execution_count": 17,
   "metadata": {},
   "outputs": [],
   "source": [
    "k = len(df2)\n",
    "v = np.linspace(0, max(abs(df2)), 1000)\n",
    "v = v[1:len(v)]\n",
    "\n",
    "ratios = [ratio_list(df2, vi) for vi in v]\n",
    "#print(ratios)\n",
    "begin_p = 5/k\n",
    "end_p = 1-begin_p\n",
    "start_index = 0\n",
    "end_index = 0\n",
    "for index, ratio2 in enumerate(ratios):\n",
    "    if ratio2 >= begin_p:\n",
    "        start_index = index\n",
    "        break\n",
    "    \n",
    "for index, ratio2 in enumerate(ratios):\n",
    "    if ratio2 > end_p:\n",
    "        end_index = index\n",
    "        break\n",
    "\n",
    "if end_index == 0:\n",
    "    end_index = len(v) - 1\n",
    "    \n",
    "v = v[start_index:end_index]\n",
    "\n",
    "ratios2 = ratios[start_index:end_index]\n",
    "multiplier = [np.sqrt(2)/vi for vi in v]"
   ]
  },
  {
   "cell_type": "code",
   "execution_count": 18,
   "metadata": {},
   "outputs": [
    {
     "data": {
      "text/plain": [
       "[<matplotlib.lines.Line2D at 0x1c14cfcbe0>]"
      ]
     },
     "execution_count": 18,
     "metadata": {},
     "output_type": "execute_result"
    },
    {
     "data": {
      "image/png": "[encoded data removed]",
      "text/plain": [
       "<Figure size 432x288 with 1 Axes>"
      ]
     },
     "metadata": {},
     "output_type": "display_data"
    }
   ],
   "source": [
    "plt.plot(v, ratios2)\n",
    "plt.plot(v, multiplier)"
   ]
  },
  {
   "cell_type": "code",
   "execution_count": 19,
   "metadata": {},
   "outputs": [
    {
     "data": {
      "text/plain": [
       "Text(0.5,1,'1/beta vs. v')"
      ]
     },
     "execution_count": 19,
     "metadata": {},
     "output_type": "execute_result"
    },
    {
     "data": {
      "image/png": "[encoded data removed]",
      "text/plain": [
       "<Figure size 432x288 with 1 Axes>"
      ]
     },
     "metadata": {},
     "output_type": "display_data"
    }
   ],
   "source": [
    "y = [multiplier[i] * special.erfinv(ratio2) for i, ratio2 in enumerate(ratios2)]\n",
    "plt.plot(v, y)\n",
    "plt.title(\"1/beta vs. v\")"
   ]
  },
  {
   "cell_type": "code",
   "execution_count": 20,
   "metadata": {},
   "outputs": [
    {
     "data": {
      "text/plain": [
       "Text(0.5,1,'beta vs. v')"
      ]
     },
     "execution_count": 20,
     "metadata": {},
     "output_type": "execute_result"
    },
    {
     "data": {
      "image/png": "[encoded data removed]",
      "text/plain": [
       "<Figure size 432x288 with 1 Axes>"
      ]
     },
     "metadata": {},
     "output_type": "display_data"
    }
   ],
   "source": [
    "beta = [1/yi for yi in y]\n",
    "plt.plot(v, beta)\n",
    "#plt.axvline(x=64432.69, color='r', linestyle='--', label=\"Point of max difference\")\n",
    "plt.title(\"beta vs. v\")"
   ]
  },
  {
   "cell_type": "code",
   "execution_count": 21,
   "metadata": {},
   "outputs": [],
   "source": [
    "# Finding the minimum beta\n",
    "# Whenever we reject a beta, we reject all betas greater than that,\n",
    "# so keep pushing beta smaller until we reach max_difference == test_statistic\n",
    "# Run test for larger data sizes (combining states, years)"
   ]
  },
  {
   "cell_type": "code",
   "execution_count": 22,
   "metadata": {},
   "outputs": [],
   "source": [
    "max_beta=max(beta)"
   ]
  },
  {
   "cell_type": "code",
   "execution_count": 23,
   "metadata": {},
   "outputs": [],
   "source": [
    "max_beta = int(max_beta/100)*100"
   ]
  },
  {
   "cell_type": "code",
   "execution_count": 24,
   "metadata": {
    "scrolled": true
   },
   "outputs": [
    {
     "name": "stdout",
     "output_type": "stream",
     "text": [
      "beta = 162000.000\n"
     ]
    },
    {
     "data": {
      "image/png": "[encoded data removed]",
      "text/plain": [
       "<Figure size 432x288 with 1 Axes>"
      ]
     },
     "metadata": {},
     "output_type": "display_data"
    }
   ],
   "source": [
    "theoretical = [special.erf(vi/(max_beta*np.sqrt(2))) for vi in v]\n",
    "\n",
    "plt.plot(v, theoretical, label=\"P(|N(0,beta^2)|<v)\")\n",
    "plt.plot(v, ratios2, label=\"P(|d_i|<v)\")\n",
    "plt.title(\"P(|N(0,beta^2)|<v) and P(|d_i|<v) vs. v for NY 2014-2017 (k=79)\")\n",
    "#plt.axvline(x=64432.69, color='r', linestyle='--', label=\"Point of max difference\")\n",
    "plt.legend()\n",
    "print(\"beta = %.3f\" % (max_beta))"
   ]
  },
  {
   "cell_type": "code",
   "execution_count": 25,
   "metadata": {},
   "outputs": [
    {
     "name": "stdout",
     "output_type": "stream",
     "text": [
      "k = 244\n",
      "test_stat at this k = 0.08694\n",
      "\n",
      "At the point of maximum difference with beta = 162000:\n",
      "P(|d_i|<v) = 0.7131\n",
      "P(|N(0,max_beta^2)|<v) = 0.2199\n",
      "Difference = 0.4932\n",
      "\n",
      "\n",
      "\n",
      "\n",
      "At the point of maximum difference with beta = 152000:\n",
      "P(|d_i|<v) = 0.7131\n",
      "P(|N(0,max_beta^2)|<v) = 0.2340\n",
      "Difference = 0.4792\n",
      "\n",
      "\n",
      "\n",
      "\n",
      "At the point of maximum difference with beta = 142000:\n",
      "P(|d_i|<v) = 0.6967\n",
      "P(|N(0,max_beta^2)|<v) = 0.2326\n",
      "Difference = 0.4641\n",
      "\n",
      "\n",
      "\n",
      "\n",
      "At the point of maximum difference with beta = 132000:\n",
      "P(|d_i|<v) = 0.6967\n",
      "P(|N(0,max_beta^2)|<v) = 0.2496\n",
      "Difference = 0.4471\n",
      "\n",
      "\n",
      "\n",
      "\n",
      "At the point of maximum difference with beta = 122000:\n",
      "P(|d_i|<v) = 0.6967\n",
      "P(|N(0,max_beta^2)|<v) = 0.2693\n",
      "Difference = 0.4274\n",
      "\n",
      "\n",
      "\n",
      "\n",
      "At the point of maximum difference with beta = 112000:\n",
      "P(|d_i|<v) = 0.6967\n",
      "P(|N(0,max_beta^2)|<v) = 0.2923\n",
      "Difference = 0.4044\n",
      "\n",
      "\n",
      "\n",
      "\n",
      "At the point of maximum difference with beta = 102000:\n",
      "P(|d_i|<v) = 0.6967\n",
      "P(|N(0,max_beta^2)|<v) = 0.3195\n",
      "Difference = 0.3772\n",
      "\n",
      "\n",
      "\n",
      "\n",
      "At the point of maximum difference with beta = 92000:\n",
      "P(|d_i|<v) = 0.6967\n",
      "P(|N(0,max_beta^2)|<v) = 0.3520\n",
      "Difference = 0.3447\n",
      "\n",
      "\n",
      "\n",
      "\n",
      "At the point of maximum difference with beta = 82000:\n",
      "P(|d_i|<v) = 0.5615\n",
      "P(|N(0,max_beta^2)|<v) = 0.2474\n",
      "Difference = 0.3141\n",
      "\n",
      "\n",
      "\n",
      "\n",
      "At the point of maximum difference with beta = 72000:\n",
      "P(|d_i|<v) = 0.5615\n",
      "P(|N(0,max_beta^2)|<v) = 0.2804\n",
      "Difference = 0.2811\n",
      "\n",
      "\n",
      "\n",
      "\n",
      "At the point of maximum difference with beta = 62000:\n",
      "P(|d_i|<v) = 0.4385\n",
      "P(|N(0,max_beta^2)|<v) = 0.1894\n",
      "Difference = 0.2491\n",
      "\n",
      "\n",
      "\n",
      "\n",
      "At the point of maximum difference with beta = 52000:\n",
      "P(|d_i|<v) = 0.4385\n",
      "P(|N(0,max_beta^2)|<v) = 0.2250\n",
      "Difference = 0.2136\n",
      "\n",
      "\n",
      "\n",
      "\n",
      "At the point of maximum difference with beta = 42000:\n",
      "P(|d_i|<v) = 0.4385\n",
      "P(|N(0,max_beta^2)|<v) = 0.2765\n",
      "Difference = 0.1620\n",
      "\n",
      "\n",
      "\n",
      "\n",
      "At the point of maximum difference with beta = 32000:\n",
      "P(|d_i|<v) = 0.3033\n",
      "P(|N(0,max_beta^2)|<v) = 0.1915\n",
      "Difference = 0.1118\n",
      "\n",
      "\n",
      "\n"
     ]
    }
   ],
   "source": [
    "print(\"k = %d\" % (len(df2)))\n",
    "\n",
    "greatest_diff = 1\n",
    "test_stat = special.kolmogi(0.05)/np.sqrt(k)\n",
    "print(\"test_stat at this k = %.5f\" % (test_stat))\n",
    "\n",
    "beta1 = max_beta\n",
    "\n",
    "while greatest_diff > test_stat:\n",
    "    theoretical = [special.erf(vi/(beta1*np.sqrt(2))) for vi in v]\n",
    "\n",
    "    Mb_index = -1\n",
    "    greatest_diff = 0\n",
    "    for i, vi in enumerate(v):\n",
    "        vb =  ratios2[i]-theoretical[i]\n",
    "        if vb > greatest_diff:\n",
    "            greatest_diff = vb\n",
    "            Mb_index = i\n",
    "\n",
    "    if greatest_diff > test_stat:\n",
    "        print(\"\\nAt the point of maximum difference with beta = %d:\" % (beta1))\n",
    "        print(\"P(|d_i|<v) = %.4f\" % (ratios2[Mb_index]))\n",
    "        print(\"P(|N(0,max_beta^2)|<v) = %.4f\" % (theoretical[Mb_index]))\n",
    "        print(\"Difference = %.4f\" % (greatest_diff))\n",
    "        #print(\"beta at this point = %.3f\" % (beta[Mb_index]))\n",
    "        #print(greatest_diff > test_stat)\n",
    "\n",
    "        print(\"\\n\\n\")\n",
    "        beta1 = beta1 - 10000"
   ]
  },
  {
   "cell_type": "code",
   "execution_count": 26,
   "metadata": {},
   "outputs": [
    {
     "name": "stdout",
     "output_type": "stream",
     "text": [
      "k = 244\n",
      "test_stat at this k = 0.08694\n",
      "\n",
      "At the point of maximum difference with beta = 32000:\n",
      "P(|d_i|<v) = 0.3033\n",
      "P(|N(0,max_beta^2)|<v) = 0.1915\n",
      "Difference = 0.1118\n",
      "\n",
      "\n",
      "\n",
      "\n",
      "At the point of maximum difference with beta = 31900:\n",
      "P(|d_i|<v) = 0.3033\n",
      "P(|N(0,max_beta^2)|<v) = 0.1920\n",
      "Difference = 0.1112\n",
      "\n",
      "\n",
      "\n",
      "\n",
      "At the point of maximum difference with beta = 31800:\n",
      "P(|d_i|<v) = 0.3033\n",
      "P(|N(0,max_beta^2)|<v) = 0.1926\n",
      "Difference = 0.1106\n",
      "\n",
      "\n",
      "\n",
      "\n",
      "At the point of maximum difference with beta = 31700:\n",
      "P(|d_i|<v) = 0.3033\n",
      "P(|N(0,max_beta^2)|<v) = 0.1932\n",
      "Difference = 0.1101\n",
      "\n",
      "\n",
      "\n",
      "\n",
      "At the point of maximum difference with beta = 31600:\n",
      "P(|d_i|<v) = 0.3033\n",
      "P(|N(0,max_beta^2)|<v) = 0.1938\n",
      "Difference = 0.1095\n",
      "\n",
      "\n",
      "\n",
      "\n",
      "At the point of maximum difference with beta = 31500:\n",
      "P(|d_i|<v) = 0.3033\n",
      "P(|N(0,max_beta^2)|<v) = 0.1944\n",
      "Difference = 0.1088\n",
      "\n",
      "\n",
      "\n",
      "\n",
      "At the point of maximum difference with beta = 31400:\n",
      "P(|d_i|<v) = 0.3033\n",
      "P(|N(0,max_beta^2)|<v) = 0.1950\n",
      "Difference = 0.1082\n",
      "\n",
      "\n",
      "\n",
      "\n",
      "At the point of maximum difference with beta = 31300:\n",
      "P(|d_i|<v) = 0.3033\n",
      "P(|N(0,max_beta^2)|<v) = 0.1956\n",
      "Difference = 0.1076\n",
      "\n",
      "\n",
      "\n",
      "\n",
      "At the point of maximum difference with beta = 31200:\n",
      "P(|d_i|<v) = 0.3033\n",
      "P(|N(0,max_beta^2)|<v) = 0.1963\n",
      "Difference = 0.1070\n",
      "\n",
      "\n",
      "\n",
      "\n",
      "At the point of maximum difference with beta = 31100:\n",
      "P(|d_i|<v) = 0.3033\n",
      "P(|N(0,max_beta^2)|<v) = 0.1969\n",
      "Difference = 0.1064\n",
      "\n",
      "\n",
      "\n",
      "\n",
      "At the point of maximum difference with beta = 31000:\n",
      "P(|d_i|<v) = 0.3033\n",
      "P(|N(0,max_beta^2)|<v) = 0.1975\n",
      "Difference = 0.1058\n",
      "\n",
      "\n",
      "\n",
      "\n",
      "At the point of maximum difference with beta = 30900:\n",
      "P(|d_i|<v) = 0.3033\n",
      "P(|N(0,max_beta^2)|<v) = 0.1981\n",
      "Difference = 0.1052\n",
      "\n",
      "\n",
      "\n",
      "\n",
      "At the point of maximum difference with beta = 30800:\n",
      "P(|d_i|<v) = 0.3033\n",
      "P(|N(0,max_beta^2)|<v) = 0.1988\n",
      "Difference = 0.1045\n",
      "\n",
      "\n",
      "\n",
      "\n",
      "At the point of maximum difference with beta = 30700:\n",
      "P(|d_i|<v) = 0.3033\n",
      "P(|N(0,max_beta^2)|<v) = 0.1994\n",
      "Difference = 0.1039\n",
      "\n",
      "\n",
      "\n",
      "\n",
      "At the point of maximum difference with beta = 30600:\n",
      "P(|d_i|<v) = 0.2705\n",
      "P(|N(0,max_beta^2)|<v) = 0.1672\n",
      "Difference = 0.1033\n",
      "\n",
      "\n",
      "\n",
      "\n",
      "At the point of maximum difference with beta = 30500:\n",
      "P(|d_i|<v) = 0.2705\n",
      "P(|N(0,max_beta^2)|<v) = 0.1678\n",
      "Difference = 0.1027\n",
      "\n",
      "\n",
      "\n",
      "\n",
      "At the point of maximum difference with beta = 30400:\n",
      "P(|d_i|<v) = 0.2705\n",
      "P(|N(0,max_beta^2)|<v) = 0.1683\n",
      "Difference = 0.1022\n",
      "\n",
      "\n",
      "\n",
      "\n",
      "At the point of maximum difference with beta = 30300:\n",
      "P(|d_i|<v) = 0.2705\n",
      "P(|N(0,max_beta^2)|<v) = 0.1689\n",
      "Difference = 0.1016\n",
      "\n",
      "\n",
      "\n",
      "\n",
      "At the point of maximum difference with beta = 30200:\n",
      "P(|d_i|<v) = 0.2705\n",
      "P(|N(0,max_beta^2)|<v) = 0.1694\n",
      "Difference = 0.1011\n",
      "\n",
      "\n",
      "\n",
      "\n",
      "At the point of maximum difference with beta = 30100:\n",
      "P(|d_i|<v) = 0.2705\n",
      "P(|N(0,max_beta^2)|<v) = 0.1700\n",
      "Difference = 0.1005\n",
      "\n",
      "\n",
      "\n",
      "\n",
      "At the point of maximum difference with beta = 30000:\n",
      "P(|d_i|<v) = 0.2705\n",
      "P(|N(0,max_beta^2)|<v) = 0.1705\n",
      "Difference = 0.1000\n",
      "\n",
      "\n",
      "\n",
      "\n",
      "At the point of maximum difference with beta = 29900:\n",
      "P(|d_i|<v) = 0.2705\n",
      "P(|N(0,max_beta^2)|<v) = 0.1711\n",
      "Difference = 0.0994\n",
      "\n",
      "\n",
      "\n",
      "\n",
      "At the point of maximum difference with beta = 29800:\n",
      "P(|d_i|<v) = 0.2705\n",
      "P(|N(0,max_beta^2)|<v) = 0.1717\n",
      "Difference = 0.0988\n",
      "\n",
      "\n",
      "\n",
      "\n",
      "At the point of maximum difference with beta = 29700:\n",
      "P(|d_i|<v) = 0.2705\n",
      "P(|N(0,max_beta^2)|<v) = 0.1722\n",
      "Difference = 0.0983\n",
      "\n",
      "\n",
      "\n",
      "\n",
      "At the point of maximum difference with beta = 29600:\n",
      "P(|d_i|<v) = 0.2705\n",
      "P(|N(0,max_beta^2)|<v) = 0.1728\n",
      "Difference = 0.0977\n",
      "\n",
      "\n",
      "\n",
      "\n",
      "At the point of maximum difference with beta = 29500:\n",
      "P(|d_i|<v) = 0.2705\n",
      "P(|N(0,max_beta^2)|<v) = 0.1734\n",
      "Difference = 0.0971\n",
      "\n",
      "\n",
      "\n",
      "\n",
      "At the point of maximum difference with beta = 29400:\n",
      "P(|d_i|<v) = 0.2705\n",
      "P(|N(0,max_beta^2)|<v) = 0.1740\n",
      "Difference = 0.0965\n",
      "\n",
      "\n",
      "\n",
      "\n",
      "At the point of maximum difference with beta = 29300:\n",
      "P(|d_i|<v) = 0.2705\n",
      "P(|N(0,max_beta^2)|<v) = 0.1745\n",
      "Difference = 0.0960\n",
      "\n",
      "\n",
      "\n",
      "\n",
      "At the point of maximum difference with beta = 29200:\n",
      "P(|d_i|<v) = 0.2705\n",
      "P(|N(0,max_beta^2)|<v) = 0.1751\n",
      "Difference = 0.0954\n",
      "\n",
      "\n",
      "\n",
      "\n",
      "At the point of maximum difference with beta = 29100:\n",
      "P(|d_i|<v) = 0.2705\n",
      "P(|N(0,max_beta^2)|<v) = 0.1757\n",
      "Difference = 0.0948\n",
      "\n",
      "\n",
      "\n",
      "\n",
      "At the point of maximum difference with beta = 29000:\n",
      "P(|d_i|<v) = 0.2705\n",
      "P(|N(0,max_beta^2)|<v) = 0.1763\n",
      "Difference = 0.0942\n",
      "\n",
      "\n",
      "\n",
      "\n",
      "At the point of maximum difference with beta = 28900:\n",
      "P(|d_i|<v) = 0.2705\n",
      "P(|N(0,max_beta^2)|<v) = 0.1769\n",
      "Difference = 0.0936\n",
      "\n",
      "\n",
      "\n",
      "\n",
      "At the point of maximum difference with beta = 28800:\n",
      "P(|d_i|<v) = 0.2705\n",
      "P(|N(0,max_beta^2)|<v) = 0.1775\n",
      "Difference = 0.0930\n",
      "\n",
      "\n",
      "\n",
      "\n",
      "At the point of maximum difference with beta = 28700:\n",
      "P(|d_i|<v) = 0.2705\n",
      "P(|N(0,max_beta^2)|<v) = 0.1781\n",
      "Difference = 0.0924\n",
      "\n",
      "\n",
      "\n",
      "\n",
      "At the point of maximum difference with beta = 28600:\n",
      "P(|d_i|<v) = 0.2705\n",
      "P(|N(0,max_beta^2)|<v) = 0.1787\n",
      "Difference = 0.0918\n",
      "\n",
      "\n",
      "\n",
      "\n",
      "At the point of maximum difference with beta = 28500:\n",
      "P(|d_i|<v) = 0.2705\n",
      "P(|N(0,max_beta^2)|<v) = 0.1794\n",
      "Difference = 0.0911\n",
      "\n",
      "\n",
      "\n",
      "\n",
      "At the point of maximum difference with beta = 28400:\n",
      "P(|d_i|<v) = 0.2705\n",
      "P(|N(0,max_beta^2)|<v) = 0.1800\n",
      "Difference = 0.0905\n",
      "\n",
      "\n",
      "\n",
      "\n",
      "At the point of maximum difference with beta = 28300:\n",
      "P(|d_i|<v) = 0.2705\n",
      "P(|N(0,max_beta^2)|<v) = 0.1806\n",
      "Difference = 0.0899\n",
      "\n",
      "\n",
      "\n",
      "\n",
      "At the point of maximum difference with beta = 28200:\n",
      "P(|d_i|<v) = 0.2705\n",
      "P(|N(0,max_beta^2)|<v) = 0.1812\n",
      "Difference = 0.0893\n",
      "\n",
      "\n",
      "\n",
      "\n",
      "At the point of maximum difference with beta = 28100:\n",
      "P(|d_i|<v) = 0.2705\n",
      "P(|N(0,max_beta^2)|<v) = 0.1819\n",
      "Difference = 0.0886\n",
      "\n",
      "\n",
      "\n",
      "\n",
      "At the point of maximum difference with beta = 28000:\n",
      "P(|d_i|<v) = 0.2705\n",
      "P(|N(0,max_beta^2)|<v) = 0.1825\n",
      "Difference = 0.0880\n",
      "\n",
      "\n",
      "\n",
      "\n",
      "At the point of maximum difference with beta = 27900:\n",
      "P(|d_i|<v) = 0.2705\n",
      "P(|N(0,max_beta^2)|<v) = 0.1831\n",
      "Difference = 0.0873\n",
      "\n",
      "\n",
      "\n"
     ]
    }
   ],
   "source": [
    "print(\"k = %d\" % (len(df2)))\n",
    "\n",
    "greatest_diff = 1\n",
    "test_stat = special.kolmogi(0.05)/np.sqrt(k)\n",
    "print(\"test_stat at this k = %.5f\" % (test_stat))\n",
    "\n",
    "beta1 = beta1 + 10000\n",
    "\n",
    "while greatest_diff > test_stat:\n",
    "    theoretical = [special.erf(vi/(beta1*np.sqrt(2))) for vi in v]\n",
    "\n",
    "    Mb_index = -1\n",
    "    greatest_diff = 0\n",
    "    for i, vi in enumerate(v):\n",
    "        vb =  ratios2[i]-theoretical[i]\n",
    "        #print(vb)\n",
    "        if vb > greatest_diff:\n",
    "            greatest_diff = abs(vb)\n",
    "            Mb_index = i\n",
    "\n",
    "    if greatest_diff > test_stat:\n",
    "        print(\"\\nAt the point of maximum difference with beta = %d:\" % (beta1))\n",
    "        print(\"P(|d_i|<v) = %.4f\" % (ratios2[Mb_index]))\n",
    "        print(\"P(|N(0,max_beta^2)|<v) = %.4f\" % (theoretical[Mb_index]))\n",
    "        print(\"Difference = %.4f\" % (greatest_diff))\n",
    "        #print(\"beta at this point = %.3f\" % (beta[Mb_index]))\n",
    "        #print(greatest_diff > test_stat)\n",
    "\n",
    "        print(\"\\n\\n\")\n",
    "        beta1 = beta1 - 100"
   ]
  },
  {
   "cell_type": "code",
   "execution_count": 27,
   "metadata": {},
   "outputs": [
    {
     "data": {
      "text/plain": [
       "<matplotlib.legend.Legend at 0x1c15824780>"
      ]
     },
     "execution_count": 27,
     "metadata": {},
     "output_type": "execute_result"
    },
    {
     "data": {
      "image/png": "[encoded data removed]",
      "text/plain": [
       "<Figure size 432x288 with 1 Axes>"
      ]
     },
     "metadata": {},
     "output_type": "display_data"
    }
   ],
   "source": [
    "beta1 = beta1+100\n",
    "\n",
    "this_nb_state = \"CAWINY\"\n",
    "theoretical = [special.erf(vi/(beta1*np.sqrt(2))) for vi in v]\n",
    "\n",
    "plt.plot(v, theoretical, label=\"P(|N(0,beta^2)|<v) beta=%d\" % (beta1))\n",
    "plt.plot(v, ratios2, label=\"P(|d_i|<v)\")\n",
    "plt.title(\"P(|N(0,beta^2)|<v) and P(|d_i|<v) vs. v for %s 2014-2017 (k=%d)\" % (this_nb_state, k))\n",
    "plt.axvline(x=v[Mb_index], color='r', linestyle='--', label=\"Point of max difference\")\n",
    "plt.legend()\n",
    "#print(\"beta = %.3f\" % (max_beta))"
   ]
  },
  {
   "cell_type": "code",
   "execution_count": 28,
   "metadata": {},
   "outputs": [
    {
     "name": "stdout",
     "output_type": "stream",
     "text": [
      "k = 244\n",
      "test_stat at this k = 0.08694\n"
     ]
    }
   ],
   "source": [
    "print(\"k = %d\" % (len(df2)))\n",
    "print(\"test_stat at this k = %.5f\" % (test_stat))"
   ]
  },
  {
   "cell_type": "code",
   "execution_count": 29,
   "metadata": {},
   "outputs": [
    {
     "data": {
      "text/plain": [
       "645485.9232224716"
      ]
     },
     "execution_count": 29,
     "metadata": {},
     "output_type": "execute_result"
    }
   ],
   "source": [
    "max(abs(df2))"
   ]
  },
  {
   "cell_type": "code",
   "execution_count": 38,
   "metadata": {},
   "outputs": [
    {
     "name": "stdout",
     "output_type": "stream",
     "text": [
      "Number of above 2: 64\n",
      "Proportion of above 2: 0.262\n",
      "P value = 0.000000\n"
     ]
    }
   ],
   "source": [
    "def run_stat_test(beta, values):\n",
    "    above_2_count = 0\n",
    "    for i in range(len(values)):\n",
    "        if abs(values[i]) > 2*beta:\n",
    "            above_2_count += 1\n",
    "    p_above_2 = 1 - special.erf(np.sqrt(2))\n",
    "    print(\"Number of above 2: %d\" % (above_2_count))\n",
    "    print(\"Proportion of above 2: %.3f\" % (above_2_count / len(values)))\n",
    "    print(\"P value = %.6f\" % (1- binom(above_2_count, len(values), p_above_2)))\n",
    "    \n",
    "run_stat_test(beta1, df2.values)"
   ]
  },
  {
   "cell_type": "code",
   "execution_count": 36,
   "metadata": {},
   "outputs": [
    {
     "data": {
      "text/plain": [
       "55800"
      ]
     },
     "execution_count": 36,
     "metadata": {},
     "output_type": "execute_result"
    }
   ],
   "source": [
    "beta1*2"
   ]
  },
  {
   "cell_type": "code",
   "execution_count": null,
   "metadata": {},
   "outputs": [],
   "source": []
  }
 ],
 "metadata": {
  "kernelspec": {
   "display_name": "Python 3",
   "language": "python",
   "name": "python3"
  },
  "language_info": {
   "codemirror_mode": {
    "name": "ipython",
    "version": 3
   },
   "file_extension": ".py",
   "mimetype": "text/x-python",
   "name": "python",
   "nbconvert_exporter": "python",
   "pygments_lexer": "ipython3",
   "version": "3.6.5"
  }
 },
 "nbformat": 4,
 "nbformat_minor": 2
}
