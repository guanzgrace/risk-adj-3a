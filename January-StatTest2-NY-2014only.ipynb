{
 "cells": [
  {
   "cell_type": "code",
   "execution_count": 1,
   "metadata": {},
   "outputs": [],
   "source": [
    "import pandas as pd\n",
    "from scipy.stats.stats import pearsonr\n",
    "from scipy import stats\n",
    "from scipy import special\n",
    "import statsmodels.api as sm\n",
    "import numpy as np\n",
    "import matplotlib.pyplot as plt\n",
    "import math"
   ]
  },
  {
   "cell_type": "code",
   "execution_count": 2,
   "metadata": {
    "scrolled": true
   },
   "outputs": [
    {
     "name": "stderr",
     "output_type": "stream",
     "text": [
      "/anaconda3/lib/python3.6/site-packages/IPython/core/interactiveshell.py:2785: DtypeWarning: Columns (1,2,52,323,649,882,932,1092,1202) have mixed types. Specify dtype option on import or set low_memory=False.\n",
      "  interactivity=interactivity, compiler=compiler, result=result)\n",
      "/anaconda3/lib/python3.6/site-packages/IPython/core/interactiveshell.py:2785: DtypeWarning: Columns (1,2,57,204,341,376,377,396,430,431,928,944,1006,1013,1151,1160,1169,1179,1411) have mixed types. Specify dtype option on import or set low_memory=False.\n",
      "  interactivity=interactivity, compiler=compiler, result=result)\n",
      "/anaconda3/lib/python3.6/site-packages/IPython/core/interactiveshell.py:2785: DtypeWarning: Columns (1,2,17,163,355,406,702,835,847,1083,1156,1183,1185,1200) have mixed types. Specify dtype option on import or set low_memory=False.\n",
      "  interactivity=interactivity, compiler=compiler, result=result)\n"
     ]
    }
   ],
   "source": [
    "data2014 = pd.read_csv(\"Our_Dataset/2014dataset.csv\")\n",
    "data2015 = pd.read_csv(\"Our_Dataset/2015dataset.csv\")\n",
    "data2016 = pd.read_csv(\"Our_Dataset/2016dataset.csv\")\n",
    "data2017 = pd.read_csv(\"Our_Dataset/2017dataset.csv\")"
   ]
  },
  {
   "cell_type": "code",
   "execution_count": 3,
   "metadata": {},
   "outputs": [],
   "source": [
    "# Create the labels.\n",
    "# By index:\n",
    "# label 2 is transfers\n",
    "# label 3 is premiums\n",
    "# label 4 is costs\n",
    "# label 5 is member months\n",
    "# label 6 is reinsurance (individual group only)\n",
    "\n",
    "ind_labels_14 = [\"HIOS ID\", \"HIOS INPUTTED INSURANCE COMPANY NAME\",\n",
    "                  \"HHS RISK ADJUSTMENT TRANSFER AMOUNT (INDIVIDUAL MARKET, INCLUDING CATASTROPHIC)\",\n",
    "                  \"1.1Directpremiumwritten2HealthInsuranceINDIVIDUALTotalasof3/31/15\",\n",
    "                  \"2.16Totalincurredclaims2HealthInsuranceINDIVIDUALTotalasof3/31/15\",\n",
    "                  \"7.4Membermonths2HealthInsuranceINDIVIDUALTotalasof3/31/15\",\n",
    "                  \"STATE\", \"REINSURANCE PAYMENT AMOUNT (OR NOT ELIGIBLE)\"] # no more reinsurance as of 2017\n",
    "ind_labels_15 = [label.replace('15', '16') for label in ind_labels_14]\n",
    "ind_labels_16 = [label.replace('15', '17') for label in ind_labels_14]\n",
    "ind_labels_17 = [label.replace('15', '18') for label in ind_labels_14][:-1]\n",
    "\n",
    "sg_labels_14 = [\"HIOS ID\", \"HIOS INPUTTED INSURANCE COMPANY NAME\",\n",
    "                 \"HHS RISK ADJUSTMENT TRANSFERS AMOUNT (SMALL GROUP MARKET)\",\n",
    "                  \"1.1Directpremiumwritten7HealthInsuranceSMALLGROUPTotalasof3/31/15\",\n",
    "                  \"2.16Totalincurredclaims7HealthInsuranceSMALLGROUPTotalasof3/31/15\",\n",
    "                  \"7.4Membermonths7HealthInsuranceSMALLGROUPTotalasof3/31/15\", \"STATE\"]\n",
    "sg_labels_15 = [label.replace('15', '16') for label in sg_labels_14]\n",
    "sg_labels_16 = [label.replace('15', '17') for label in sg_labels_14]\n",
    "sg_labels_17 = [label.replace('15', '18') for label in sg_labels_14]"
   ]
  },
  {
   "cell_type": "code",
   "execution_count": 4,
   "metadata": {},
   "outputs": [],
   "source": [
    "# Filter the data to include only the fields we want\n",
    "\n",
    "ind_data_14 = data2014[ind_labels_14].dropna()\n",
    "ind_data_15 = data2015[ind_labels_15].dropna()\n",
    "ind_data_16 = data2016[ind_labels_16].dropna()\n",
    "ind_data_17 = data2017[ind_labels_17].dropna()\n",
    "sg_data_14 = data2014[sg_labels_14].dropna()\n",
    "sg_data_15 = data2015[sg_labels_15].dropna()\n",
    "sg_data_16 = data2016[sg_labels_16].dropna()\n",
    "sg_data_17 = data2017[sg_labels_17].dropna()"
   ]
  },
  {
   "cell_type": "code",
   "execution_count": 5,
   "metadata": {},
   "outputs": [],
   "source": [
    "# Drop companies with <2000 MM\n",
    "ind_data_14 = ind_data_14.where(ind_data_14[ind_labels_14[5]] > 2000).dropna()\n",
    "ind_data_15 = ind_data_15.where(ind_data_15[ind_labels_15[5]] > 2000).dropna()\n",
    "ind_data_16 = ind_data_16.where(ind_data_16[ind_labels_16[5]] > 2000).dropna()\n",
    "ind_data_17 = ind_data_17.where(ind_data_17[ind_labels_17[5]] > 2000).dropna()\n",
    "sg_data_14 = sg_data_14.where(sg_data_14[sg_labels_14[5]] > 2000).dropna()\n",
    "sg_data_15 = sg_data_15.where(sg_data_15[sg_labels_15[5]] > 2000).dropna()\n",
    "sg_data_16 = sg_data_16.where(sg_data_16[sg_labels_16[5]] > 2000).dropna()\n",
    "sg_data_17 = sg_data_17.where(sg_data_17[sg_labels_17[5]] > 2000).dropna()"
   ]
  },
  {
   "cell_type": "code",
   "execution_count": 6,
   "metadata": {},
   "outputs": [],
   "source": [
    "# Calculate transfers, premiums, costs, and reinsurance (if individual group) per member month\n",
    "def calculate_pmm(df, df_labels, group):\n",
    "    df[\"MM\"] = df[df_labels[5]]\n",
    "    df[\"Transfers\"] = df[df_labels[2]]\n",
    "    df[\"Enrollees\"] = df[\"MM\"] / 12\n",
    "    df[\"TransfersPerEnrollee\"] = df[\"Transfers\"] / df[\"Enrollees\"]\n",
    "    df[\"TransfersPerSqrtEnrollee\"] = df[\"Transfers\"] / np.sqrt(df[\"Enrollees\"])\n",
    "    df[\"LogEnrollees\"] = np.log(df[\"Enrollees\"])\n",
    "    df[\"LogTransfers\"] = np.log(df[\"Transfers\"]**2 + 1)\n",
    "    df[\"TransfersPMM\"] = df[df_labels[2]] / df[df_labels[5]]\n",
    "    df[\"PremiumsPMM\"] = abs(df[df_labels[3]] / df[df_labels[5]])\n",
    "    df[\"CostsPMM\"] = abs(df[df_labels[4]] / df[df_labels[5]])\n",
    "    if group == \"i\":\n",
    "        df[\"ReinsurancePMM\"] = df[df_labels[7]] / df[df_labels[5]]\n",
    "        df[\"ProfitsPMM\"] = df[\"PremiumsPMM\"] - df[\"CostsPMM\"] + df[\"TransfersPMM\"] + df[\"ReinsurancePMM\"]\n",
    "        #df[\"PremMinusCostsPlusReinsurancePMM\"] = df[\"PremiumsPMM\"] - df[\"CostsPMM\"] + df[\"ReinsurancePMM\"]\n",
    "    elif group == \"sg\":\n",
    "        df[\"ProfitsPMM\"] = df[\"PremiumsPMM\"] - df[\"CostsPMM\"] + df[\"TransfersPMM\"]\n",
    "    df[\"PremMinusCostsPMM\"] = df[\"PremiumsPMM\"] - df[\"CostsPMM\"]\n",
    "    df[\"PremMinusCostsPlusTransfersPMM\"] = df[\"PremiumsPMM\"] - df[\"CostsPMM\"] + df[\"TransfersPMM\"]\n",
    "    df[\"SicknessPMM\"] = df[\"CostsPMM\"] - df[\"PremiumsPMM\"]\n",
    "    average_sickness = np.mean(df[\"SicknessPMM\"])\n",
    "    df[\"ExcessSicknessPMM\"] = df[\"SicknessPMM\"] - average_sickness\n",
    "    return df\n",
    "\n",
    "ind_data_14 = calculate_pmm(ind_data_14, ind_labels_14, \"i\")\n",
    "ind_data_15 = calculate_pmm(ind_data_15, ind_labels_15, \"i\")\n",
    "ind_data_16 = calculate_pmm(ind_data_16, ind_labels_16, \"i\")\n",
    "ind_data_17 = calculate_pmm(ind_data_17, ind_labels_17, \"sg\")\n",
    "sg_data_14 = calculate_pmm(sg_data_14, sg_labels_14, \"sg\")\n",
    "sg_data_15 = calculate_pmm(sg_data_15, sg_labels_15, \"sg\")\n",
    "sg_data_16 = calculate_pmm(sg_data_16, sg_labels_16, \"sg\")\n",
    "sg_data_17 = calculate_pmm(sg_data_17, sg_labels_17, \"sg\")"
   ]
  },
  {
   "cell_type": "code",
   "execution_count": 7,
   "metadata": {},
   "outputs": [],
   "source": [
    "# Combine the dataframes by left merging\n",
    "\n",
    "ind_data = ind_data_14.merge(ind_data_15, on='HIOS ID', how='outer', suffixes=('_14', '_15'))\\\n",
    ".merge(ind_data_16, on='HIOS ID', how='outer').merge(ind_data_17, on='HIOS ID', how='outer', suffixes=('_16', '_17'))"
   ]
  },
  {
   "cell_type": "code",
   "execution_count": 8,
   "metadata": {},
   "outputs": [],
   "source": [
    "# Do the same thing for small group\n",
    "\n",
    "sg_data = sg_data_14.merge(sg_data_15, on='HIOS ID', how='outer', suffixes=('_14', '_15'))\\\n",
    ".merge(sg_data_16, on='HIOS ID', how='outer').merge(sg_data_17, on='HIOS ID', how='outer', suffixes=('_16', '_17'))"
   ]
  },
  {
   "cell_type": "code",
   "execution_count": 9,
   "metadata": {},
   "outputs": [
    {
     "data": {
      "text/plain": [
       "(611, 85)"
      ]
     },
     "execution_count": 9,
     "metadata": {},
     "output_type": "execute_result"
    }
   ],
   "source": [
    "sg_data.shape"
   ]
  },
  {
   "cell_type": "code",
   "execution_count": 10,
   "metadata": {},
   "outputs": [],
   "source": [
    "def plot(df, label, show_graphs):\n",
    "    no_nulls = df[['LogEnrollees', 'LogTransfers']].dropna()\n",
    "    X = no_nulls[['LogEnrollees']]\n",
    "    y = no_nulls['LogTransfers']\n",
    "    X = sm.add_constant(X)\n",
    "    est = sm.OLS(y, X).fit()\n",
    "    equation = \"Log T = %f + %f * Log Enrollees\" % (est.params[0], est.params[1])\n",
    "    if show_graphs:\n",
    "        fig, ax = plt.subplots(figsize=(8,8))\n",
    "        plt.scatter(df[\"LogEnrollees\"], df[\"LogTransfers\"])\n",
    "        x = np.linspace(min(df[\"LogEnrollees\"]), max(df[\"LogEnrollees\"]), 1000)\n",
    "        plt.plot(x, est.params[0] + est.params[1] * x, label=equation)\n",
    "        plt.title(label)\n",
    "        plt.xlabel(\"Log # Enrollees\")\n",
    "        plt.ylabel(\"Log Transfers^2 + 1\")\n",
    "        plt.legend()\n",
    "        plt.show()\n",
    "    print(label)\n",
    "    print(equation)\n",
    "    \n",
    "def state(df, state):\n",
    "    return df.where(df[\"STATE\"] == state).where(df[\"LogTransfers\"] > 2).dropna()\n",
    "\n",
    "def remove_outliers(df):\n",
    "    return df.where(df[\"LogTransfers\"] > 2).dropna()"
   ]
  },
  {
   "cell_type": "code",
   "execution_count": 11,
   "metadata": {},
   "outputs": [],
   "source": [
    "def erfinv2(sample_size):# sig):\n",
    "    # erf inverse 0.5 * p/k where p=0.05\n",
    "    print(\"Sample size %d\" % (sample_size))\n",
    "    return special.erfinv(1-0.5*0.05/sample_size) * np.sqrt(2)# * sig\n",
    "\n",
    "def num_pass(df, a):\n",
    "    sample_size = df.shape[0]\n",
    "    count = 0\n",
    "    delta = erfinv2(sample_size)\n",
    "    print(\"Delta_0 % .3f\" % (delta))\n",
    "    es1 = max(abs(df[\"TransfersPerSqrtEnrollee\"])) / delta\n",
    "    print(\"Comparison es_0 = %.3f\" % (es1))\n",
    "    print(\"Comparison es_0*%.2f = %.3f\" % (a, a*es1))\n",
    "    \n",
    "    for index, row in df.iterrows():\n",
    "        t = row[\"Transfers\"]\n",
    "        n = row[\"Enrollees\"]\n",
    "        if abs(row[\"TransfersPerSqrtEnrollee\"]) < a*es1:\n",
    "            count += 1\n",
    "            print(\"T/sqrt(N)=%.3f \\t <a*es_0 Satisfied\" % (row[\"TransfersPerSqrtEnrollee\"]))\n",
    "        else:\n",
    "            print(\"T/sqrt(N)=%.3f \\t <a*es_0 NOT Satisfied \\t Distance |T/sqrt(N)|-a*es_0 %.1f \" % (row[\"TransfersPerSqrtEnrollee\"], abs(row[\"TransfersPerSqrtEnrollee\"]) - a*es1))\n",
    "    return count\n",
    "    \n",
    "def binom(k, n, p):\n",
    "    return stats.binom.cdf(k, n, p)"
   ]
  },
  {
   "cell_type": "code",
   "execution_count": 12,
   "metadata": {},
   "outputs": [],
   "source": [
    "def run_stat_test(data, label, a):\n",
    "    print(label)\n",
    "    p01 = special.erf(a/np.sqrt(2))\n",
    "    print(\"P01 = %.3f\" % (p01))\n",
    "    successes = num_pass(data, a)\n",
    "    print(\"Number of successes: %d\" % (successes))\n",
    "    print(\"P value = %.3f\" % (1- binom(successes, data.shape[0], p01)))"
   ]
  },
  {
   "cell_type": "code",
   "execution_count": 13,
   "metadata": {},
   "outputs": [],
   "source": [
    "def ratio(df, v):# sig):\n",
    "    # # of people where |d_i| < v\n",
    "    return df[\"TransfersPerSqrtEnrollee\"].where(abs(df[\"TransfersPerSqrtEnrollee\"]) < v).dropna().count() / df[\"TransfersPerSqrtEnrollee\"].count()\n",
    "\n",
    "def ratio_list(t, v):# sig):\n",
    "    # # of people where |d_i| < v\n",
    "    k = len(t)\n",
    "    t2 = [x for x in t if abs(x) < v]\n",
    "    return len(t2) / k"
   ]
  },
  {
   "cell_type": "code",
   "execution_count": 14,
   "metadata": {},
   "outputs": [],
   "source": [
    "#df = state(sg_data_14, \"NY\")\n",
    "#k = len(df)\n",
    "#v = np.linspace(0, max(df[\"TransfersPerSqrtEnrollee\"]), 1000)\n",
    "#v = v[1:len(v)-2]"
   ]
  },
  {
   "cell_type": "code",
   "execution_count": 15,
   "metadata": {},
   "outputs": [],
   "source": [
    "this_nb_state = \"NY\""
   ]
  },
  {
   "cell_type": "code",
   "execution_count": 16,
   "metadata": {},
   "outputs": [],
   "source": [
    "df2 = state(sg_data_14, this_nb_state)[\"TransfersPerSqrtEnrollee\"]\n",
    "#df2 = df2.append(state(sg_data_15, this_nb_state)[\"TransfersPerSqrtEnrollee\"]) \n",
    "#df2 = df2.append(state(sg_data_16, this_nb_state)[\"TransfersPerSqrtEnrollee\"]) \n",
    "#df2 = df2.append(state(sg_data_17, this_nb_state)[\"TransfersPerSqrtEnrollee\"])"
   ]
  },
  {
   "cell_type": "code",
   "execution_count": 17,
   "metadata": {},
   "outputs": [],
   "source": [
    "k = len(df2)\n",
    "v = np.linspace(0, max(abs(df2)), 1000)\n",
    "v = v[1:len(v)]\n",
    "\n",
    "ratios = [ratio_list(df2, vi) for vi in v]\n",
    "#print(ratios)\n",
    "begin_p = 5/k\n",
    "end_p = 1-begin_p\n",
    "start_index = 0\n",
    "end_index = 0\n",
    "for index, ratio2 in enumerate(ratios):\n",
    "    if ratio2 >= begin_p:\n",
    "        start_index = index\n",
    "        break\n",
    "    \n",
    "for index, ratio2 in enumerate(ratios):\n",
    "    if ratio2 > end_p:\n",
    "        end_index = index\n",
    "        break\n",
    "\n",
    "if end_index == 0:\n",
    "    end_index = len(v) - 1\n",
    "    \n",
    "v = v[start_index:end_index]\n",
    "\n",
    "ratios2 = ratios[start_index:end_index]\n",
    "multiplier = [np.sqrt(2)/vi for vi in v]"
   ]
  },
  {
   "cell_type": "code",
   "execution_count": 18,
   "metadata": {},
   "outputs": [
    {
     "data": {
      "text/plain": [
       "[<matplotlib.lines.Line2D at 0x1c15001dd8>]"
      ]
     },
     "execution_count": 18,
     "metadata": {},
     "output_type": "execute_result"
    },
    {
     "data": {
      "image/png": "[encoded data removed]",
      "text/plain": [
       "<Figure size 432x288 with 1 Axes>"
      ]
     },
     "metadata": {},
     "output_type": "display_data"
    }
   ],
   "source": [
    "plt.plot(v, ratios2)\n",
    "plt.plot(v, multiplier)"
   ]
  },
  {
   "cell_type": "code",
   "execution_count": 19,
   "metadata": {},
   "outputs": [
    {
     "data": {
      "text/plain": [
       "Text(0.5,1,'1/beta vs. v')"
      ]
     },
     "execution_count": 19,
     "metadata": {},
     "output_type": "execute_result"
    },
    {
     "data": {
      "image/png": "[encoded data removed]",
      "text/plain": [
       "<Figure size 432x288 with 1 Axes>"
      ]
     },
     "metadata": {},
     "output_type": "display_data"
    }
   ],
   "source": [
    "y = [multiplier[i] * special.erfinv(ratio2) for i, ratio2 in enumerate(ratios2)]\n",
    "plt.plot(v, y)\n",
    "plt.title(\"1/beta vs. v\")"
   ]
  },
  {
   "cell_type": "code",
   "execution_count": 20,
   "metadata": {},
   "outputs": [
    {
     "data": {
      "text/plain": [
       "Text(0.5,1,'beta vs. v')"
      ]
     },
     "execution_count": 20,
     "metadata": {},
     "output_type": "execute_result"
    },
    {
     "data": {
      "image/png": "[encoded data removed]",
      "text/plain": [
       "<Figure size 432x288 with 1 Axes>"
      ]
     },
     "metadata": {},
     "output_type": "display_data"
    }
   ],
   "source": [
    "beta = [1/yi for yi in y]\n",
    "plt.plot(v, beta)\n",
    "#plt.axvline(x=64432.69, color='r', linestyle='--', label=\"Point of max difference\")\n",
    "plt.title(\"beta vs. v\")"
   ]
  },
  {
   "cell_type": "code",
   "execution_count": 21,
   "metadata": {},
   "outputs": [],
   "source": [
    "# Finding the minimum beta\n",
    "# Whenever we reject a beta, we reject all betas greater than that,\n",
    "# so keep pushing beta smaller until we reach max_difference == test_statistic\n",
    "# Run test for larger data sizes (combining states, years)"
   ]
  },
  {
   "cell_type": "code",
   "execution_count": 22,
   "metadata": {},
   "outputs": [],
   "source": [
    "max_beta=max(beta)"
   ]
  },
  {
   "cell_type": "code",
   "execution_count": 23,
   "metadata": {},
   "outputs": [],
   "source": [
    "max_beta = int(max_beta/100)*100"
   ]
  },
  {
   "cell_type": "code",
   "execution_count": 24,
   "metadata": {
    "scrolled": true
   },
   "outputs": [
    {
     "name": "stdout",
     "output_type": "stream",
     "text": [
      "beta = 72600.000\n"
     ]
    },
    {
     "data": {
      "image/png": "[encoded data removed]",
      "text/plain": [
       "<Figure size 432x288 with 1 Axes>"
      ]
     },
     "metadata": {},
     "output_type": "display_data"
    }
   ],
   "source": [
    "theoretical = [special.erf(vi/(max_beta*np.sqrt(2))) for vi in v]\n",
    "\n",
    "plt.plot(v, theoretical, label=\"P(|N(0,beta^2)|<v)\")\n",
    "plt.plot(v, ratios2, label=\"P(|d_i|<v)\")\n",
    "plt.title(\"P(|N(0,beta^2)|<v) and P(|d_i|<v) vs. v for NY 2014-2017 (k=79)\")\n",
    "#plt.axvline(x=64432.69, color='r', linestyle='--', label=\"Point of max difference\")\n",
    "plt.legend()\n",
    "print(\"beta = %.3f\" % (max_beta))"
   ]
  },
  {
   "cell_type": "code",
   "execution_count": 25,
   "metadata": {},
   "outputs": [
    {
     "name": "stdout",
     "output_type": "stream",
     "text": [
      "k = 20\n",
      "test_stat at this k = 0.30368\n"
     ]
    }
   ],
   "source": [
    "print(\"k = %d\" % (len(df2)))\n",
    "\n",
    "greatest_diff = 1\n",
    "test_stat = special.kolmogi(0.05)/np.sqrt(k)\n",
    "print(\"test_stat at this k = %.5f\" % (test_stat))\n",
    "\n",
    "beta1 = max_beta\n",
    "\n",
    "while greatest_diff > test_stat:\n",
    "    theoretical = [special.erf(vi/(beta1*np.sqrt(2))) for vi in v]\n",
    "\n",
    "    Mb_index = -1\n",
    "    greatest_diff = 0\n",
    "    for i, vi in enumerate(v):\n",
    "        vb =  ratios2[i]-theoretical[i]\n",
    "        if vb > greatest_diff:\n",
    "            greatest_diff = vb\n",
    "            Mb_index = i\n",
    "\n",
    "    if greatest_diff > test_stat:\n",
    "        print(\"\\nAt the point of maximum difference with beta = %d:\" % (beta1))\n",
    "        print(\"P(|d_i|<v) = %.4f\" % (ratios2[Mb_index]))\n",
    "        print(\"P(|N(0,max_beta^2)|<v) = %.4f\" % (theoretical[Mb_index]))\n",
    "        print(\"Difference = %.4f\" % (greatest_diff))\n",
    "        #print(\"beta at this point = %.3f\" % (beta[Mb_index]))\n",
    "        #print(greatest_diff > test_stat)\n",
    "\n",
    "        print(\"\\n\\n\")\n",
    "        beta1 = beta1 - 10000"
   ]
  },
  {
   "cell_type": "code",
   "execution_count": 26,
   "metadata": {},
   "outputs": [
    {
     "name": "stdout",
     "output_type": "stream",
     "text": [
      "k = 20\n",
      "test_stat at this k = 0.30368\n"
     ]
    }
   ],
   "source": [
    "print(\"k = %d\" % (len(df2)))\n",
    "\n",
    "greatest_diff = 1\n",
    "test_stat = special.kolmogi(0.05)/np.sqrt(k)\n",
    "print(\"test_stat at this k = %.5f\" % (test_stat))\n",
    "\n",
    "beta1 = beta1 + 10000\n",
    "\n",
    "while greatest_diff > test_stat:\n",
    "    theoretical = [special.erf(vi/(beta1*np.sqrt(2))) for vi in v]\n",
    "\n",
    "    Mb_index = -1\n",
    "    greatest_diff = 0\n",
    "    for i, vi in enumerate(v):\n",
    "        vb =  ratios2[i]-theoretical[i]\n",
    "        #print(vb)\n",
    "        if vb > greatest_diff:\n",
    "            greatest_diff = abs(vb)\n",
    "            Mb_index = i\n",
    "\n",
    "    if greatest_diff > test_stat:\n",
    "        print(\"\\nAt the point of maximum difference with beta = %d:\" % (beta1))\n",
    "        print(\"P(|d_i|<v) = %.4f\" % (ratios2[Mb_index]))\n",
    "        print(\"P(|N(0,max_beta^2)|<v) = %.4f\" % (theoretical[Mb_index]))\n",
    "        print(\"Difference = %.4f\" % (greatest_diff))\n",
    "        #print(\"beta at this point = %.3f\" % (beta[Mb_index]))\n",
    "        #print(greatest_diff > test_stat)\n",
    "\n",
    "        print(\"\\n\\n\")\n",
    "        beta1 = beta1 - 100"
   ]
  },
  {
   "cell_type": "code",
   "execution_count": 27,
   "metadata": {},
   "outputs": [
    {
     "data": {
      "text/plain": [
       "<matplotlib.legend.Legend at 0x1c1605afd0>"
      ]
     },
     "execution_count": 27,
     "metadata": {},
     "output_type": "execute_result"
    },
    {
     "data": {
      "image/png": "[encoded data removed]",
      "text/plain": [
       "<Figure size 432x288 with 1 Axes>"
      ]
     },
     "metadata": {},
     "output_type": "display_data"
    }
   ],
   "source": [
    "beta1 = beta1+100\n",
    "\n",
    "theoretical = [special.erf(vi/(beta1*np.sqrt(2))) for vi in v]\n",
    "\n",
    "plt.plot(v, theoretical, label=\"P(|N(0,beta^2)|<v) beta=%d\" % (beta1))\n",
    "plt.plot(v, ratios2, label=\"P(|d_i|<v)\")\n",
    "plt.title(\"P(|N(0,beta^2)|<v) and P(|d_i|<v) vs. v for %s 2014-2017 (k=%d)\" % (this_nb_state, k))\n",
    "plt.axvline(x=v[Mb_index], color='r', linestyle='--', label=\"Point of max difference\")\n",
    "plt.legend()\n",
    "#print(\"beta = %.3f\" % (max_beta))"
   ]
  },
  {
   "cell_type": "code",
   "execution_count": 28,
   "metadata": {},
   "outputs": [
    {
     "name": "stdout",
     "output_type": "stream",
     "text": [
      "k = 20\n",
      "test_stat at this k = 0.30368\n"
     ]
    }
   ],
   "source": [
    "print(\"k = %d\" % (len(df2)))\n",
    "print(\"test_stat at this k = %.5f\" % (test_stat))"
   ]
  },
  {
   "cell_type": "code",
   "execution_count": 29,
   "metadata": {},
   "outputs": [
    {
     "data": {
      "text/plain": [
       "250795.22770848076"
      ]
     },
     "execution_count": 29,
     "metadata": {},
     "output_type": "execute_result"
    }
   ],
   "source": [
    "max(abs(df2))"
   ]
  },
  {
   "cell_type": "code",
   "execution_count": null,
   "metadata": {},
   "outputs": [],
   "source": [
    "# Note: as expected, there are no values that create a difference of 0.30, so k=20\n",
    "# is too small to show significance on this dataset."
   ]
  }
 ],
 "metadata": {
  "kernelspec": {
   "display_name": "Python 3",
   "language": "python",
   "name": "python3"
  },
  "language_info": {
   "codemirror_mode": {
    "name": "ipython",
    "version": 3
   },
   "file_extension": ".py",
   "mimetype": "text/x-python",
   "name": "python",
   "nbconvert_exporter": "python",
   "pygments_lexer": "ipython3",
   "version": "3.6.5"
  }
 },
 "nbformat": 4,
 "nbformat_minor": 2
}
