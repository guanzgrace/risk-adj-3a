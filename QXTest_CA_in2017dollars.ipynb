{
 "cells": [
  {
   "cell_type": "code",
   "execution_count": 1,
   "metadata": {},
   "outputs": [
    {
     "name": "stdout",
     "output_type": "stream",
     "text": [
      "{0: ['ME', 'IL', 'PA', 'GA', 'OK', 'DE', 'WA', 'CT', 'OH', 'VA', 'NE', 'MT', 'IN', 'CA', 'HI', 'ND', 'MD', 'SC', 'RI', 'AK', 'KY', 'WI', 'LA', 'MN', 'MS', 'WV', 'FL'], 1: ['SD', 'IL', 'PA', 'NH', 'NM', 'NV', 'OK', 'UT', 'CT', 'OH', 'VA', 'OR', 'CO', 'IN', 'HI', 'AL', 'RI', 'AK', 'LA', 'MN', 'IA', 'AR', 'WV'], 2: ['MI', 'ME', 'WY', 'DC', 'TX', 'AZ', 'NC', 'WA', 'OR', 'CO', 'MT', 'ND', 'TN', 'SC', 'AL', 'NY', 'KY', 'NJ', 'KS', 'ID', 'IA', 'AR', 'MO'], 3: ['MI', 'SD', 'WY', 'NH', 'DC', 'TX', 'GA', 'AZ', 'NM', 'NC', 'NV', 'DE', 'UT', 'NE', 'CA', 'MD', 'TN', 'NY', 'NJ', 'KS', 'WI', 'ID', 'MS', 'FL', 'MO']}\n",
      "{0: ['MI', 'SD', 'WY', 'NH', 'DC', 'TX', 'AZ', 'NM', 'NC', 'NV', 'UT', 'OR', 'CO', 'TN', 'AL', 'NY', 'NJ', 'KS', 'ID', 'IA', 'AR', 'MO'], 1: ['MI', 'ME', 'WY', 'DC', 'TX', 'GA', 'AZ', 'NC', 'DE', 'WA', 'NE', 'MT', 'CA', 'ND', 'MD', 'TN', 'SC', 'NY', 'KY', 'NJ', 'KS', 'WI', 'ID', 'MS', 'FL', 'MO'], 2: ['SD', 'IL', 'PA', 'NH', 'GA', 'NM', 'NV', 'OK', 'DE', 'UT', 'CT', 'OH', 'VA', 'NE', 'IN', 'CA', 'HI', 'MD', 'RI', 'AK', 'WI', 'LA', 'MN', 'MS', 'WV', 'FL'], 3: ['ME', 'IL', 'PA', 'OK', 'WA', 'CT', 'OH', 'VA', 'OR', 'CO', 'MT', 'IN', 'HI', 'ND', 'SC', 'AL', 'RI', 'AK', 'KY', 'LA', 'MN', 'IA', 'AR', 'WV']}\n"
     ]
    }
   ],
   "source": [
    "%run ../StatTest2_WithSimulation_Setup.ipynb"
   ]
  },
  {
   "cell_type": "code",
   "execution_count": 2,
   "metadata": {},
   "outputs": [],
   "source": [
    "###################\n",
    "# LOCAL VARIABLES #\n",
    "###################\n",
    "\n",
    "states = [\"CA\"]\n",
    "state_label = \"CA\"\n",
    "t_file = \"npy/\" + state_label + \"_simulated_transfers.npy\"\n",
    "d_file = \"npy/\" + state_label + \"_simulated_transfers_over_sqrtn.npy\"\n",
    "big_j = 10**5\n",
    "this_beta = 86660 # beta from the KS test experiments"
   ]
  },
  {
   "cell_type": "code",
   "execution_count": 3,
   "metadata": {
    "scrolled": true
   },
   "outputs": [
    {
     "name": "stderr",
     "output_type": "stream",
     "text": [
      "/anaconda3/lib/python3.6/site-packages/IPython/core/interactiveshell.py:2785: DtypeWarning: Columns (1,2,52,323,649,882,932,1092,1202) have mixed types. Specify dtype option on import or set low_memory=False.\n",
      "  interactivity=interactivity, compiler=compiler, result=result)\n",
      "/anaconda3/lib/python3.6/site-packages/IPython/core/interactiveshell.py:2785: DtypeWarning: Columns (1,2,57,204,341,376,377,396,430,431,928,944,1006,1013,1151,1160,1169,1179,1411) have mixed types. Specify dtype option on import or set low_memory=False.\n",
      "  interactivity=interactivity, compiler=compiler, result=result)\n",
      "/anaconda3/lib/python3.6/site-packages/IPython/core/interactiveshell.py:2785: DtypeWarning: Columns (1,2,17,163,355,406,702,835,847,1083,1156,1183,1185,1200) have mixed types. Specify dtype option on import or set low_memory=False.\n",
      "  interactivity=interactivity, compiler=compiler, result=result)\n"
     ]
    }
   ],
   "source": [
    "data2014 = pd.read_csv(\"../0-Our_Dataset/2014dataset.csv\")\n",
    "data2015 = pd.read_csv(\"../0-Our_Dataset/2015dataset.csv\")\n",
    "data2016 = pd.read_csv(\"../0-Our_Dataset/2016dataset.csv\")\n",
    "data2017 = pd.read_csv(\"../0-Our_Dataset/2017dataset.csv\")"
   ]
  },
  {
   "cell_type": "code",
   "execution_count": 4,
   "metadata": {},
   "outputs": [],
   "source": [
    "# Create the labels.\n",
    "# By index:\n",
    "# label 2 is transfers\n",
    "# label 3 is premiums\n",
    "# label 4 is costs\n",
    "# label 5 is member months\n",
    "# label 6 is reinsurance (individual group only)\n",
    "\n",
    "ind_labels_14 = [\"HIOS ID\", \"HIOS INPUTTED INSURANCE COMPANY NAME\",\n",
    "                  \"HHS RISK ADJUSTMENT TRANSFER AMOUNT (INDIVIDUAL MARKET, INCLUDING CATASTROPHIC)\",\n",
    "                  \"1.1Directpremiumwritten2HealthInsuranceINDIVIDUALTotalasof3/31/15\",\n",
    "                  \"2.16Totalincurredclaims2HealthInsuranceINDIVIDUALTotalasof3/31/15\",\n",
    "                  \"7.4Membermonths2HealthInsuranceINDIVIDUALTotalasof3/31/15\",\n",
    "                  \"STATE\", \"REINSURANCE PAYMENT AMOUNT (OR NOT ELIGIBLE)\"] # no more reinsurance as of 2017\n",
    "ind_labels_15 = [label.replace('15', '16') for label in ind_labels_14]\n",
    "ind_labels_16 = [label.replace('15', '17') for label in ind_labels_14]\n",
    "ind_labels_17 = [label.replace('15', '18') for label in ind_labels_14][:-1]\n",
    "\n",
    "sg_labels_14 = [\"HIOS ID\", \"HIOS INPUTTED INSURANCE COMPANY NAME\",\n",
    "                 \"HHS RISK ADJUSTMENT TRANSFERS AMOUNT (SMALL GROUP MARKET)\",\n",
    "                  \"1.1Directpremiumwritten7HealthInsuranceSMALLGROUPTotalasof3/31/15\",\n",
    "                  \"2.16Totalincurredclaims7HealthInsuranceSMALLGROUPTotalasof3/31/15\",\n",
    "                  \"7.4Membermonths7HealthInsuranceSMALLGROUPTotalasof3/31/15\", \"STATE\"]\n",
    "sg_labels_15 = [label.replace('15', '16') for label in sg_labels_14]\n",
    "sg_labels_16 = [label.replace('15', '17') for label in sg_labels_14]\n",
    "sg_labels_17 = [label.replace('15', '18') for label in sg_labels_14]"
   ]
  },
  {
   "cell_type": "code",
   "execution_count": 5,
   "metadata": {},
   "outputs": [],
   "source": [
    "# Filter the data to include only the fields we want\n",
    "\n",
    "ind_data_14 = data2014[ind_labels_14].dropna()\n",
    "ind_data_15 = data2015[ind_labels_15].dropna()\n",
    "ind_data_16 = data2016[ind_labels_16].dropna()\n",
    "ind_data_17 = data2017[ind_labels_17].dropna()\n",
    "sg_data_14 = data2014[sg_labels_14].dropna()\n",
    "sg_data_15 = data2015[sg_labels_15].dropna()\n",
    "sg_data_16 = data2016[sg_labels_16].dropna()\n",
    "sg_data_17 = data2017[sg_labels_17].dropna()"
   ]
  },
  {
   "cell_type": "code",
   "execution_count": 6,
   "metadata": {},
   "outputs": [],
   "source": [
    "# Drop companies with <2000 MM\n",
    "ind_data_14 = ind_data_14.where(ind_data_14[ind_labels_14[5]] > 2000).dropna()\n",
    "ind_data_15 = ind_data_15.where(ind_data_15[ind_labels_15[5]] > 2000).dropna()\n",
    "ind_data_16 = ind_data_16.where(ind_data_16[ind_labels_16[5]] > 2000).dropna()\n",
    "ind_data_17 = ind_data_17.where(ind_data_17[ind_labels_17[5]] > 2000).dropna()\n",
    "sg_data_14 = sg_data_14.where(sg_data_14[sg_labels_14[5]] > 2000).dropna()\n",
    "sg_data_15 = sg_data_15.where(sg_data_15[sg_labels_15[5]] > 2000).dropna()\n",
    "sg_data_16 = sg_data_16.where(sg_data_16[sg_labels_16[5]] > 2000).dropna()\n",
    "sg_data_17 = sg_data_17.where(sg_data_17[sg_labels_17[5]] > 2000).dropna()"
   ]
  },
  {
   "cell_type": "code",
   "execution_count": 7,
   "metadata": {},
   "outputs": [],
   "source": [
    "# Calculate transfers, premiums, costs, and reinsurance (if individual group) per member month\n",
    "def calculate_pmm(df, df_labels, group):\n",
    "    df[\"MM\"] = df[df_labels[5]]\n",
    "    df[\"Transfers\"] = df[df_labels[2]]\n",
    "    df[\"TotalCosts\"] = abs(df[df_labels[4]])\n",
    "    df[\"Enrollees\"] = df[\"MM\"] / 12\n",
    "    df[\"TransfersPerEnrollee\"] = df[\"Transfers\"] / df[\"Enrollees\"]\n",
    "    df[\"TransfersPerSqrtEnrollee\"] = df[\"Transfers\"] / np.sqrt(df[\"Enrollees\"])\n",
    "    df[\"LogEnrollees\"] = np.log(df[\"Enrollees\"])\n",
    "    df[\"LogTransfers\"] = np.log(df[\"Transfers\"]**2 + 1)\n",
    "    df[\"TransfersPMM\"] = df[df_labels[2]] / df[df_labels[5]]\n",
    "    df[\"PremiumsPMM\"] = abs(df[df_labels[3]] / df[df_labels[5]])\n",
    "    df[\"CostsPMM\"] = abs(df[df_labels[4]] / df[df_labels[5]])\n",
    "    if group == \"i\":\n",
    "        df[\"ReinsurancePMM\"] = df[df_labels[7]] / df[df_labels[5]]\n",
    "        df[\"ProfitsPMM\"] = df[\"PremiumsPMM\"] - df[\"CostsPMM\"] + df[\"TransfersPMM\"] + df[\"ReinsurancePMM\"]\n",
    "        #df[\"PremMinusCostsPlusReinsurancePMM\"] = df[\"PremiumsPMM\"] - df[\"CostsPMM\"] + df[\"ReinsurancePMM\"]\n",
    "    elif group == \"sg\":\n",
    "        df[\"ProfitsPMM\"] = df[\"PremiumsPMM\"] - df[\"CostsPMM\"] + df[\"TransfersPMM\"]\n",
    "    df[\"PremMinusCostsPMM\"] = df[\"PremiumsPMM\"] - df[\"CostsPMM\"]\n",
    "    df[\"PremMinusCostsPlusTransfersPMM\"] = df[\"PremiumsPMM\"] - df[\"CostsPMM\"] + df[\"TransfersPMM\"]\n",
    "    df[\"SicknessPMM\"] = df[\"CostsPMM\"] - df[\"PremiumsPMM\"]\n",
    "    average_sickness = np.mean(df[\"SicknessPMM\"])\n",
    "    df[\"ExcessSicknessPMM\"] = df[\"SicknessPMM\"] - average_sickness\n",
    "    return df\n",
    "\n",
    "ind_data_14 = calculate_pmm(ind_data_14, ind_labels_14, \"i\")\n",
    "ind_data_15 = calculate_pmm(ind_data_15, ind_labels_15, \"i\")\n",
    "ind_data_16 = calculate_pmm(ind_data_16, ind_labels_16, \"i\")\n",
    "ind_data_17 = calculate_pmm(ind_data_17, ind_labels_17, \"sg\")\n",
    "sg_data_14 = calculate_pmm(sg_data_14, sg_labels_14, \"sg\")\n",
    "sg_data_15 = calculate_pmm(sg_data_15, sg_labels_15, \"sg\")\n",
    "sg_data_16 = calculate_pmm(sg_data_16, sg_labels_16, \"sg\")\n",
    "sg_data_17 = calculate_pmm(sg_data_17, sg_labels_17, \"sg\")"
   ]
  },
  {
   "cell_type": "code",
   "execution_count": 8,
   "metadata": {},
   "outputs": [],
   "source": [
    "# Combine the dataframes by left merging\n",
    "\n",
    "ind_data = ind_data_14.merge(ind_data_15, on='HIOS ID', how='outer', suffixes=('_14', '_15'))\\\n",
    ".merge(ind_data_16, on='HIOS ID', how='outer').merge(ind_data_17, on='HIOS ID', how='outer', suffixes=('_16', '_17'))"
   ]
  },
  {
   "cell_type": "code",
   "execution_count": 9,
   "metadata": {},
   "outputs": [],
   "source": [
    "# Do the same thing for small group\n",
    "\n",
    "sg_data = sg_data_14.merge(sg_data_15, on='HIOS ID', how='outer', suffixes=('_14', '_15'))\\\n",
    ".merge(sg_data_16, on='HIOS ID', how='outer').merge(sg_data_17, on='HIOS ID', how='outer', suffixes=('_16', '_17'))"
   ]
  },
  {
   "cell_type": "code",
   "execution_count": 10,
   "metadata": {},
   "outputs": [],
   "source": [
    "dfs = [sg_data_14, sg_data_15, sg_data_16, sg_data_17]"
   ]
  },
  {
   "cell_type": "code",
   "execution_count": 11,
   "metadata": {},
   "outputs": [
    {
     "name": "stdout",
     "output_type": "stream",
     "text": [
      "Cbar is 4398.953\n",
      "CA 14 Ratio is 1.154\n",
      "CA 15 Ratio is 1.117\n",
      "CA 16 Ratio is 1.051\n",
      "CA 17 Ratio is 1.015\n",
      "Empirical Transfers Sum = 2043400167.669\n"
     ]
    }
   ],
   "source": [
    "dfs_new, empirical_transfers_sum = normalize_empirical_data_to_avg_2017_dollars(dfs, states)"
   ]
  },
  {
   "cell_type": "code",
   "execution_count": 12,
   "metadata": {},
   "outputs": [],
   "source": [
    "for df_temp in dfs_new:\n",
    "    df_temp[\"TransfersNormalizedPerSqrtEnrollee\"] = df_temp[\"TransfersNormalized\"] / np.sqrt(df_temp[\"Enrollees\"])"
   ]
  },
  {
   "cell_type": "code",
   "execution_count": 13,
   "metadata": {},
   "outputs": [
    {
     "name": "stdout",
     "output_type": "stream",
     "text": [
      "61\n",
      "61\n",
      "Executed in 0.589 s\n"
     ]
    }
   ],
   "source": [
    "start_cost_matrix = time.time()\n",
    "\n",
    "stateyear_to_df = dict()\n",
    "stateyear_to_random = dict()\n",
<<<<<<< HEAD
    "\n",
    "c_bar = 4398.953\n",
=======
>>>>>>> 6136e7a2a5c3a30ff4fc5f603a5e52ae506c3fbd
    "    \n",
    "sum_sqrt_a = 0\n",
    "cost_matrix_sum = 0\n",
    "df_sum = 0\n",
    "for current_state in states:\n",
    "    for df_index in range(4):\n",
    "        label = current_state + df_index_to_year[df_index]\n",
    "        this_df = state(dfs[df_index], current_state)\n",
    "        if len(this_df) > 0:\n",
    "            sum_n = sum(this_df[\"Enrollees\"])\n",
    "            this_df[\"sum_n_minus_n_i\"] = sum_n - this_df[\"Enrollees\"]\n",
    "            this_df[\"a\"] = this_df[\"Enrollees\"] * (this_df[\"sum_n_minus_n_i\"] / sum_n)**2 + this_df[\"sum_n_minus_n_i\"] * (this_df[\"Enrollees\"] / sum_n)**2\n",
    "            this_df[\"sqrt_a\"] = np.sqrt(this_df[\"a\"])\n",
<<<<<<< HEAD
    "            c_stateyear = sum(this_df[\"TotalCosts\"]) / sum(this_df[\"Enrollees\"])\n",
    "            \n",
    "            cost_matrix = [np.random.normal(0, sqrta, 10**5) for sqrta in this_df[\"sqrt_a\"]]\n",
    "            cost_matrix = np.array(cost_matrix) * c_bar / c_stateyear\n",
    "            \n",
    "            cost_matrix_sum = cost_matrix_sum + len(cost_matrix)\n",
    "            df_sum = df_sum + len(this_df[\"sqrt_a\"])\n",
    "            sum_sqrt_a = sum_sqrt_a + sum(this_df[\"sqrt_a\"])\n",
=======
    "            \n",
    "            cost_matrix = [np.random.normal(0, sqrta, 10**5) for sqrta in this_df[\"sqrt_a\"]]\n",
    "            cost_matrix_sum = cost_matrix_sum + len(cost_matrix)\n",
    "            df_sum = df_sum + len(this_df[\"sqrt_a\"])\n",
    "            sum_sqrt_a = sum_sqrt_a + sum(this_df[\"sqrt_a\"])\n",
    "            #this_df[\"sim_distr\"] = np.random.normal(0, this_df[\"sqrt_a\"], 10000)\n",
>>>>>>> 6136e7a2a5c3a30ff4fc5f603a5e52ae506c3fbd
    "            stateyear_to_df[label] = this_df\n",
    "            stateyear_to_random[label] = np.array(cost_matrix)\n",
    "end_cost_matrix = time.time()\n",
    "            \n",
    "print(cost_matrix_sum)\n",
    "print(df_sum)\n",
    "print(\"Executed in %.3f s\" % (end_cost_matrix - start_cost_matrix))"
   ]
  },
  {
   "cell_type": "code",
   "execution_count": 14,
   "metadata": {},
   "outputs": [],
   "source": [
    "lab = \"TransfersNormalizedPerSqrtEnrollee\"\n",
    "\n",
    "\n",
    "abs_empirical_di = np.absolute(np.concatenate((np.array(dfs_new[0][lab]),\n",
    "                                               np.array(dfs_new[1][lab]),\n",
    "                                               np.array(dfs_new[2][lab]),\n",
    "                                               np.array(dfs_new[3][lab]))))\n",
    "sorted_abs_empirical_di = np.sort(abs_empirical_di)"
   ]
  },
  {
   "cell_type": "code",
<<<<<<< HEAD
   "execution_count": 15,
=======
   "execution_count": null,
>>>>>>> 6136e7a2a5c3a30ff4fc5f603a5e52ae506c3fbd
   "metadata": {
    "scrolled": true
   },
   "outputs": [
    {
     "name": "stdout",
     "output_type": "stream",
     "text": [
      "0 iterations completed in 0.0 s\n",
<<<<<<< HEAD
      "10000 iterations completed in 70.3 s\n",
      "20000 iterations completed in 65.8 s\n",
      "30000 iterations completed in 66.1 s\n",
      "40000 iterations completed in 66.5 s\n",
      "50000 iterations completed in 67.2 s\n",
      "60000 iterations completed in 66.6 s\n",
      "70000 iterations completed in 62.8 s\n",
      "80000 iterations completed in 64.9 s\n",
      "90000 iterations completed in 64.8 s\n"
=======
      "10000 iterations completed in 70.3 s\n"
>>>>>>> 6136e7a2a5c3a30ff4fc5f603a5e52ae506c3fbd
     ]
    }
   ],
   "source": [
    "beta = 40000\n",
    "pval = 0.01\n",
    "k = len(sorted_abs_empirical_di)\n",
<<<<<<< HEAD
    "all_transfers, all_di = apr_test_imbalances_2017_NEW(stateyear_to_df, stateyear_to_random, beta, k, big_j)"
=======
    "all_transfers, all_di = apr_test_imbalances_2017(stateyear_to_df, stateyear_to_random, beta, k, big_j)"
>>>>>>> 6136e7a2a5c3a30ff4fc5f603a5e52ae506c3fbd
   ]
  },
  {
   "cell_type": "code",
<<<<<<< HEAD
   "execution_count": 16,
   "metadata": {},
   "outputs": [],
   "source": [
    "np.save(t_file, all_transfers[0:1000])\n",
    "np.save(d_file, all_di[0:1000])"
=======
   "execution_count": null,
   "metadata": {},
   "outputs": [],
   "source": [
    "np.save(t_file, all_transfers)\n",
    "np.save(d_file, all_di)"
>>>>>>> 6136e7a2a5c3a30ff4fc5f603a5e52ae506c3fbd
   ]
  },
  {
   "cell_type": "code",
<<<<<<< HEAD
   "execution_count": 17,
   "metadata": {},
   "outputs": [],
   "source": [
    "simulated_transfers = all_transfers\n",
    "simulated_di = all_di"
=======
   "execution_count": null,
   "metadata": {},
   "outputs": [],
   "source": [
    "simulated_transfers = np.load(t_file)\n",
    "simulated_di = np.load(d_file)"
>>>>>>> 6136e7a2a5c3a30ff4fc5f603a5e52ae506c3fbd
   ]
  },
  {
   "cell_type": "code",
<<<<<<< HEAD
   "execution_count": 18,
   "metadata": {},
   "outputs": [
    {
     "name": "stdout",
     "output_type": "stream",
     "text": [
      "P10Empirical = 8121.811\n",
      "P15Empirical = 10122.066\n",
      "P20Empirical = 11346.572\n"
     ]
    }
   ],
=======
   "execution_count": null,
   "metadata": {},
   "outputs": [],
>>>>>>> 6136e7a2a5c3a30ff4fc5f603a5e52ae506c3fbd
   "source": [
    "percentile_idx = int(len(sorted_abs_empirical_di) * 0.10)\n",
    "p10empirical = sorted_abs_empirical_di[percentile_idx]\n",
    "print(\"P10Empirical = %.3f\" % (p10empirical))\n",
    "\n",
    "percentile_idx = int(len(sorted_abs_empirical_di) * 0.15)\n",
    "p15empirical = sorted_abs_empirical_di[percentile_idx]\n",
    "print(\"P15Empirical = %.3f\" % (p15empirical))\n",
    "\n",
    "percentile_idx = int(len(sorted_abs_empirical_di) * 0.2)\n",
    "p20empirical = sorted_abs_empirical_di[percentile_idx]\n",
    "print(\"P20Empirical = %.3f\" % (p20empirical))"
   ]
  },
  {
   "cell_type": "code",
<<<<<<< HEAD
   "execution_count": 19,
=======
   "execution_count": null,
>>>>>>> 6136e7a2a5c3a30ff4fc5f603a5e52ae506c3fbd
   "metadata": {},
   "outputs": [],
   "source": [
    "abs_simulated_di = np.absolute(simulated_di)  \n",
    "sorted_abs_simulated_di = np.sort(abs_simulated_di, axis=1)"
   ]
  },
  {
   "cell_type": "code",
<<<<<<< HEAD
   "execution_count": 20,
=======
   "execution_count": null,
>>>>>>> 6136e7a2a5c3a30ff4fc5f603a5e52ae506c3fbd
   "metadata": {},
   "outputs": [],
   "source": [
    "def calculate_beta_from_x(x):\n",
    "    percentile_idx = int(k * x)\n",
    "    px_empirical = sorted_abs_empirical_di[percentile_idx]\n",
    "    pxs = sorted_abs_simulated_di[:,percentile_idx]\n",
    "    sorted_pxs = np.sort(pxs)\n",
    "    px_idx = int((pval)*big_j)\n",
    "    qx = sorted_pxs[px_idx]\n",
    "    beta = px_empirical * 40000 / qx\n",
    "    print(\"x = %.2f, beta = %.3f\" % (x, beta))\n",
    "    return beta"
   ]
  },
  {
   "cell_type": "code",
<<<<<<< HEAD
   "execution_count": 21,
   "metadata": {},
   "outputs": [
    {
     "name": "stdout",
     "output_type": "stream",
     "text": [
      "x = 0.10, beta = 179925.597\n",
      "x = 0.12, beta = 154118.233\n",
      "x = 0.15, beta = 123701.618\n",
      "x = 0.17, beta = 115044.315\n",
      "x = 0.20, beta = 93505.892\n"
     ]
    }
   ],
=======
   "execution_count": null,
   "metadata": {},
   "outputs": [],
>>>>>>> 6136e7a2a5c3a30ff4fc5f603a5e52ae506c3fbd
   "source": [
    "xs = [0.1, 0.125, 0.15, 0.175, 0.2]\n",
    "min_beta = 100000\n",
    "min_x = 0\n",
    "for x in xs:\n",
    "    beta = calculate_beta_from_x(x)\n",
    "    if beta < min_beta:\n",
    "        min_beta = beta\n",
    "        min_x = x"
   ]
  },
  {
   "cell_type": "code",
<<<<<<< HEAD
   "execution_count": 22,
=======
   "execution_count": null,
>>>>>>> 6136e7a2a5c3a30ff4fc5f603a5e52ae506c3fbd
   "metadata": {},
   "outputs": [],
   "source": [
    "df2 = create_df2(states, dfs_new, \"TransfersNormalizedPerSqrtEnrollee\")\n",
    "k = len(df2)\n",
    "v = np.linspace(0, max(abs(df2)), 10000)\n",
    "v = v[1:len(v)]\n",
    "\n",
    "ratios = [ratio_list(df2, vi) for vi in v]\n",
    "begin_p = 5/k\n",
    "end_p = 1-begin_p\n",
    "start_index = 0\n",
    "end_index = 0\n",
    "for index, ratio2 in enumerate(ratios):\n",
    "    if ratio2 >= begin_p:\n",
    "        start_index = index\n",
    "        break\n",
    "    \n",
    "for index, ratio2 in enumerate(ratios):\n",
    "    if ratio2 > end_p:\n",
    "        end_index = index\n",
    "        break\n",
    "\n",
    "if end_index == 0:\n",
    "    end_index = len(v) - 1\n",
    "    \n",
    "v = v[start_index:end_index]\n",
    "\n",
    "ratios2 = ratios[start_index:end_index]\n",
    "ratios_sim1 = [ratio_list(all_di[0] * min_beta / 40000, vi) for vi in v]\n",
    "ratios_sim2 = [ratio_list(all_di[1] * min_beta / 40000, vi) for vi in v]\n",
    "ratios_sim3 = [ratio_list(all_di[2] * min_beta / 40000, vi) for vi in v]"
   ]
  },
  {
   "cell_type": "code",
<<<<<<< HEAD
   "execution_count": 23,
   "metadata": {},
   "outputs": [
    {
     "data": {
      "image/png": "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\n",
      "text/plain": [
       "<Figure size 720x504 with 1 Axes>"
      ]
     },
     "metadata": {},
     "output_type": "display_data"
    }
   ],
=======
   "execution_count": null,
   "metadata": {},
   "outputs": [],
>>>>>>> 6136e7a2a5c3a30ff4fc5f603a5e52ae506c3fbd
   "source": [
    "plt.figure(figsize=(10, 7))\n",
    "plt.plot(v, ratios_sim1, label=\"Sample Simulation 1\", color='b')\n",
    "plt.plot(v, ratios_sim2, label=\"Sample Simulation 2\", color='c')\n",
    "plt.plot(v, ratios_sim3, label=\"Sample Simulation 3\", color='cornflowerblue')\n",
    "plt.plot(v, ratios2, label=\"P(|d_i|<v) (empirical)\", color='darkorange')\n",
    "plt.title(\"Q_x Simulation with beta=%d and P(|d_i|<v) vs. v for %s 2014-2017 (k=%d)\" % (min_beta, state_label, len(df2)))\n",
    "plt.xlabel(\"v\")\n",
    "plt.ylabel(\"CDF\")\n",
    "plt.axhline(y=0.1, color='yellowgreen', linestyle='--', label=\"0.1\")\n",
    "plt.axhline(y=0.15, color='lime', linestyle='--', label=\"0.15\")\n",
    "plt.axhline(y=0.2, color='mediumseagreen', linestyle='--', label=\"0.2\")\n",
    "plt.legend()\n",
    "plt.show()"
   ]
  },
  {
   "cell_type": "code",
<<<<<<< HEAD
   "execution_count": 24,
   "metadata": {},
   "outputs": [
    {
     "data": {
      "image/png": "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\n",
      "text/plain": [
       "<Figure size 720x504 with 1 Axes>"
      ]
     },
     "metadata": {},
     "output_type": "display_data"
    }
   ],
=======
   "execution_count": null,
   "metadata": {},
   "outputs": [],
>>>>>>> 6136e7a2a5c3a30ff4fc5f603a5e52ae506c3fbd
   "source": [
    "plt.figure(figsize=(10, 7))\n",
    "plt.plot(v, ratios_sim1, label=\"Sample Simulation 1\", color='b')\n",
    "plt.plot(v, ratios_sim2, label=\"Sample Simulation 2\", color='c')\n",
    "plt.plot(v, ratios_sim3, label=\"Sample Simulation 3\", color='cornflowerblue')\n",
    "plt.plot(v, ratios2, label=\"P(|d_i|<v) (empirical)\", color='darkorange')\n",
    "plt.title(\"Q_%d Simulation with beta=%d and P(|d_i|<v) vs. v for %s 2014-2017 (k=%d)\" % (min_x * 100, min_beta, state_label, len(df2)))\n",
    "plt.axhline(y=min_x, color='g', linestyle='--', label=str(min_x))\n",
    "plt.legend()\n",
    "plt.xlim((2000, 20000))\n",
    "plt.xlabel(\"v\")\n",
    "plt.ylabel(\"CDF\")\n",
    "plt.show()"
   ]
  },
  {
   "cell_type": "code",
<<<<<<< HEAD
   "execution_count": 25,
   "metadata": {},
   "outputs": [
    {
     "name": "stdout",
     "output_type": "stream",
     "text": [
      "Beta (=std): 93505\n",
      "Number of T/sqrt(n) above 2 stds: 7\n",
      "Proportion of T/sqrt(n) above 2 stds: 0.115\n",
      "P value = 0.006278\n"
     ]
    }
   ],
=======
   "execution_count": null,
   "metadata": {},
   "outputs": [],
>>>>>>> 6136e7a2a5c3a30ff4fc5f603a5e52ae506c3fbd
   "source": [
    "run_binom_stat_test2(min_beta, df2.values)"
   ]
  },
  {
   "cell_type": "code",
<<<<<<< HEAD
   "execution_count": 26,
   "metadata": {},
   "outputs": [
    {
     "name": "stdout",
     "output_type": "stream",
     "text": [
      "Sum of Empirical Transfers\n",
      "2043400167.669\n",
      "Average Sum of Simulated Transfers\n",
      "416026610.044\n",
      "Empirical/Simulated Ratio\n",
      "4.912\n"
     ]
    }
   ],
=======
   "execution_count": null,
   "metadata": {},
   "outputs": [],
>>>>>>> 6136e7a2a5c3a30ff4fc5f603a5e52ae506c3fbd
   "source": [
    "print(\"Sum of Empirical Transfers\")\n",
    "print(\"%.3f\" % (empirical_transfers_sum))\n",
    "\n",
    "print(\"Average Sum of Simulated Transfers\")\n",
    "simulated_transfers_sum = np.mean(np.sum(np.absolute(simulated_transfers * this_beta / 100000), axis=1))\n",
    "print(\"%.3f\" % (simulated_transfers_sum))\n",
    "\n",
    "print(\"Empirical/Simulated Ratio\")\n",
    "print(\"%.3f\" % (empirical_transfers_sum / simulated_transfers_sum))"
   ]
  },
  {
   "cell_type": "code",
   "execution_count": null,
   "metadata": {},
   "outputs": [],
   "source": []
  }
 ],
 "metadata": {
  "kernelspec": {
   "display_name": "Python 3",
   "language": "python",
   "name": "python3"
  },
  "language_info": {
   "codemirror_mode": {
    "name": "ipython",
    "version": 3
   },
   "file_extension": ".py",
   "mimetype": "text/x-python",
   "name": "python",
   "nbconvert_exporter": "python",
   "pygments_lexer": "ipython3",
   "version": "3.6.5"
  }
 },
 "nbformat": 4,
 "nbformat_minor": 2
}
