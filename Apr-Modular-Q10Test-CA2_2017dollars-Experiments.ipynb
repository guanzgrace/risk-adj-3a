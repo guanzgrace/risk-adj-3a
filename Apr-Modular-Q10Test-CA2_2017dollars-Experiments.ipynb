{
 "cells": [
  {
   "cell_type": "code",
   "execution_count": 1,
   "metadata": {},
   "outputs": [
    {
     "name": "stdout",
     "output_type": "stream",
     "text": [
      "{0: ['ME', 'IL', 'PA', 'GA', 'OK', 'DE', 'WA', 'CT', 'OH', 'VA', 'NE', 'MT', 'IN', 'CA', 'HI', 'ND', 'MD', 'SC', 'RI', 'AK', 'KY', 'WI', 'LA', 'MN', 'MS', 'WV', 'FL'], 1: ['SD', 'IL', 'PA', 'NH', 'NM', 'NV', 'OK', 'UT', 'CT', 'OH', 'VA', 'OR', 'CO', 'IN', 'HI', 'AL', 'RI', 'AK', 'LA', 'MN', 'IA', 'AR', 'WV'], 2: ['MI', 'ME', 'WY', 'DC', 'TX', 'AZ', 'NC', 'WA', 'OR', 'CO', 'MT', 'ND', 'TN', 'SC', 'AL', 'NY', 'KY', 'NJ', 'KS', 'ID', 'IA', 'AR', 'MO'], 3: ['MI', 'SD', 'WY', 'NH', 'DC', 'TX', 'GA', 'AZ', 'NM', 'NC', 'NV', 'DE', 'UT', 'NE', 'CA', 'MD', 'TN', 'NY', 'NJ', 'KS', 'WI', 'ID', 'MS', 'FL', 'MO']}\n",
      "{0: ['MI', 'SD', 'WY', 'NH', 'DC', 'TX', 'AZ', 'NM', 'NC', 'NV', 'UT', 'OR', 'CO', 'TN', 'AL', 'NY', 'NJ', 'KS', 'ID', 'IA', 'AR', 'MO'], 1: ['MI', 'ME', 'WY', 'DC', 'TX', 'GA', 'AZ', 'NC', 'DE', 'WA', 'NE', 'MT', 'CA', 'ND', 'MD', 'TN', 'SC', 'NY', 'KY', 'NJ', 'KS', 'WI', 'ID', 'MS', 'FL', 'MO'], 2: ['SD', 'IL', 'PA', 'NH', 'GA', 'NM', 'NV', 'OK', 'DE', 'UT', 'CT', 'OH', 'VA', 'NE', 'IN', 'CA', 'HI', 'MD', 'RI', 'AK', 'WI', 'LA', 'MN', 'MS', 'WV', 'FL'], 3: ['ME', 'IL', 'PA', 'OK', 'WA', 'CT', 'OH', 'VA', 'OR', 'CO', 'MT', 'IN', 'HI', 'ND', 'SC', 'AL', 'RI', 'AK', 'KY', 'LA', 'MN', 'IA', 'AR', 'WV']}\n"
     ]
    }
   ],
   "source": [
    "%run StatTest2_WithSimulation_Setup.ipynb"
   ]
  },
  {
   "cell_type": "code",
   "execution_count": 2,
   "metadata": {
    "scrolled": true
   },
   "outputs": [
    {
     "name": "stderr",
     "output_type": "stream",
     "text": [
      "/anaconda3/lib/python3.6/site-packages/IPython/core/interactiveshell.py:2785: DtypeWarning: Columns (1,2,52,323,649,882,932,1092,1202) have mixed types. Specify dtype option on import or set low_memory=False.\n",
      "  interactivity=interactivity, compiler=compiler, result=result)\n",
      "/anaconda3/lib/python3.6/site-packages/IPython/core/interactiveshell.py:2785: DtypeWarning: Columns (1,2,57,204,341,376,377,396,430,431,928,944,1006,1013,1151,1160,1169,1179,1411) have mixed types. Specify dtype option on import or set low_memory=False.\n",
      "  interactivity=interactivity, compiler=compiler, result=result)\n",
      "/anaconda3/lib/python3.6/site-packages/IPython/core/interactiveshell.py:2785: DtypeWarning: Columns (1,2,17,163,355,406,702,835,847,1083,1156,1183,1185,1200) have mixed types. Specify dtype option on import or set low_memory=False.\n",
      "  interactivity=interactivity, compiler=compiler, result=result)\n"
     ]
    }
   ],
   "source": [
    "data2014 = pd.read_csv(\"Our_Dataset/2014dataset.csv\")\n",
    "data2015 = pd.read_csv(\"Our_Dataset/2015dataset.csv\")\n",
    "data2016 = pd.read_csv(\"Our_Dataset/2016dataset.csv\")\n",
    "data2017 = pd.read_csv(\"Our_Dataset/2017dataset.csv\")"
   ]
  },
  {
   "cell_type": "code",
   "execution_count": 3,
   "metadata": {},
   "outputs": [],
   "source": [
    "# Create the labels.\n",
    "# By index:\n",
    "# label 2 is transfers\n",
    "# label 3 is premiums\n",
    "# label 4 is costs\n",
    "# label 5 is member months\n",
    "# label 6 is reinsurance (individual group only)\n",
    "\n",
    "ind_labels_14 = [\"HIOS ID\", \"HIOS INPUTTED INSURANCE COMPANY NAME\",\n",
    "                  \"HHS RISK ADJUSTMENT TRANSFER AMOUNT (INDIVIDUAL MARKET, INCLUDING CATASTROPHIC)\",\n",
    "                  \"1.1Directpremiumwritten2HealthInsuranceINDIVIDUALTotalasof3/31/15\",\n",
    "                  \"2.16Totalincurredclaims2HealthInsuranceINDIVIDUALTotalasof3/31/15\",\n",
    "                  \"7.4Membermonths2HealthInsuranceINDIVIDUALTotalasof3/31/15\",\n",
    "                  \"STATE\", \"REINSURANCE PAYMENT AMOUNT (OR NOT ELIGIBLE)\"] # no more reinsurance as of 2017\n",
    "ind_labels_15 = [label.replace('15', '16') for label in ind_labels_14]\n",
    "ind_labels_16 = [label.replace('15', '17') for label in ind_labels_14]\n",
    "ind_labels_17 = [label.replace('15', '18') for label in ind_labels_14][:-1]\n",
    "\n",
    "sg_labels_14 = [\"HIOS ID\", \"HIOS INPUTTED INSURANCE COMPANY NAME\",\n",
    "                 \"HHS RISK ADJUSTMENT TRANSFERS AMOUNT (SMALL GROUP MARKET)\",\n",
    "                  \"1.1Directpremiumwritten7HealthInsuranceSMALLGROUPTotalasof3/31/15\",\n",
    "                  \"2.16Totalincurredclaims7HealthInsuranceSMALLGROUPTotalasof3/31/15\",\n",
    "                  \"7.4Membermonths7HealthInsuranceSMALLGROUPTotalasof3/31/15\", \"STATE\"]\n",
    "sg_labels_15 = [label.replace('15', '16') for label in sg_labels_14]\n",
    "sg_labels_16 = [label.replace('15', '17') for label in sg_labels_14]\n",
    "sg_labels_17 = [label.replace('15', '18') for label in sg_labels_14]"
   ]
  },
  {
   "cell_type": "code",
   "execution_count": 4,
   "metadata": {},
   "outputs": [],
   "source": [
    "# Filter the data to include only the fields we want\n",
    "\n",
    "ind_data_14 = data2014[ind_labels_14].dropna()\n",
    "ind_data_15 = data2015[ind_labels_15].dropna()\n",
    "ind_data_16 = data2016[ind_labels_16].dropna()\n",
    "ind_data_17 = data2017[ind_labels_17].dropna()\n",
    "sg_data_14 = data2014[sg_labels_14].dropna()\n",
    "sg_data_15 = data2015[sg_labels_15].dropna()\n",
    "sg_data_16 = data2016[sg_labels_16].dropna()\n",
    "sg_data_17 = data2017[sg_labels_17].dropna()"
   ]
  },
  {
   "cell_type": "code",
   "execution_count": 5,
   "metadata": {},
   "outputs": [],
   "source": [
    "# Drop companies with <2000 MM\n",
    "ind_data_14 = ind_data_14.where(ind_data_14[ind_labels_14[5]] > 2000).dropna()\n",
    "ind_data_15 = ind_data_15.where(ind_data_15[ind_labels_15[5]] > 2000).dropna()\n",
    "ind_data_16 = ind_data_16.where(ind_data_16[ind_labels_16[5]] > 2000).dropna()\n",
    "ind_data_17 = ind_data_17.where(ind_data_17[ind_labels_17[5]] > 2000).dropna()\n",
    "sg_data_14 = sg_data_14.where(sg_data_14[sg_labels_14[5]] > 2000).dropna()\n",
    "sg_data_15 = sg_data_15.where(sg_data_15[sg_labels_15[5]] > 2000).dropna()\n",
    "sg_data_16 = sg_data_16.where(sg_data_16[sg_labels_16[5]] > 2000).dropna()\n",
    "sg_data_17 = sg_data_17.where(sg_data_17[sg_labels_17[5]] > 2000).dropna()"
   ]
  },
  {
   "cell_type": "code",
   "execution_count": 6,
   "metadata": {},
   "outputs": [],
   "source": [
    "# Calculate transfers, premiums, costs, and reinsurance (if individual group) per member month\n",
    "def calculate_pmm(df, df_labels, group):\n",
    "    df[\"MM\"] = df[df_labels[5]]\n",
    "    df[\"Transfers\"] = df[df_labels[2]]\n",
    "    df[\"TotalCosts\"] = abs(df[df_labels[4]])\n",
    "    df[\"Enrollees\"] = df[\"MM\"] / 12\n",
    "    df[\"TransfersPerEnrollee\"] = df[\"Transfers\"] / df[\"Enrollees\"]\n",
    "    df[\"TransfersPerSqrtEnrollee\"] = df[\"Transfers\"] / np.sqrt(df[\"Enrollees\"])\n",
    "    df[\"LogEnrollees\"] = np.log(df[\"Enrollees\"])\n",
    "    df[\"LogTransfers\"] = np.log(df[\"Transfers\"]**2 + 1)\n",
    "    df[\"TransfersPMM\"] = df[df_labels[2]] / df[df_labels[5]]\n",
    "    df[\"PremiumsPMM\"] = abs(df[df_labels[3]] / df[df_labels[5]])\n",
    "    df[\"CostsPMM\"] = abs(df[df_labels[4]] / df[df_labels[5]])\n",
    "    if group == \"i\":\n",
    "        df[\"ReinsurancePMM\"] = df[df_labels[7]] / df[df_labels[5]]\n",
    "        df[\"ProfitsPMM\"] = df[\"PremiumsPMM\"] - df[\"CostsPMM\"] + df[\"TransfersPMM\"] + df[\"ReinsurancePMM\"]\n",
    "        #df[\"PremMinusCostsPlusReinsurancePMM\"] = df[\"PremiumsPMM\"] - df[\"CostsPMM\"] + df[\"ReinsurancePMM\"]\n",
    "    elif group == \"sg\":\n",
    "        df[\"ProfitsPMM\"] = df[\"PremiumsPMM\"] - df[\"CostsPMM\"] + df[\"TransfersPMM\"]\n",
    "    df[\"PremMinusCostsPMM\"] = df[\"PremiumsPMM\"] - df[\"CostsPMM\"]\n",
    "    df[\"PremMinusCostsPlusTransfersPMM\"] = df[\"PremiumsPMM\"] - df[\"CostsPMM\"] + df[\"TransfersPMM\"]\n",
    "    df[\"SicknessPMM\"] = df[\"CostsPMM\"] - df[\"PremiumsPMM\"]\n",
    "    average_sickness = np.mean(df[\"SicknessPMM\"])\n",
    "    df[\"ExcessSicknessPMM\"] = df[\"SicknessPMM\"] - average_sickness\n",
    "    return df\n",
    "\n",
    "ind_data_14 = calculate_pmm(ind_data_14, ind_labels_14, \"i\")\n",
    "ind_data_15 = calculate_pmm(ind_data_15, ind_labels_15, \"i\")\n",
    "ind_data_16 = calculate_pmm(ind_data_16, ind_labels_16, \"i\")\n",
    "ind_data_17 = calculate_pmm(ind_data_17, ind_labels_17, \"sg\")\n",
    "sg_data_14 = calculate_pmm(sg_data_14, sg_labels_14, \"sg\")\n",
    "sg_data_15 = calculate_pmm(sg_data_15, sg_labels_15, \"sg\")\n",
    "sg_data_16 = calculate_pmm(sg_data_16, sg_labels_16, \"sg\")\n",
    "sg_data_17 = calculate_pmm(sg_data_17, sg_labels_17, \"sg\")"
   ]
  },
  {
   "cell_type": "code",
   "execution_count": 7,
   "metadata": {},
   "outputs": [],
   "source": [
    "# Combine the dataframes by left merging\n",
    "\n",
    "ind_data = ind_data_14.merge(ind_data_15, on='HIOS ID', how='outer', suffixes=('_14', '_15'))\\\n",
    ".merge(ind_data_16, on='HIOS ID', how='outer').merge(ind_data_17, on='HIOS ID', how='outer', suffixes=('_16', '_17'))"
   ]
  },
  {
   "cell_type": "code",
   "execution_count": 8,
   "metadata": {},
   "outputs": [],
   "source": [
    "# Do the same thing for small group\n",
    "\n",
    "sg_data = sg_data_14.merge(sg_data_15, on='HIOS ID', how='outer', suffixes=('_14', '_15'))\\\n",
    ".merge(sg_data_16, on='HIOS ID', how='outer').merge(sg_data_17, on='HIOS ID', how='outer', suffixes=('_16', '_17'))"
   ]
  },
  {
   "cell_type": "code",
   "execution_count": 9,
   "metadata": {},
   "outputs": [],
   "source": [
    "states = [\"CA\"]\n",
    "dfs = [sg_data_14, sg_data_15, sg_data_16, sg_data_17]"
   ]
  },
  {
   "cell_type": "code",
   "execution_count": 10,
   "metadata": {},
   "outputs": [
    {
     "name": "stdout",
     "output_type": "stream",
     "text": [
      "Cbar is 4398.953\n",
      "CA 14 Ratio is 1.154\n",
      "CA 15 Ratio is 1.117\n",
      "CA 16 Ratio is 1.051\n",
      "CA 17 Ratio is 1.015\n",
      "Empirical Transfers Sum = 2043400167.669\n"
     ]
    }
   ],
   "source": [
    "dfs_new = normalize_empirical_data_to_avg_2017_dollars(dfs, states)"
   ]
  },
  {
   "cell_type": "code",
   "execution_count": 11,
   "metadata": {},
   "outputs": [],
   "source": [
    "for df_temp in dfs_new:\n",
    "    df_temp[\"TransfersNormalizedPerSqrtEnrollee\"] = df_temp[\"TransfersNormalized\"] / np.sqrt(df_temp[\"Enrollees\"])"
   ]
  },
  {
   "cell_type": "code",
   "execution_count": 12,
   "metadata": {},
   "outputs": [],
   "source": [
    "stateyear_to_df = dict()\n",
    "stateyear_to_random = dict()\n",
    "    \n",
    "for current_state in states:\n",
    "    for df_index in range(4):\n",
    "        label = current_state + df_index_to_year[df_index]\n",
    "        this_df = state(dfs[df_index], current_state)\n",
    "        if len(this_df) > 0:\n",
    "            sum_n = sum(this_df[\"Enrollees\"])\n",
    "            this_df[\"sum_n_minus_n_i\"] = sum_n - this_df[\"Enrollees\"]\n",
    "            this_df[\"a\"] = this_df[\"Enrollees\"] * (this_df[\"sum_n_minus_n_i\"] / sum_n)**2 + this_df[\"sum_n_minus_n_i\"] * (this_df[\"Enrollees\"] / sum_n)**2\n",
    "            this_df[\"sqrt_a\"] = np.sqrt(this_df[\"a\"])\n",
    "            \n",
    "            cost_matrix = [np.random.normal(0, sqrta, 10**5) for sqrta in this_df[\"sqrt_a\"]]\n",
    "            #this_df[\"sim_distr\"] = np.random.normal(0, this_df[\"sqrt_a\"], 10000)\n",
    "        stateyear_to_df[label] = this_df\n",
    "        stateyear_to_random[label] = np.array(cost_matrix)"
   ]
  },
  {
   "cell_type": "code",
   "execution_count": 13,
   "metadata": {},
   "outputs": [
    {
     "data": {
      "text/plain": [
       "array([-1.63007135e+02, -2.49895767e-03,  5.36304478e+02,  3.05705418e+02,\n",
       "        1.88763729e+02, -3.16458973e+01,  3.75448662e+02, -2.41658017e+01,\n",
       "        2.62454453e+02,  2.65863230e+01,  7.64818426e+00, -3.78424551e+02,\n",
       "       -1.12859623e+02,  7.72382626e+01, -2.01849895e+02])"
      ]
     },
     "execution_count": 13,
     "metadata": {},
     "output_type": "execute_result"
    }
   ],
   "source": [
    "np.array(cost_matrix)[:,10000]"
   ]
  },
  {
   "cell_type": "code",
   "execution_count": 29,
   "metadata": {},
   "outputs": [
    {
     "name": "stdout",
     "output_type": "stream",
     "text": [
      "8121.810886434867\n",
      "11346.57200524684\n"
     ]
    }
   ],
   "source": [
    "lab = \"TransfersNormalizedPerSqrtEnrollee\"\n",
    "\n",
    "\n",
    "abs_empirical_transfers = np.absolute(np.concatenate((np.array(dfs_new[0][lab]),\n",
    "                                                    np.array(dfs_new[1][lab]),\n",
    "                                                    np.array(dfs_new[2][lab]),\n",
    "                                                    np.array(dfs_new[3][lab]))))\n",
    "sorted_abs_empirical_transfers = np.sort(abs_empirical_transfers)\n",
    "\n",
    "percentile_idx = int(len(sorted_abs_empirical_transfers) * 0.1)\n",
    "p10empirical = sorted_abs_empirical_transfers[percentile_idx]\n",
    "print(p10empirical)\n",
    "\n",
    "\n",
    "percentile_idx_20 = int(len(sorted_abs_empirical_transfers) * 0.2)\n",
    "p20empirical = sorted_abs_empirical_transfers[percentile_idx_20]\n",
    "print(p20empirical)"
   ]
  },
  {
   "cell_type": "code",
   "execution_count": 15,
   "metadata": {},
   "outputs": [
    {
     "data": {
      "text/plain": [
       "array([   808.76967188,   5342.14733375,   6027.44724775,   6807.83610721,\n",
       "         7383.56357693,   7862.86314209,   8121.81088643,   8758.74965614,\n",
       "         9950.52738161,  10122.06628648,  10869.66234465,  10908.19081605,\n",
       "        11346.57200525,  12154.58724628,  12844.51168307,  13877.88743955,\n",
       "        14703.21748168,  15072.49917713,  16574.50657073,  22713.04243752,\n",
       "        22976.43061605,  23148.85781885,  25931.22463077,  26902.8757232 ,\n",
       "        27558.09507323,  29701.5965744 ,  32090.05290895,  33480.3809156 ,\n",
       "        39116.62540809,  40766.04496178,  42096.49380526,  43475.59375134,\n",
       "        45005.24443037,  48213.5195824 ,  49847.12100242,  51023.6939554 ,\n",
       "        60676.54787405,  65628.91432129,  66516.14781197,  67202.38558625,\n",
       "        83956.51467545,  92687.93600348,  94866.54177078,  97949.32098478,\n",
       "       105506.96218702, 105665.80122167, 110751.5408158 , 110965.54308309,\n",
       "       114419.29372321, 117980.10273841, 126178.37128404, 128833.62213212,\n",
       "       137326.69060517, 165782.7192329 , 191242.71666309, 199597.79345013,\n",
       "       213541.99953946, 296043.0523959 , 330528.07442791, 347669.01043246,\n",
       "       358849.20618639])"
      ]
     },
     "execution_count": 15,
     "metadata": {},
     "output_type": "execute_result"
    }
   ],
   "source": [
    "sorted_abs_empirical_transfers"
   ]
  },
  {
   "cell_type": "code",
   "execution_count": 28,
   "metadata": {},
   "outputs": [
    {
     "name": "stdout",
     "output_type": "stream",
     "text": [
      "0 iterations completed in 0.0 s\n",
      "100 iterations completed in 0.6 s\n",
      "200 iterations completed in 0.6 s\n",
      "300 iterations completed in 0.6 s\n",
      "400 iterations completed in 0.6 s\n",
      "500 iterations completed in 0.6 s\n",
      "600 iterations completed in 0.6 s\n",
      "700 iterations completed in 0.6 s\n",
      "800 iterations completed in 0.6 s\n",
      "900 iterations completed in 0.6 s\n",
      "[ 9913.4558982  10524.55121798 11025.46397418 11028.14061666\n",
      " 11135.80293758 11284.12288252 11360.55383961 11386.82823091\n",
      " 11999.60141952 12117.85437607 12384.54700942 12461.53656154\n",
      " 12556.20813714 12567.66879551 12721.77158998 12979.8271363\n",
      " 12980.84378047 12994.17900589 13083.20042045 13110.9247317\n",
      " 13240.78546648 13378.11777525 13383.14783955 13422.30904108\n",
      " 13436.67686301 13496.88104406 13540.40103712 13643.45464571\n",
      " 13705.21080142 13773.4834484  14147.86334197 14152.21602277\n",
      " 14205.78025328 14265.53988062 14303.4015819  14485.56322039\n",
      " 14594.72012153 14717.01018934 14757.33180081 14863.21429516\n",
      " 14888.69017893 14938.83706426 14988.82786305 15017.78230705\n",
      " 15045.02700474 15067.28817348 15165.61607043 15208.27013121\n",
      " 15228.40358979 15233.78956202 15383.11823722 15432.05768869\n",
      " 15467.81306749 15493.60053159 15517.57140249 15522.38446319\n",
      " 15791.57552928 15820.85072932 15980.38430236 16010.42748214\n",
      " 16067.37285781 16100.32697527 16133.44498206 16136.1720102\n",
      " 16165.48877524 16190.89534972 16206.27125265 16267.76416292\n",
      " 16305.1034569  16373.75933804 16466.77199893 16475.78193948\n",
      " 16485.13877697 16527.90487503 16647.88167711 16663.07515241\n",
      " 16728.44436394 16782.06924101 16822.30207612 16914.72225654\n",
      " 16922.09829464 16959.70332889 17005.56109345 17017.44496509\n",
      " 17033.8126366  17061.1114309  17092.60523835 17156.8150302\n",
      " 17162.40802741 17197.87850529 17206.67589417 17232.97553724\n",
      " 17283.92048942 17326.27302911 17334.05025806 17352.48823612\n",
      " 17365.5997555  17367.12316776 17411.80892315 17445.02762603\n",
      " 17448.14628059 17453.60698684 17464.22112843 17531.71800589\n",
      " 17566.04648544 17584.67336723 17605.26341394 17686.12743764\n",
      " 17686.2320442  17722.13039203 17723.38083402 17736.76912446\n",
      " 17737.06685141 17753.23596725 17776.21434263 17798.79517056\n",
      " 17847.40235781 17903.64091607 17996.41941364 18017.59707774\n",
      " 18038.532073   18040.06990809 18045.81725221 18048.49663684\n",
      " 18057.91942628 18058.58824425 18067.63032524 18070.83769952\n",
      " 18082.56696429 18120.89694425 18141.17886095 18145.80930468\n",
      " 18153.27587302 18178.14048816 18214.86164705 18219.2202206\n",
      " 18261.44667458 18261.71377142 18283.89211035 18305.83631624\n",
      " 18383.21294356 18401.27592963 18416.07342353 18421.32169769\n",
      " 18433.24848842 18439.9196523  18488.20500548 18491.029342\n",
      " 18511.65055402 18549.56191276 18563.16556881 18571.16813353\n",
      " 18584.08294831 18590.65528643 18597.85907534 18629.87835093\n",
      " 18639.32464648 18652.62489747 18724.14136384 18781.97359762\n",
      " 18841.37297095 18859.80845102 18910.06269875 18932.31236164\n",
      " 18953.01959261 18970.81274475 18982.72527967 18998.50438634\n",
      " 19005.65830894 19056.69795308 19057.03618116 19067.37579723\n",
      " 19073.94178118 19095.03682251 19096.72319784 19101.53272004\n",
      " 19124.12588602 19127.22717644 19129.6670115  19152.89955818\n",
      " 19168.72024432 19192.39877671 19201.15857336 19202.81766148\n",
      " 19207.65362081 19222.73902618 19249.05414738 19262.86834216\n",
      " 19271.95957714 19307.64248802 19316.43851799 19362.47059032\n",
      " 19363.61061952 19391.3929502  19495.42334111 19501.49854987\n",
      " 19569.90055456 19581.37428108 19585.38665044 19592.99048186\n",
      " 19598.22624581 19599.03030702 19608.15851119 19619.52571512\n",
      " 19640.88543355 19650.91425552 19657.62135076 19670.39421602\n",
      " 19675.17388945 19732.98247107 19734.95940196 19745.93475118\n",
      " 19759.185066   19787.05130546 19793.43514069 19803.06680842\n",
      " 19835.32692818 19843.22763996 19859.21290218 19863.62664881\n",
      " 19874.46593759 19875.90853224 19901.05911293 19910.04615474\n",
      " 19912.85967808 19941.1897078  19951.08801326 19967.23785516\n",
      " 19974.37009246 19991.0106782  19997.60076127 20011.48671183\n",
      " 20034.35189693 20046.03923114 20060.5359026  20102.04037031\n",
      " 20126.69472072 20130.48473305 20149.45283345 20179.38965183\n",
      " 20181.52710634 20193.72983503 20215.11514785 20218.19057925\n",
      " 20248.02863858 20258.56243586 20312.1084727  20316.86314022\n",
      " 20360.29509478 20360.64621714 20373.99836967 20382.70469078\n",
      " 20384.72563378 20386.54791001 20425.71391698 20483.28385279\n",
      " 20527.56604666 20560.18111267 20566.96470566 20570.25359636\n",
      " 20597.51738132 20605.17059111 20638.01614638 20647.93292979\n",
      " 20661.66928846 20713.70870513 20717.91018274 20733.443763\n",
      " 20759.91386911 20774.37682107 20779.44324126 20781.60661624\n",
      " 20784.72505425 20788.32893032 20795.81110322 20801.80865539\n",
      " 20823.10306906 20832.46292218 20862.25747652 20869.1947207\n",
      " 20874.1156739  20876.25696743 20881.5090958  20904.83119582\n",
      " 20906.91379532 20921.23189187 20949.34705229 20951.60246352\n",
      " 20962.88247792 21005.02944553 21026.33564885 21039.20226046\n",
      " 21043.27986008 21051.99765737 21094.52557294 21132.21960869\n",
      " 21148.06686046 21155.21064387 21157.61807001 21162.39825329\n",
      " 21170.20523277 21180.82141384 21196.51213882 21212.36545472\n",
      " 21218.02522861 21220.14349085 21242.99068467 21303.6496696\n",
      " 21318.22538792 21318.55640587 21323.78464664 21379.64067932\n",
      " 21383.69969551 21388.31599917 21397.6467104  21399.59959961\n",
      " 21401.57023962 21408.73193907 21431.80602122 21437.70523424\n",
      " 21451.70313559 21490.547695   21495.2969522  21539.00664484\n",
      " 21558.01500137 21593.22881459 21613.75571925 21618.44876383\n",
      " 21646.92246458 21667.68249206 21749.5098864  21773.6672856\n",
      " 21782.34111056 21792.64471906 21802.50065487 21811.74191307\n",
      " 21815.37419993 21816.01279533 21818.77802306 21823.92620086\n",
      " 21828.20206931 21830.42200067 21847.68022864 21872.05264559\n",
      " 21918.7496512  21964.21457029 21988.89120812 21990.64965007\n",
      " 21994.97192431 21997.21645936 22002.36280875 22022.3140122\n",
      " 22045.70818099 22052.97361515 22052.97830052 22072.6600609\n",
      " 22089.26452355 22098.67451735 22123.73412836 22183.80370124\n",
      " 22187.20910815 22188.59412437 22222.84415882 22232.17893962\n",
      " 22240.67345577 22287.13327034 22291.78614005 22306.82955442\n",
      " 22364.41947259 22380.73627719 22383.58708846 22383.91576785\n",
      " 22414.94290318 22416.20186141 22426.40786203 22428.27125833\n",
      " 22463.13030929 22465.07783996 22499.15707746 22519.21827939\n",
      " 22531.71291346 22536.88353509 22548.80789312 22580.04132778\n",
      " 22588.93109553 22594.45271385 22604.67232356 22614.71054849\n",
      " 22618.85511273 22632.8684569  22648.36918362 22655.32225025\n",
      " 22655.47917195 22683.36405722 22694.41304425 22698.54034184\n",
      " 22701.17623932 22713.70551711 22720.9379405  22723.66594062\n",
      " 22724.00187388 22763.80734516 22786.52142547 22799.34108574\n",
      " 22814.08008408 22822.44098529 22822.95232101 22829.23323492\n",
      " 22833.29134912 22850.10892228 22852.47546935 22871.87590465\n",
      " 22880.7234374  22899.12773111 22928.23467053 22933.46085668\n",
      " 22959.25147804 22960.52083049 22974.32778813 23002.13993156\n",
      " 23016.82198183 23050.49737817 23070.76075039 23073.40541379\n",
      " 23077.97264741 23122.48859813 23127.69347452 23147.73382548\n",
      " 23153.65048429 23170.88856434 23209.79544102 23254.98347403\n",
      " 23258.65708432 23280.66033382 23293.88089522 23310.99257766\n",
      " 23315.48410817 23339.8645499  23357.76665943 23392.1938668\n",
      " 23397.23681497 23399.76278262 23402.25385008 23423.30515428\n",
      " 23450.72937927 23465.48635114 23475.31528251 23479.97293312\n",
      " 23501.4386139  23545.16038922 23571.11322361 23603.25405408\n",
      " 23609.8043634  23622.27443018 23624.92272785 23634.78244242\n",
      " 23641.39803949 23664.06135584 23680.28085781 23689.53466756\n",
      " 23702.033135   23705.44175994 23731.50138832 23753.23117829\n",
      " 23754.99822005 23784.56047155 23788.78222479 23807.73499503\n",
      " 23822.74445325 23835.93984154 23845.23067724 23854.37504521\n",
      " 23857.76083896 23889.39452756 23889.81910982 23967.14355521\n",
      " 23994.53365299 23998.49392136 24013.60476185 24023.59049075\n",
      " 24046.61829855 24050.19560141 24090.08904804 24101.44804606\n",
      " 24121.38478322 24159.56753142 24160.66798057 24163.14032076\n",
      " 24177.04690817 24199.20534765 24205.95572061 24234.18505154\n",
      " 24249.27402322 24310.55495961 24315.25809559 24347.53266832\n",
      " 24348.33320298 24371.09958419 24378.43707079 24387.94551885\n",
      " 24390.75888817 24391.72861513 24391.99114675 24410.49138008\n",
      " 24428.97462285 24436.79850133 24447.33368149 24470.97954761\n",
      " 24476.07890052 24552.38990011 24569.48364559 24573.65667517\n",
      " 24586.83894211 24588.98582605 24590.01104606 24614.51234357\n",
      " 24632.29838572 24666.59898755 24685.63288336 24687.15338504\n",
      " 24692.17224043 24692.70293623 24727.50100366 24733.78353636\n",
      " 24735.68270115 24743.29077964 24767.85750966 24807.99772934\n",
      " 24833.03137045 24833.79580367 24857.53361808 24858.14840618\n",
      " 24861.15557944 24864.33861591 24889.64585214 24898.12716064\n",
      " 24921.73668712 24924.07824521 24934.96138412 24955.79524608\n",
      " 24962.46960464 25024.21122243 25039.21676455 25071.35057646\n",
      " 25074.18799458 25096.88333061 25097.41202163 25103.78534901\n",
      " 25119.45195592 25129.057059   25159.51247876 25160.92564316\n",
      " 25221.94726562 25236.96082584 25244.53385873 25248.89825583\n",
      " 25251.98744285 25255.38074318 25265.86119423 25276.7793008\n",
      " 25281.7342163  25322.39658227 25344.42341303 25355.09431102\n",
      " 25380.53439375 25394.21530201 25403.60026624 25407.19866341\n",
      " 25427.29317821 25452.74339444 25461.57114309 25484.00620196\n",
      " 25495.6416156  25502.70771769 25505.15297606 25509.89798929\n",
      " 25525.44793811 25529.8017985  25556.90158759 25569.72372986\n",
      " 25597.61729626 25610.01613221 25641.05348002 25646.56288908\n",
      " 25647.74711936 25652.72199078 25688.89728116 25690.10671665\n",
      " 25697.9915321  25710.02816465 25717.75556911 25733.03308681\n",
      " 25746.70209189 25747.41607032 25772.56277319 25788.34914885\n",
      " 25825.16802541 25864.52709462 25869.29954962 25881.08900943\n",
      " 25887.44334644 25915.96131672 25924.99707691 25932.83337676\n",
      " 25969.29873765 26013.27145039 26032.89513464 26055.23647518\n",
      " 26057.99109499 26060.85327439 26061.53649393 26088.93705351\n",
      " 26101.15343786 26103.01650679 26134.76727702 26141.35160624\n",
      " 26183.2784117  26230.54777082 26248.21229249 26250.03877856\n",
      " 26269.27077927 26279.29690629 26294.43181782 26305.9925644\n",
      " 26338.76993511 26343.08744628 26406.11976059 26418.27457444\n",
      " 26423.08085633 26452.72939601 26461.07737802 26508.55562508\n",
      " 26524.39616773 26534.48274469 26552.19417595 26567.79346076\n",
      " 26600.97549904 26605.98785828 26624.13284592 26652.55863175\n",
      " 26673.36762548 26677.63382582 26683.2178178  26703.37087891\n",
      " 26703.9652552  26704.12561656 26731.72522019 26773.34653869\n",
      " 26777.30630043 26790.50388336 26792.53800251 26794.25627333\n",
      " 26796.89367261 26858.79261537 26864.73692872 26870.41278764\n",
      " 26885.69804394 26893.83733477 26896.06976034 26930.32406019\n",
      " 26941.18686865 26944.76267352 26955.86404194 26966.80495672\n",
      " 27002.54943671 27013.78761656 27021.51838647 27031.47539122\n",
      " 27079.95653667 27084.16686759 27136.8679684  27163.50109485\n",
      " 27165.57273788 27168.71039475 27169.30263014 27193.95587394\n",
      " 27196.02750067 27213.90216205 27236.33050713 27284.98532216\n",
      " 27303.05927617 27303.65606823 27303.87513316 27303.98025538\n",
      " 27335.77500156 27345.61330404 27381.19041848 27386.84664893\n",
      " 27398.28292001 27416.15166674 27419.80554143 27427.12963373\n",
      " 27427.31639345 27473.00574657 27491.90209208 27499.71310692\n",
      " 27525.53848447 27549.06278527 27553.90964202 27555.75364368\n",
      " 27582.60844883 27585.47597993 27601.00498947 27682.38725595\n",
      " 27704.42033239 27730.65056223 27760.50500229 27793.8992103\n",
      " 27802.70083381 27811.49592379 27865.4015381  27874.76308507\n",
      " 27885.69793069 27934.85622769 27947.95064465 27955.53256492\n",
      " 27983.8438621  27990.57780152 28002.70966904 28030.04128426\n",
      " 28043.40759345 28066.8493527  28099.6508275  28119.99626872\n",
      " 28151.69169917 28152.44156914 28159.78869204 28192.84173742\n",
      " 28213.22529234 28224.48239668 28268.10641842 28286.53319392\n",
      " 28292.61297976 28326.13458442 28337.0813609  28366.04351277\n",
      " 28377.77663169 28431.07949883 28463.88553073 28485.54421442\n",
      " 28486.42451432 28509.29791201 28519.02128682 28531.20021715\n",
      " 28564.82672205 28568.59171212 28608.73457185 28645.25534993\n",
      " 28648.69099813 28655.15946455 28662.12940988 28677.51399458\n",
      " 28683.71770562 28690.62910474 28713.85835105 28726.19249894\n",
      " 28743.66759279 28788.42335318 28793.49672211 28823.72295021\n",
      " 28837.43443877 28843.2972927  28857.34730809 28862.81295388\n",
      " 28867.34737085 28882.98104193 28905.63360711 28922.29523894\n",
      " 28955.35673547 28969.02998048 28986.91314273 29032.2671196\n",
      " 29033.68264579 29079.62710594 29085.75060524 29098.45211085\n",
      " 29100.874669   29111.39822504 29134.48941971 29221.18590277\n",
      " 29249.53016866 29264.34352537 29276.68166588 29305.02834932\n",
      " 29339.89227786 29351.69472271 29353.46374483 29381.02317588\n",
      " 29397.07886547 29411.86046001 29420.08199129 29428.5700333\n",
      " 29439.88998021 29488.53338026 29515.73606577 29515.98105643\n",
      " 29526.00205346 29531.0474392  29563.92580951 29566.60859627\n",
      " 29569.50850857 29584.77354699 29677.13975921 29680.81342118\n",
      " 29738.415927   29782.06797047 29805.00432954 29839.4231439\n",
      " 30004.17318019 30005.03065622 30019.11997743 30029.37275911\n",
      " 30034.63250014 30071.03492594 30089.78786062 30189.45652184\n",
      " 30214.61777839 30231.04008231 30239.08854837 30239.37821739\n",
      " 30240.75020125 30248.32194031 30250.55887279 30301.42789385\n",
      " 30304.46585914 30337.84351011 30363.09459151 30475.91132528\n",
      " 30486.43021835 30492.24003202 30524.49663594 30526.89187849\n",
      " 30531.36325743 30551.20628307 30585.80811055 30600.62365101\n",
      " 30611.17583515 30642.64549389 30700.67266745 30705.91763535\n",
      " 30766.72562174 30792.39749778 30845.59763217 30870.87751238\n",
      " 30878.94189845 30919.45835648 30943.80931552 30980.6910609\n",
      " 30985.34000747 31002.25497024 31030.74540302 31068.36294123\n",
      " 31072.32765936 31080.04408688 31109.81268908 31120.54316196\n",
      " 31127.36983087 31137.12132945 31158.0270959  31211.99167884\n",
      " 31310.61056194 31311.70504955 31346.61530782 31359.72126748\n",
      " 31455.86963911 31509.37520741 31530.49609996 31548.44344294\n",
      " 31579.82351813 31893.24435223 31906.50025831 31979.9565854\n",
      " 31997.65512296 32004.30430098 32011.80623966 32049.15470463\n",
      " 32147.43837301 32182.3577153  32210.48831546 32228.6362979\n",
      " 32240.73276056 32318.15023781 32319.02332024 32431.36687518\n",
      " 32433.93807924 32593.2641509  32594.31572579 32607.23929594\n",
      " 32639.11284401 32714.91092643 32736.81115071 32737.91287112\n",
      " 32745.92825679 32823.19869344 32890.09533505 32964.59609249\n",
      " 32981.16767141 33003.56939336 33079.18908211 33119.68215284\n",
      " 33126.556408   33176.87873475 33182.28681694 33205.88630206\n",
      " 33272.24083672 33348.97253917 33366.16644206 33376.56877188\n",
      " 33422.10014242 33426.91972456 33470.0555186  33495.33435859\n",
      " 33582.08782132 33632.40146203 33665.11404069 33807.88690788\n",
      " 33833.59451304 33877.56724736 33922.87535244 33999.28335196\n",
      " 34131.04336555 34137.98035073 34158.10727987 34210.25932897\n",
      " 34220.87124312 34288.0415182  34326.84896468 34376.95683739\n",
      " 34453.89711556 34542.51405796 34542.86389112 34611.24042089\n",
      " 34814.21751448 34907.64662337 34914.7177233  34955.14385015\n",
      " 34958.39997174 35076.06795678 35090.83263464 35180.77364573\n",
      " 35193.83649505 35231.07889499 35254.62038193 35358.98625322\n",
      " 35361.26201424 35579.81260764 35639.56335722 35696.63038336\n",
      " 35711.09606327 35743.46108985 35864.59046784 35960.20719483\n",
      " 35994.2721272  36020.05058472 36203.07106835 36234.15259586\n",
      " 36353.29055168 36410.60618402 36577.84016442 36854.59916281\n",
      " 36858.66584225 37161.02390316 37240.50230898 37307.36133749\n",
      " 37337.36919141 37337.38322896 37376.70341124 37378.32768131\n",
      " 37738.28983141 37741.78773637 37887.12699852 37990.01200891\n",
      " 38046.5454895  38091.62709079 38148.00956594 38428.73012373\n",
      " 38737.59255307 39044.26352844 39482.20396888 39586.08131678\n",
      " 39786.33722107 39923.32001159 39968.19425703 40175.50671825\n",
      " 40481.67561188 40544.40098699 40724.31931783 41465.12903849\n",
      " 41660.74182972 42065.49886314 42081.78129146 42447.12222826\n",
      " 44058.43334412 44148.64138759 44150.38070232 45038.27702283\n",
      " 45563.79457474 45845.29836995 49590.86136401 50501.9634764 ]\n",
      "q10 = 12384.547\n",
      "Sum sqrt(a) = 0.000\n"
     ]
    }
   ],
   "source": [
    "#%run StatTest2_WithSimulation_Setup.ipynb\n",
    "\n",
    "beta = 100000\n",
    "k = len(sorted_abs_empirical_transfers)\n",
    "q10, at3, _ = apr_test_imbalances_2017(stateyear_to_df, stateyear_to_random, beta, k, 0.2, 0.01)"
   ]
  },
  {
   "cell_type": "code",
   "execution_count": 19,
   "metadata": {},
   "outputs": [],
   "source": [
    "#beta2 = 60000\n",
    "#q102, at32, _ = apr_test_imbalances_2017(stateyear_to_df, stateyear_to_random, beta2, k, 0.1, 0.01)\n",
    "#assert(q10 * 60000 / 100000 - q102 < 0.01)"
   ]
  },
  {
   "cell_type": "code",
   "execution_count": 20,
   "metadata": {},
   "outputs": [
    {
     "name": "stdout",
     "output_type": "stream",
     "text": [
      "final_beta = 183290\n"
     ]
    }
   ],
   "source": [
    "final_beta = p10empirical * 100000 / q10\n",
    "\n",
    "print(\"final_beta = %d\" % (final_beta))"
   ]
  },
  {
   "cell_type": "code",
   "execution_count": 31,
   "metadata": {},
   "outputs": [
    {
     "name": "stdout",
     "output_type": "stream",
     "text": [
      "final_beta_20 = 91618\n"
     ]
    }
   ],
   "source": [
    "final_beta_20 = p20empirical * 100000 / q10\n",
    "print(\"final_beta_20 = %d\" % (final_beta_20))"
   ]
  },
  {
   "cell_type": "code",
   "execution_count": 21,
   "metadata": {},
   "outputs": [],
   "source": [
    "df2 = create_df2(states, dfs_new, \"TransfersNormalizedPerSqrtEnrollee\")\n",
    "k = len(df2)\n",
    "v = np.linspace(0, max(abs(df2)), 10000)\n",
    "v = v[1:len(v)]\n",
    "\n",
    "ratios = [ratio_list(df2, vi) for vi in v]\n",
    "#print(ratios)\n",
    "begin_p = 5/k\n",
    "end_p = 1-begin_p\n",
    "start_index = 0\n",
    "end_index = 0\n",
    "for index, ratio2 in enumerate(ratios):\n",
    "    if ratio2 >= begin_p:\n",
    "        start_index = index\n",
    "        break\n",
    "    \n",
    "for index, ratio2 in enumerate(ratios):\n",
    "    if ratio2 > end_p:\n",
    "        end_index = index\n",
    "        break\n",
    "\n",
    "if end_index == 0:\n",
    "    end_index = len(v) - 1\n",
    "    \n",
    "v = v[start_index:end_index]\n",
    "\n",
    "ratios2 = ratios[start_index:end_index]\n",
    "#multiplier = [np.sqrt(2)/vi for vi in v]\n",
    "#ratios_sim1 = [ratio_list(at3[0] * final_beta / 100000, vi) for vi in v]\n",
    "#ratios_sim2 = [ratio_list(at3[1] * final_beta / 100000, vi) for vi in v]\n",
    "#ratios_sim3 = [ratio_list(at3[2] * final_beta / 100000, vi) for vi in v]"
   ]
  },
  {
   "cell_type": "code",
   "execution_count": 34,
   "metadata": {},
   "outputs": [
    {
     "data": {
      "image/png": "[encoded data removed]",
      "text/plain": [
       "<Figure size 720x504 with 1 Axes>"
      ]
     },
     "metadata": {},
     "output_type": "display_data"
    }
   ],
   "source": [
    "states_label = \"CA\"\n",
    "plt.figure(figsize=(10, 7))\n",
    "for i in range(100):\n",
    "    plt.plot(v, [ratio_list(at3[i] * final_beta_20 / 100000, vi) for vi in v], label=\"Q_20 Simulation\", color='b')\n",
    "#plt.plot(v, ratios_sim2, label=\"Q_10 Simulation 2\", color='c')\n",
    "#plt.plot(v, ratios_sim3, label=\"Q_10 Simulation 3\", color='cornflowerblue')\n",
    "plt.plot(v, ratios2, label=\"P(|d_i|<v) (empirical)\", color='darkorange')\n",
    "plt.title(\"Q_20 Simulations with beta=%d and P(|d_i|<v) vs. v for %s 2014-2017 (k=%d)\" % (final_beta_20, states_label, len(df2)))\n",
    "plt.axhline(y=0.2, color='g', linestyle='--', label=\"0.1\")\n",
    "#plt.legend()\n",
    "plt.xlim((0, 30000))\n",
    "plt.xlabel(\"v\")\n",
    "plt.ylabel(\"CDF\")\n",
    "plt.show()"
   ]
  },
  {
   "cell_type": "code",
   "execution_count": 21,
   "metadata": {},
   "outputs": [
    {
     "name": "stdout",
     "output_type": "stream",
     "text": [
      "Beta (=std): 177441\n",
      "Number of T/sqrt(n) above 2 stds: 1\n",
      "Proportion of T/sqrt(n) above 2 stds: 0.016\n",
      "P value = 0.771830\n"
     ]
    }
   ],
   "source": [
    "\n",
    "run_binom_stat_test2(final_beta, df2.values)"
   ]
  },
  {
   "cell_type": "code",
   "execution_count": 22,
   "metadata": {},
   "outputs": [
    {
     "name": "stdout",
     "output_type": "stream",
     "text": [
      "Beta (=std): 177441\n",
      "Number of T/sqrt(n) above 3 stds: 0\n",
      "Proportion of T/sqrt(n) above 3 stds: 0.000\n",
      "P value = 0.152030\n"
     ]
    }
   ],
   "source": [
    "\n",
    "run_binom_stat_test3(final_beta, df2.values)"
   ]
  },
  {
   "cell_type": "code",
   "execution_count": null,
   "metadata": {},
   "outputs": [],
   "source": []
  }
 ],
 "metadata": {
  "kernelspec": {
   "display_name": "Python 3",
   "language": "python",
   "name": "python3"
  },
  "language_info": {
   "codemirror_mode": {
    "name": "ipython",
    "version": 3
   },
   "file_extension": ".py",
   "mimetype": "text/x-python",
   "name": "python",
   "nbconvert_exporter": "python",
   "pygments_lexer": "ipython3",
   "version": "3.6.5"
  }
 },
 "nbformat": 4,
 "nbformat_minor": 2
}
