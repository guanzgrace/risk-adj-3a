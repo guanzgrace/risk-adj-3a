{
 "cells": [
  {
   "cell_type": "code",
   "execution_count": 1,
   "metadata": {},
   "outputs": [
    {
     "name": "stdout",
     "output_type": "stream",
     "text": [
      "{0: ['ME', 'IL', 'PA', 'GA', 'OK', 'DE', 'WA', 'CT', 'OH', 'VA', 'NE', 'MT', 'IN', 'CA', 'HI', 'ND', 'MD', 'SC', 'RI', 'AK', 'KY', 'WI', 'LA', 'MN', 'MS', 'WV', 'FL'], 1: ['SD', 'IL', 'PA', 'NH', 'NM', 'NV', 'OK', 'UT', 'CT', 'OH', 'VA', 'OR', 'CO', 'IN', 'HI', 'AL', 'RI', 'AK', 'LA', 'MN', 'IA', 'AR', 'WV'], 2: ['MI', 'ME', 'WY', 'DC', 'TX', 'AZ', 'NC', 'WA', 'OR', 'CO', 'MT', 'ND', 'TN', 'SC', 'AL', 'NY', 'KY', 'NJ', 'KS', 'ID', 'IA', 'AR', 'MO'], 3: ['MI', 'SD', 'WY', 'NH', 'DC', 'TX', 'GA', 'AZ', 'NM', 'NC', 'NV', 'DE', 'UT', 'NE', 'CA', 'MD', 'TN', 'NY', 'NJ', 'KS', 'WI', 'ID', 'MS', 'FL', 'MO']}\n",
      "{0: ['MI', 'SD', 'WY', 'NH', 'DC', 'TX', 'AZ', 'NM', 'NC', 'NV', 'UT', 'OR', 'CO', 'TN', 'AL', 'NY', 'NJ', 'KS', 'ID', 'IA', 'AR', 'MO'], 1: ['MI', 'ME', 'WY', 'DC', 'TX', 'GA', 'AZ', 'NC', 'DE', 'WA', 'NE', 'MT', 'CA', 'ND', 'MD', 'TN', 'SC', 'NY', 'KY', 'NJ', 'KS', 'WI', 'ID', 'MS', 'FL', 'MO'], 2: ['SD', 'IL', 'PA', 'NH', 'GA', 'NM', 'NV', 'OK', 'DE', 'UT', 'CT', 'OH', 'VA', 'NE', 'IN', 'CA', 'HI', 'MD', 'RI', 'AK', 'WI', 'LA', 'MN', 'MS', 'WV', 'FL'], 3: ['ME', 'IL', 'PA', 'OK', 'WA', 'CT', 'OH', 'VA', 'OR', 'CO', 'MT', 'IN', 'HI', 'ND', 'SC', 'AL', 'RI', 'AK', 'KY', 'LA', 'MN', 'IA', 'AR', 'WV']}\n"
     ]
    }
   ],
   "source": [
    "%run ../StatTest2_WithSimulation_Setup.ipynb"
   ]
  },
  {
   "cell_type": "code",
   "execution_count": 2,
   "metadata": {},
   "outputs": [],
   "source": [
    "###################\n",
    "# LOCAL VARIABLES #\n",
    "###################\n",
    "\n",
    "states = [\"WI\"]\n",
    "state_label = \"WI\"\n",
    "t_file = \"npy/\" + state_label + \"_simulated_transfers.npy\"\n",
    "d_file = \"npy/\" + state_label + \"_simulated_transfers_over_sqrtn.npy\"\n",
    "big_j = 10**5\n",
    "this_beta = 13560 # beta from the KS test experiments"
   ]
  },
  {
   "cell_type": "code",
   "execution_count": 3,
   "metadata": {
    "scrolled": true
   },
   "outputs": [
    {
     "name": "stderr",
     "output_type": "stream",
     "text": [
      "/anaconda3/lib/python3.6/site-packages/IPython/core/interactiveshell.py:2785: DtypeWarning: Columns (1,2,52,323,649,882,932,1092,1202) have mixed types. Specify dtype option on import or set low_memory=False.\n",
      "  interactivity=interactivity, compiler=compiler, result=result)\n",
      "/anaconda3/lib/python3.6/site-packages/IPython/core/interactiveshell.py:2785: DtypeWarning: Columns (1,2,57,204,341,376,377,396,430,431,928,944,1006,1013,1151,1160,1169,1179,1411) have mixed types. Specify dtype option on import or set low_memory=False.\n",
      "  interactivity=interactivity, compiler=compiler, result=result)\n",
      "/anaconda3/lib/python3.6/site-packages/IPython/core/interactiveshell.py:2785: DtypeWarning: Columns (1,2,17,163,355,406,702,835,847,1083,1156,1183,1185,1200) have mixed types. Specify dtype option on import or set low_memory=False.\n",
      "  interactivity=interactivity, compiler=compiler, result=result)\n"
     ]
    }
   ],
   "source": [
    "data2014 = pd.read_csv(\"../0-Our_Dataset/2014dataset.csv\")\n",
    "data2015 = pd.read_csv(\"../0-Our_Dataset/2015dataset.csv\")\n",
    "data2016 = pd.read_csv(\"../0-Our_Dataset/2016dataset.csv\")\n",
    "data2017 = pd.read_csv(\"../0-Our_Dataset/2017dataset.csv\")"
   ]
  },
  {
   "cell_type": "code",
   "execution_count": 4,
   "metadata": {},
   "outputs": [],
   "source": [
    "# Create the labels.\n",
    "# By index:\n",
    "# label 2 is transfers\n",
    "# label 3 is premiums\n",
    "# label 4 is costs\n",
    "# label 5 is member months\n",
    "# label 6 is reinsurance (individual group only)\n",
    "\n",
    "ind_labels_14 = [\"HIOS ID\", \"HIOS INPUTTED INSURANCE COMPANY NAME\",\n",
    "                  \"HHS RISK ADJUSTMENT TRANSFER AMOUNT (INDIVIDUAL MARKET, INCLUDING CATASTROPHIC)\",\n",
    "                  \"1.1Directpremiumwritten2HealthInsuranceINDIVIDUALTotalasof3/31/15\",\n",
    "                  \"2.16Totalincurredclaims2HealthInsuranceINDIVIDUALTotalasof3/31/15\",\n",
    "                  \"7.4Membermonths2HealthInsuranceINDIVIDUALTotalasof3/31/15\",\n",
    "                  \"STATE\", \"REINSURANCE PAYMENT AMOUNT (OR NOT ELIGIBLE)\"] # no more reinsurance as of 2017\n",
    "ind_labels_15 = [label.replace('15', '16') for label in ind_labels_14]\n",
    "ind_labels_16 = [label.replace('15', '17') for label in ind_labels_14]\n",
    "ind_labels_17 = [label.replace('15', '18') for label in ind_labels_14][:-1]\n",
    "\n",
    "sg_labels_14 = [\"HIOS ID\", \"HIOS INPUTTED INSURANCE COMPANY NAME\",\n",
    "                 \"HHS RISK ADJUSTMENT TRANSFERS AMOUNT (SMALL GROUP MARKET)\",\n",
    "                  \"1.1Directpremiumwritten7HealthInsuranceSMALLGROUPTotalasof3/31/15\",\n",
    "                  \"2.16Totalincurredclaims7HealthInsuranceSMALLGROUPTotalasof3/31/15\",\n",
    "                  \"7.4Membermonths7HealthInsuranceSMALLGROUPTotalasof3/31/15\", \"STATE\"]\n",
    "sg_labels_15 = [label.replace('15', '16') for label in sg_labels_14]\n",
    "sg_labels_16 = [label.replace('15', '17') for label in sg_labels_14]\n",
    "sg_labels_17 = [label.replace('15', '18') for label in sg_labels_14]"
   ]
  },
  {
   "cell_type": "code",
   "execution_count": 5,
   "metadata": {},
   "outputs": [],
   "source": [
    "# Filter the data to include only the fields we want\n",
    "\n",
    "ind_data_14 = data2014[ind_labels_14].dropna()\n",
    "ind_data_15 = data2015[ind_labels_15].dropna()\n",
    "ind_data_16 = data2016[ind_labels_16].dropna()\n",
    "ind_data_17 = data2017[ind_labels_17].dropna()\n",
    "sg_data_14 = data2014[sg_labels_14].dropna()\n",
    "sg_data_15 = data2015[sg_labels_15].dropna()\n",
    "sg_data_16 = data2016[sg_labels_16].dropna()\n",
    "sg_data_17 = data2017[sg_labels_17].dropna()"
   ]
  },
  {
   "cell_type": "code",
   "execution_count": 6,
   "metadata": {},
   "outputs": [],
   "source": [
    "# Drop companies with <2000 MM\n",
    "ind_data_14 = ind_data_14.where(ind_data_14[ind_labels_14[5]] > 2000).dropna()\n",
    "ind_data_15 = ind_data_15.where(ind_data_15[ind_labels_15[5]] > 2000).dropna()\n",
    "ind_data_16 = ind_data_16.where(ind_data_16[ind_labels_16[5]] > 2000).dropna()\n",
    "ind_data_17 = ind_data_17.where(ind_data_17[ind_labels_17[5]] > 2000).dropna()\n",
    "sg_data_14 = sg_data_14.where(sg_data_14[sg_labels_14[5]] > 2000).dropna()\n",
    "sg_data_15 = sg_data_15.where(sg_data_15[sg_labels_15[5]] > 2000).dropna()\n",
    "sg_data_16 = sg_data_16.where(sg_data_16[sg_labels_16[5]] > 2000).dropna()\n",
    "sg_data_17 = sg_data_17.where(sg_data_17[sg_labels_17[5]] > 2000).dropna()"
   ]
  },
  {
   "cell_type": "code",
   "execution_count": 7,
   "metadata": {},
   "outputs": [],
   "source": [
    "# Calculate transfers, premiums, costs, and reinsurance (if individual group) per member month\n",
    "def calculate_pmm(df, df_labels, group):\n",
    "    df[\"MM\"] = df[df_labels[5]]\n",
    "    df[\"Transfers\"] = df[df_labels[2]]\n",
    "    df[\"TotalCosts\"] = abs(df[df_labels[4]])\n",
    "    df[\"Enrollees\"] = df[\"MM\"] / 12\n",
    "    df[\"TransfersPerEnrollee\"] = df[\"Transfers\"] / df[\"Enrollees\"]\n",
    "    df[\"TransfersPerSqrtEnrollee\"] = df[\"Transfers\"] / np.sqrt(df[\"Enrollees\"])\n",
    "    df[\"LogEnrollees\"] = np.log(df[\"Enrollees\"])\n",
    "    df[\"LogTransfers\"] = np.log(df[\"Transfers\"]**2 + 1)\n",
    "    df[\"TransfersPMM\"] = df[df_labels[2]] / df[df_labels[5]]\n",
    "    df[\"PremiumsPMM\"] = abs(df[df_labels[3]] / df[df_labels[5]])\n",
    "    df[\"CostsPMM\"] = abs(df[df_labels[4]] / df[df_labels[5]])\n",
    "    if group == \"i\":\n",
    "        df[\"ReinsurancePMM\"] = df[df_labels[7]] / df[df_labels[5]]\n",
    "        df[\"ProfitsPMM\"] = df[\"PremiumsPMM\"] - df[\"CostsPMM\"] + df[\"TransfersPMM\"] + df[\"ReinsurancePMM\"]\n",
    "        #df[\"PremMinusCostsPlusReinsurancePMM\"] = df[\"PremiumsPMM\"] - df[\"CostsPMM\"] + df[\"ReinsurancePMM\"]\n",
    "    elif group == \"sg\":\n",
    "        df[\"ProfitsPMM\"] = df[\"PremiumsPMM\"] - df[\"CostsPMM\"] + df[\"TransfersPMM\"]\n",
    "    df[\"PremMinusCostsPMM\"] = df[\"PremiumsPMM\"] - df[\"CostsPMM\"]\n",
    "    df[\"PremMinusCostsPlusTransfersPMM\"] = df[\"PremiumsPMM\"] - df[\"CostsPMM\"] + df[\"TransfersPMM\"]\n",
    "    df[\"SicknessPMM\"] = df[\"CostsPMM\"] - df[\"PremiumsPMM\"]\n",
    "    average_sickness = np.mean(df[\"SicknessPMM\"])\n",
    "    df[\"ExcessSicknessPMM\"] = df[\"SicknessPMM\"] - average_sickness\n",
    "    return df\n",
    "\n",
    "ind_data_14 = calculate_pmm(ind_data_14, ind_labels_14, \"i\")\n",
    "ind_data_15 = calculate_pmm(ind_data_15, ind_labels_15, \"i\")\n",
    "ind_data_16 = calculate_pmm(ind_data_16, ind_labels_16, \"i\")\n",
    "ind_data_17 = calculate_pmm(ind_data_17, ind_labels_17, \"sg\")\n",
    "sg_data_14 = calculate_pmm(sg_data_14, sg_labels_14, \"sg\")\n",
    "sg_data_15 = calculate_pmm(sg_data_15, sg_labels_15, \"sg\")\n",
    "sg_data_16 = calculate_pmm(sg_data_16, sg_labels_16, \"sg\")\n",
    "sg_data_17 = calculate_pmm(sg_data_17, sg_labels_17, \"sg\")"
   ]
  },
  {
   "cell_type": "code",
   "execution_count": 8,
   "metadata": {},
   "outputs": [],
   "source": [
    "# Combine the dataframes by left merging\n",
    "\n",
    "ind_data = ind_data_14.merge(ind_data_15, on='HIOS ID', how='outer', suffixes=('_14', '_15'))\\\n",
    ".merge(ind_data_16, on='HIOS ID', how='outer').merge(ind_data_17, on='HIOS ID', how='outer', suffixes=('_16', '_17'))"
   ]
  },
  {
   "cell_type": "code",
   "execution_count": 9,
   "metadata": {},
   "outputs": [],
   "source": [
    "# Do the same thing for small group\n",
    "\n",
    "sg_data = sg_data_14.merge(sg_data_15, on='HIOS ID', how='outer', suffixes=('_14', '_15'))\\\n",
    ".merge(sg_data_16, on='HIOS ID', how='outer').merge(sg_data_17, on='HIOS ID', how='outer', suffixes=('_16', '_17'))"
   ]
  },
  {
   "cell_type": "code",
   "execution_count": 10,
   "metadata": {},
   "outputs": [],
   "source": [
    "dfs = [sg_data_14, sg_data_15, sg_data_16, sg_data_17]"
   ]
  },
  {
   "cell_type": "code",
   "execution_count": 11,
   "metadata": {},
   "outputs": [
    {
     "name": "stdout",
     "output_type": "stream",
     "text": [
      "Cbar is 4398.953\n",
      "WI 14 Ratio is 1.127\n",
      "WI 15 Ratio is 1.099\n",
      "WI 16 Ratio is 1.053\n",
      "WI 17 Ratio is 1.005\n",
      "Empirical Transfers Sum = 130331575.144\n"
     ]
    }
   ],
   "source": [
    "dfs_new, empirical_transfers_sum = normalize_empirical_data_to_avg_2017_dollars(dfs, states)"
   ]
  },
  {
   "cell_type": "code",
   "execution_count": 12,
   "metadata": {},
   "outputs": [],
   "source": [
    "for df_temp in dfs_new:\n",
    "    df_temp[\"TransfersNormalizedPerSqrtEnrollee\"] = df_temp[\"TransfersNormalized\"] / np.sqrt(df_temp[\"Enrollees\"])"
   ]
  },
  {
   "cell_type": "code",
   "execution_count": 13,
   "metadata": {},
   "outputs": [
    {
     "name": "stdout",
     "output_type": "stream",
     "text": [
      "104\n",
      "104\n",
      "Executed in 0.946 s\n"
     ]
    }
   ],
   "source": [
    "start_cost_matrix = time.time()\n",
    "\n",
    "stateyear_to_df = dict()\n",
    "stateyear_to_random = dict()\n",
<<<<<<< HEAD
    "\n",
    "c_bar = 4398.953\n",
=======
>>>>>>> 6136e7a2a5c3a30ff4fc5f603a5e52ae506c3fbd
    "    \n",
    "sum_sqrt_a = 0\n",
    "cost_matrix_sum = 0\n",
    "df_sum = 0\n",
    "for current_state in states:\n",
    "    for df_index in range(4):\n",
    "        label = current_state + df_index_to_year[df_index]\n",
    "        this_df = state(dfs[df_index], current_state)\n",
    "        if len(this_df) > 0:\n",
    "            sum_n = sum(this_df[\"Enrollees\"])\n",
    "            this_df[\"sum_n_minus_n_i\"] = sum_n - this_df[\"Enrollees\"]\n",
    "            this_df[\"a\"] = this_df[\"Enrollees\"] * (this_df[\"sum_n_minus_n_i\"] / sum_n)**2 + this_df[\"sum_n_minus_n_i\"] * (this_df[\"Enrollees\"] / sum_n)**2\n",
    "            this_df[\"sqrt_a\"] = np.sqrt(this_df[\"a\"])\n",
<<<<<<< HEAD
    "            c_stateyear = sum(this_df[\"TotalCosts\"]) / sum(this_df[\"Enrollees\"])\n",
    "            \n",
    "            cost_matrix = [np.random.normal(0, sqrta, 10**5) for sqrta in this_df[\"sqrt_a\"]]\n",
    "            cost_matrix = np.array(cost_matrix) * c_bar / c_stateyear\n",
    "            \n",
    "            cost_matrix_sum = cost_matrix_sum + len(cost_matrix)\n",
    "            df_sum = df_sum + len(this_df[\"sqrt_a\"])\n",
    "            sum_sqrt_a = sum_sqrt_a + sum(this_df[\"sqrt_a\"])\n",
=======
    "            \n",
    "            cost_matrix = [np.random.normal(0, sqrta, 10**5) for sqrta in this_df[\"sqrt_a\"]]\n",
    "            cost_matrix_sum = cost_matrix_sum + len(cost_matrix)\n",
    "            df_sum = df_sum + len(this_df[\"sqrt_a\"])\n",
    "            sum_sqrt_a = sum_sqrt_a + sum(this_df[\"sqrt_a\"])\n",
    "            #this_df[\"sim_distr\"] = np.random.normal(0, this_df[\"sqrt_a\"], 10000)\n",
>>>>>>> 6136e7a2a5c3a30ff4fc5f603a5e52ae506c3fbd
    "            stateyear_to_df[label] = this_df\n",
    "            stateyear_to_random[label] = np.array(cost_matrix)\n",
    "end_cost_matrix = time.time()\n",
    "            \n",
    "print(cost_matrix_sum)\n",
    "print(df_sum)\n",
    "print(\"Executed in %.3f s\" % (end_cost_matrix - start_cost_matrix))"
   ]
  },
  {
   "cell_type": "code",
   "execution_count": 14,
   "metadata": {},
   "outputs": [],
   "source": [
    "lab = \"TransfersNormalizedPerSqrtEnrollee\"\n",
    "\n",
    "\n",
    "abs_empirical_di = np.absolute(np.concatenate((np.array(dfs_new[0][lab]),\n",
    "                                               np.array(dfs_new[1][lab]),\n",
    "                                               np.array(dfs_new[2][lab]),\n",
    "                                               np.array(dfs_new[3][lab]))))\n",
    "sorted_abs_empirical_di = np.sort(abs_empirical_di)"
   ]
  },
  {
   "cell_type": "code",
<<<<<<< HEAD
   "execution_count": 15,
=======
   "execution_count": null,
>>>>>>> 6136e7a2a5c3a30ff4fc5f603a5e52ae506c3fbd
   "metadata": {
    "scrolled": true
   },
   "outputs": [
    {
     "name": "stdout",
     "output_type": "stream",
     "text": [
<<<<<<< HEAD
      "0 iterations completed in 0.0 s\n",
      "10000 iterations completed in 66.3 s\n",
      "20000 iterations completed in 65.4 s\n",
      "30000 iterations completed in 68.0 s\n",
      "40000 iterations completed in 66.5 s\n",
      "50000 iterations completed in 66.6 s\n",
      "60000 iterations completed in 63.5 s\n",
      "70000 iterations completed in 65.2 s\n",
      "80000 iterations completed in 65.0 s\n",
      "90000 iterations completed in 63.2 s\n"
=======
      "0 iterations completed in 0.0 s\n"
>>>>>>> 6136e7a2a5c3a30ff4fc5f603a5e52ae506c3fbd
     ]
    }
   ],
   "source": [
    "beta = 40000\n",
    "pval = 0.01\n",
    "k = len(sorted_abs_empirical_di)\n",
<<<<<<< HEAD
    "all_transfers, all_di = apr_test_imbalances_2017_NEW(stateyear_to_df, stateyear_to_random, beta, k, big_j)"
=======
    "all_transfers, all_di = apr_test_imbalances_2017(stateyear_to_df, stateyear_to_random, beta, k, big_j)"
>>>>>>> 6136e7a2a5c3a30ff4fc5f603a5e52ae506c3fbd
   ]
  },
  {
   "cell_type": "code",
<<<<<<< HEAD
   "execution_count": 16,
   "metadata": {},
   "outputs": [],
   "source": [
    "np.save(t_file, all_transfers[0:1000])\n",
    "np.save(d_file, all_di[0:1000])"
=======
   "execution_count": null,
   "metadata": {},
   "outputs": [],
   "source": [
    "np.save(t_file, all_transfers)\n",
    "np.save(d_file, all_di)"
>>>>>>> 6136e7a2a5c3a30ff4fc5f603a5e52ae506c3fbd
   ]
  },
  {
   "cell_type": "code",
<<<<<<< HEAD
   "execution_count": 17,
   "metadata": {},
   "outputs": [],
   "source": [
    "simulated_transfers = all_transfers\n",
    "simulated_di = all_di"
=======
   "execution_count": null,
   "metadata": {},
   "outputs": [],
   "source": [
    "simulated_transfers = np.load(t_file)\n",
    "simulated_di = np.load(d_file)"
>>>>>>> 6136e7a2a5c3a30ff4fc5f603a5e52ae506c3fbd
   ]
  },
  {
   "cell_type": "code",
<<<<<<< HEAD
   "execution_count": 18,
   "metadata": {},
   "outputs": [
    {
     "name": "stdout",
     "output_type": "stream",
     "text": [
      "P10Empirical = 966.150\n",
      "P15Empirical = 1113.230\n",
      "P20Empirical = 1677.764\n"
     ]
    }
   ],
=======
   "execution_count": null,
   "metadata": {},
   "outputs": [],
>>>>>>> 6136e7a2a5c3a30ff4fc5f603a5e52ae506c3fbd
   "source": [
    "percentile_idx = int(len(sorted_abs_empirical_di) * 0.10)\n",
    "p10empirical = sorted_abs_empirical_di[percentile_idx]\n",
    "print(\"P10Empirical = %.3f\" % (p10empirical))\n",
    "\n",
    "percentile_idx = int(len(sorted_abs_empirical_di) * 0.15)\n",
    "p15empirical = sorted_abs_empirical_di[percentile_idx]\n",
    "print(\"P15Empirical = %.3f\" % (p15empirical))\n",
    "\n",
    "percentile_idx = int(len(sorted_abs_empirical_di) * 0.2)\n",
    "p20empirical = sorted_abs_empirical_di[percentile_idx]\n",
    "print(\"P20Empirical = %.3f\" % (p20empirical))"
   ]
  },
  {
   "cell_type": "code",
<<<<<<< HEAD
   "execution_count": 19,
=======
   "execution_count": null,
>>>>>>> 6136e7a2a5c3a30ff4fc5f603a5e52ae506c3fbd
   "metadata": {},
   "outputs": [],
   "source": [
    "abs_simulated_di = np.absolute(simulated_di)  \n",
    "sorted_abs_simulated_di = np.sort(abs_simulated_di, axis=1)"
   ]
  },
  {
   "cell_type": "code",
<<<<<<< HEAD
   "execution_count": 20,
=======
   "execution_count": null,
>>>>>>> 6136e7a2a5c3a30ff4fc5f603a5e52ae506c3fbd
   "metadata": {},
   "outputs": [],
   "source": [
    "def calculate_beta_from_x(x):\n",
    "    percentile_idx = int(k * x)\n",
    "    px_empirical = sorted_abs_empirical_di[percentile_idx]\n",
    "    pxs = sorted_abs_simulated_di[:,percentile_idx]\n",
    "    sorted_pxs = np.sort(pxs)\n",
    "    px_idx = int((pval)*big_j)\n",
    "    qx = sorted_pxs[px_idx]\n",
    "    beta = px_empirical * 40000 / qx\n",
    "    print(\"x = %.2f, beta = %.3f\" % (x, beta))\n",
    "    return beta"
   ]
  },
  {
   "cell_type": "code",
<<<<<<< HEAD
   "execution_count": 21,
   "metadata": {},
   "outputs": [
    {
     "name": "stdout",
     "output_type": "stream",
     "text": [
      "x = 0.10, beta = 16915.971\n",
      "x = 0.12, beta = 13519.131\n",
      "x = 0.15, beta = 11299.591\n",
      "x = 0.17, beta = 11800.251\n",
      "x = 0.20, beta = 11752.735\n"
     ]
    }
   ],
=======
   "execution_count": null,
   "metadata": {},
   "outputs": [],
>>>>>>> 6136e7a2a5c3a30ff4fc5f603a5e52ae506c3fbd
   "source": [
    "xs = [0.1, 0.125, 0.15, 0.175, 0.2]\n",
    "min_beta = 100000\n",
    "min_x = 0\n",
    "for x in xs:\n",
    "    beta = calculate_beta_from_x(x)\n",
    "    if beta < min_beta:\n",
    "        min_beta = beta\n",
    "        min_x = x"
   ]
  },
  {
   "cell_type": "code",
<<<<<<< HEAD
   "execution_count": 22,
=======
   "execution_count": null,
>>>>>>> 6136e7a2a5c3a30ff4fc5f603a5e52ae506c3fbd
   "metadata": {},
   "outputs": [],
   "source": [
    "df2 = create_df2(states, dfs_new, \"TransfersNormalizedPerSqrtEnrollee\")\n",
    "k = len(df2)\n",
    "v = np.linspace(0, max(abs(df2)), 10000)\n",
    "v = v[1:len(v)]\n",
    "\n",
    "ratios = [ratio_list(df2, vi) for vi in v]\n",
    "begin_p = 5/k\n",
    "end_p = 1-begin_p\n",
    "start_index = 0\n",
    "end_index = 0\n",
    "for index, ratio2 in enumerate(ratios):\n",
    "    if ratio2 >= begin_p:\n",
    "        start_index = index\n",
    "        break\n",
    "    \n",
    "for index, ratio2 in enumerate(ratios):\n",
    "    if ratio2 > end_p:\n",
    "        end_index = index\n",
    "        break\n",
    "\n",
    "if end_index == 0:\n",
    "    end_index = len(v) - 1\n",
    "    \n",
    "v = v[start_index:end_index]\n",
    "\n",
    "ratios2 = ratios[start_index:end_index]\n",
    "ratios_sim1 = [ratio_list(all_di[0] * min_beta / 40000, vi) for vi in v]\n",
    "ratios_sim2 = [ratio_list(all_di[1] * min_beta / 40000, vi) for vi in v]\n",
    "ratios_sim3 = [ratio_list(all_di[2] * min_beta / 40000, vi) for vi in v]"
   ]
  },
  {
   "cell_type": "code",
<<<<<<< HEAD
   "execution_count": 23,
   "metadata": {},
   "outputs": [
    {
     "data": {
      "image/png": "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\n",
      "text/plain": [
       "<Figure size 720x504 with 1 Axes>"
      ]
     },
     "metadata": {},
     "output_type": "display_data"
    }
   ],
=======
   "execution_count": null,
   "metadata": {},
   "outputs": [],
>>>>>>> 6136e7a2a5c3a30ff4fc5f603a5e52ae506c3fbd
   "source": [
    "plt.figure(figsize=(10, 7))\n",
    "plt.plot(v, ratios_sim1, label=\"Sample Simulation 1\", color='b')\n",
    "plt.plot(v, ratios_sim2, label=\"Sample Simulation 2\", color='c')\n",
    "plt.plot(v, ratios_sim3, label=\"Sample Simulation 3\", color='cornflowerblue')\n",
    "plt.plot(v, ratios2, label=\"P(|d_i|<v) (empirical)\", color='darkorange')\n",
    "plt.title(\"Q_x Simulation with beta=%d and P(|d_i|<v) vs. v for %s 2014-2017 (k=%d)\" % (min_beta, state_label, len(df2)))\n",
    "plt.xlabel(\"v\")\n",
    "plt.ylabel(\"CDF\")\n",
    "plt.axhline(y=0.1, color='yellowgreen', linestyle='--', label=\"0.1\")\n",
    "plt.axhline(y=0.15, color='lime', linestyle='--', label=\"0.15\")\n",
    "plt.axhline(y=0.2, color='mediumseagreen', linestyle='--', label=\"0.2\")\n",
    "plt.legend()\n",
    "plt.show()"
   ]
  },
  {
   "cell_type": "code",
<<<<<<< HEAD
   "execution_count": 24,
   "metadata": {},
   "outputs": [
    {
     "data": {
      "image/png": "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\n",
      "text/plain": [
       "<Figure size 720x504 with 1 Axes>"
      ]
     },
     "metadata": {},
     "output_type": "display_data"
    }
   ],
=======
   "execution_count": null,
   "metadata": {},
   "outputs": [],
>>>>>>> 6136e7a2a5c3a30ff4fc5f603a5e52ae506c3fbd
   "source": [
    "plt.figure(figsize=(10, 7))\n",
    "plt.plot(v, ratios_sim1, label=\"Sample Simulation 1\", color='b')\n",
    "plt.plot(v, ratios_sim2, label=\"Sample Simulation 2\", color='c')\n",
    "plt.plot(v, ratios_sim3, label=\"Sample Simulation 3\", color='cornflowerblue')\n",
    "plt.plot(v, ratios2, label=\"P(|d_i|<v) (empirical)\", color='darkorange')\n",
    "plt.title(\"Q_%d Simulation with beta=%d and P(|d_i|<v) vs. v for %s 2014-2017 (k=%d)\" % (min_x * 100, min_beta, state_label, len(df2)))\n",
    "plt.axhline(y=min_x, color='g', linestyle='--', label=str(min_x))\n",
    "plt.legend()\n",
    "plt.xlim((2000, 20000))\n",
    "plt.xlabel(\"v\")\n",
    "plt.ylabel(\"CDF\")\n",
    "plt.show()"
   ]
  },
  {
   "cell_type": "code",
<<<<<<< HEAD
   "execution_count": 25,
   "metadata": {},
   "outputs": [
    {
     "name": "stdout",
     "output_type": "stream",
     "text": [
      "Beta (=std): 11299\n",
      "Number of T/sqrt(n) above 2 stds: 24\n",
      "Proportion of T/sqrt(n) above 2 stds: 0.231\n",
      "P value = 0.000000\n"
     ]
    }
   ],
=======
   "execution_count": null,
   "metadata": {},
   "outputs": [],
>>>>>>> 6136e7a2a5c3a30ff4fc5f603a5e52ae506c3fbd
   "source": [
    "run_binom_stat_test2(min_beta, df2.values)"
   ]
  },
  {
   "cell_type": "code",
<<<<<<< HEAD
   "execution_count": 26,
   "metadata": {},
   "outputs": [
    {
     "name": "stdout",
     "output_type": "stream",
     "text": [
      "Sum of Empirical Transfers\n",
      "130331575.144\n",
      "Average Sum of Simulated Transfers\n",
      "38432560.352\n",
      "Empirical/Simulated Ratio\n",
      "3.391\n"
     ]
    }
   ],
=======
   "execution_count": null,
   "metadata": {},
   "outputs": [],
>>>>>>> 6136e7a2a5c3a30ff4fc5f603a5e52ae506c3fbd
   "source": [
    "print(\"Sum of Empirical Transfers\")\n",
    "print(\"%.3f\" % (empirical_transfers_sum))\n",
    "\n",
    "print(\"Average Sum of Simulated Transfers\")\n",
    "simulated_transfers_sum = np.mean(np.sum(np.absolute(simulated_transfers * this_beta / 100000), axis=1))\n",
    "print(\"%.3f\" % (simulated_transfers_sum))\n",
    "\n",
    "print(\"Empirical/Simulated Ratio\")\n",
    "print(\"%.3f\" % (empirical_transfers_sum / simulated_transfers_sum))"
   ]
  },
  {
   "cell_type": "code",
   "execution_count": null,
   "metadata": {},
   "outputs": [],
   "source": []
  }
 ],
 "metadata": {
  "kernelspec": {
   "display_name": "Python 3",
   "language": "python",
   "name": "python3"
  },
  "language_info": {
   "codemirror_mode": {
    "name": "ipython",
    "version": 3
   },
   "file_extension": ".py",
   "mimetype": "text/x-python",
   "name": "python",
   "nbconvert_exporter": "python",
   "pygments_lexer": "ipython3",
   "version": "3.6.5"
  }
 },
 "nbformat": 4,
 "nbformat_minor": 2
}
