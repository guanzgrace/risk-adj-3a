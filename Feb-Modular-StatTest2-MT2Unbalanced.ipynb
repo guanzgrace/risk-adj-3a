{
 "cells": [
  {
   "cell_type": "code",
   "execution_count": 1,
   "metadata": {},
   "outputs": [],
   "source": [
    "%run StatTest2_WithSimulation_Setup.ipynb"
   ]
  },
  {
   "cell_type": "code",
   "execution_count": 2,
   "metadata": {
    "scrolled": true
   },
   "outputs": [
    {
     "name": "stderr",
     "output_type": "stream",
     "text": [
      "/anaconda3/lib/python3.6/site-packages/IPython/core/interactiveshell.py:2785: DtypeWarning: Columns (1,2,52,323,649,882,932,1092,1202) have mixed types. Specify dtype option on import or set low_memory=False.\n",
      "  interactivity=interactivity, compiler=compiler, result=result)\n",
      "/anaconda3/lib/python3.6/site-packages/IPython/core/interactiveshell.py:2785: DtypeWarning: Columns (1,2,57,204,341,376,377,396,430,431,928,944,1006,1013,1151,1160,1169,1179,1411) have mixed types. Specify dtype option on import or set low_memory=False.\n",
      "  interactivity=interactivity, compiler=compiler, result=result)\n",
      "/anaconda3/lib/python3.6/site-packages/IPython/core/interactiveshell.py:2785: DtypeWarning: Columns (1,2,17,163,355,406,702,835,847,1083,1156,1183,1185,1200) have mixed types. Specify dtype option on import or set low_memory=False.\n",
      "  interactivity=interactivity, compiler=compiler, result=result)\n"
     ]
    }
   ],
   "source": [
    "data2014 = pd.read_csv(\"Our_Dataset/2014dataset.csv\")\n",
    "data2015 = pd.read_csv(\"Our_Dataset/2015dataset.csv\")\n",
    "data2016 = pd.read_csv(\"Our_Dataset/2016dataset.csv\")\n",
    "data2017 = pd.read_csv(\"Our_Dataset/2017dataset.csv\")"
   ]
  },
  {
   "cell_type": "code",
   "execution_count": 3,
   "metadata": {},
   "outputs": [],
   "source": [
    "# Create the labels.\n",
    "# By index:\n",
    "# label 2 is transfers\n",
    "# label 3 is premiums\n",
    "# label 4 is costs\n",
    "# label 5 is member months\n",
    "# label 6 is reinsurance (individual group only)\n",
    "\n",
    "ind_labels_14 = [\"HIOS ID\", \"HIOS INPUTTED INSURANCE COMPANY NAME\",\n",
    "                  \"HHS RISK ADJUSTMENT TRANSFER AMOUNT (INDIVIDUAL MARKET, INCLUDING CATASTROPHIC)\",\n",
    "                  \"1.1Directpremiumwritten2HealthInsuranceINDIVIDUALTotalasof3/31/15\",\n",
    "                  \"2.16Totalincurredclaims2HealthInsuranceINDIVIDUALTotalasof3/31/15\",\n",
    "                  \"7.4Membermonths2HealthInsuranceINDIVIDUALTotalasof3/31/15\",\n",
    "                  \"STATE\", \"REINSURANCE PAYMENT AMOUNT (OR NOT ELIGIBLE)\"] # no more reinsurance as of 2017\n",
    "ind_labels_15 = [label.replace('15', '16') for label in ind_labels_14]\n",
    "ind_labels_16 = [label.replace('15', '17') for label in ind_labels_14]\n",
    "ind_labels_17 = [label.replace('15', '18') for label in ind_labels_14][:-1]\n",
    "\n",
    "sg_labels_14 = [\"HIOS ID\", \"HIOS INPUTTED INSURANCE COMPANY NAME\",\n",
    "                 \"HHS RISK ADJUSTMENT TRANSFERS AMOUNT (SMALL GROUP MARKET)\",\n",
    "                  \"1.1Directpremiumwritten7HealthInsuranceSMALLGROUPTotalasof3/31/15\",\n",
    "                  \"2.16Totalincurredclaims7HealthInsuranceSMALLGROUPTotalasof3/31/15\",\n",
    "                  \"7.4Membermonths7HealthInsuranceSMALLGROUPTotalasof3/31/15\", \"STATE\"]\n",
    "sg_labels_15 = [label.replace('15', '16') for label in sg_labels_14]\n",
    "sg_labels_16 = [label.replace('15', '17') for label in sg_labels_14]\n",
    "sg_labels_17 = [label.replace('15', '18') for label in sg_labels_14]"
   ]
  },
  {
   "cell_type": "code",
   "execution_count": 4,
   "metadata": {},
   "outputs": [],
   "source": [
    "# Filter the data to include only the fields we want\n",
    "\n",
    "ind_data_14 = data2014[ind_labels_14].dropna()\n",
    "ind_data_15 = data2015[ind_labels_15].dropna()\n",
    "ind_data_16 = data2016[ind_labels_16].dropna()\n",
    "ind_data_17 = data2017[ind_labels_17].dropna()\n",
    "sg_data_14 = data2014[sg_labels_14].dropna()\n",
    "sg_data_15 = data2015[sg_labels_15].dropna()\n",
    "sg_data_16 = data2016[sg_labels_16].dropna()\n",
    "sg_data_17 = data2017[sg_labels_17].dropna()"
   ]
  },
  {
   "cell_type": "code",
   "execution_count": 5,
   "metadata": {},
   "outputs": [],
   "source": [
    "# Drop companies with <2000 MM\n",
    "ind_data_14 = ind_data_14.where(ind_data_14[ind_labels_14[5]] > 2000).dropna()\n",
    "ind_data_15 = ind_data_15.where(ind_data_15[ind_labels_15[5]] > 2000).dropna()\n",
    "ind_data_16 = ind_data_16.where(ind_data_16[ind_labels_16[5]] > 2000).dropna()\n",
    "ind_data_17 = ind_data_17.where(ind_data_17[ind_labels_17[5]] > 2000).dropna()\n",
    "sg_data_14 = sg_data_14.where(sg_data_14[sg_labels_14[5]] > 2000).dropna()\n",
    "sg_data_15 = sg_data_15.where(sg_data_15[sg_labels_15[5]] > 2000).dropna()\n",
    "sg_data_16 = sg_data_16.where(sg_data_16[sg_labels_16[5]] > 2000).dropna()\n",
    "sg_data_17 = sg_data_17.where(sg_data_17[sg_labels_17[5]] > 2000).dropna()"
   ]
  },
  {
   "cell_type": "code",
   "execution_count": 6,
   "metadata": {},
   "outputs": [],
   "source": [
    "# Calculate transfers, premiums, costs, and reinsurance (if individual group) per member month\n",
    "def calculate_pmm(df, df_labels, group):\n",
    "    df[\"MM\"] = df[df_labels[5]]\n",
    "    df[\"Transfers\"] = df[df_labels[2]]\n",
    "    df[\"TotalCosts\"] = abs(df[df_labels[4]])\n",
    "    df[\"Enrollees\"] = df[\"MM\"] / 12\n",
    "    df[\"TransfersPerEnrollee\"] = df[\"Transfers\"] / df[\"Enrollees\"]\n",
    "    df[\"TransfersPerSqrtEnrollee\"] = df[\"Transfers\"] / np.sqrt(df[\"Enrollees\"])\n",
    "    df[\"LogEnrollees\"] = np.log(df[\"Enrollees\"])\n",
    "    df[\"LogTransfers\"] = np.log(df[\"Transfers\"]**2 + 1)\n",
    "    df[\"TransfersPMM\"] = df[df_labels[2]] / df[df_labels[5]]\n",
    "    df[\"PremiumsPMM\"] = abs(df[df_labels[3]] / df[df_labels[5]])\n",
    "    df[\"CostsPMM\"] = abs(df[df_labels[4]] / df[df_labels[5]])\n",
    "    if group == \"i\":\n",
    "        df[\"ReinsurancePMM\"] = df[df_labels[7]] / df[df_labels[5]]\n",
    "        df[\"ProfitsPMM\"] = df[\"PremiumsPMM\"] - df[\"CostsPMM\"] + df[\"TransfersPMM\"] + df[\"ReinsurancePMM\"]\n",
    "        #df[\"PremMinusCostsPlusReinsurancePMM\"] = df[\"PremiumsPMM\"] - df[\"CostsPMM\"] + df[\"ReinsurancePMM\"]\n",
    "    elif group == \"sg\":\n",
    "        df[\"ProfitsPMM\"] = df[\"PremiumsPMM\"] - df[\"CostsPMM\"] + df[\"TransfersPMM\"]\n",
    "    df[\"PremMinusCostsPMM\"] = df[\"PremiumsPMM\"] - df[\"CostsPMM\"]\n",
    "    df[\"PremMinusCostsPlusTransfersPMM\"] = df[\"PremiumsPMM\"] - df[\"CostsPMM\"] + df[\"TransfersPMM\"]\n",
    "    df[\"SicknessPMM\"] = df[\"CostsPMM\"] - df[\"PremiumsPMM\"]\n",
    "    average_sickness = np.mean(df[\"SicknessPMM\"])\n",
    "    df[\"ExcessSicknessPMM\"] = df[\"SicknessPMM\"] - average_sickness\n",
    "    return df\n",
    "\n",
    "ind_data_14 = calculate_pmm(ind_data_14, ind_labels_14, \"i\")\n",
    "ind_data_15 = calculate_pmm(ind_data_15, ind_labels_15, \"i\")\n",
    "ind_data_16 = calculate_pmm(ind_data_16, ind_labels_16, \"i\")\n",
    "ind_data_17 = calculate_pmm(ind_data_17, ind_labels_17, \"sg\")\n",
    "sg_data_14 = calculate_pmm(sg_data_14, sg_labels_14, \"sg\")\n",
    "sg_data_15 = calculate_pmm(sg_data_15, sg_labels_15, \"sg\")\n",
    "sg_data_16 = calculate_pmm(sg_data_16, sg_labels_16, \"sg\")\n",
    "sg_data_17 = calculate_pmm(sg_data_17, sg_labels_17, \"sg\")"
   ]
  },
  {
   "cell_type": "code",
   "execution_count": 7,
   "metadata": {},
   "outputs": [],
   "source": [
    "# Combine the dataframes by left merging\n",
    "\n",
    "ind_data = ind_data_14.merge(ind_data_15, on='HIOS ID', how='outer', suffixes=('_14', '_15'))\\\n",
    ".merge(ind_data_16, on='HIOS ID', how='outer').merge(ind_data_17, on='HIOS ID', how='outer', suffixes=('_16', '_17'))"
   ]
  },
  {
   "cell_type": "code",
   "execution_count": 8,
   "metadata": {},
   "outputs": [],
   "source": [
    "# Do the same thing for small group\n",
    "\n",
    "sg_data = sg_data_14.merge(sg_data_15, on='HIOS ID', how='outer', suffixes=('_14', '_15'))\\\n",
    ".merge(sg_data_16, on='HIOS ID', how='outer').merge(sg_data_17, on='HIOS ID', how='outer', suffixes=('_16', '_17'))"
   ]
  },
  {
   "cell_type": "code",
   "execution_count": 9,
   "metadata": {},
   "outputs": [],
   "source": [
    "states = [\"MT\"]\n",
    "dfs = [sg_data_14, sg_data_15, sg_data_16, sg_data_17]"
   ]
  },
  {
   "cell_type": "code",
   "execution_count": 10,
   "metadata": {},
   "outputs": [
    {
     "name": "stdout",
     "output_type": "stream",
     "text": [
      "7\n",
      "6\n",
      "3\n",
      "3\n",
      "MT 14 Ratio is 1.050\n",
      "MT 15 Ratio is 0.976\n",
      "MT 16 Ratio is 1.018\n",
      "MT 17 Ratio is 0.959\n"
     ]
    }
   ],
   "source": [
    "dfs_new = normalize_empirical_data(dfs, states)"
   ]
  },
  {
   "cell_type": "code",
   "execution_count": 11,
   "metadata": {},
   "outputs": [],
   "source": [
    "for df_temp in dfs_new:\n",
    "    df_temp[\"TransfersNormalizedPerSqrtEnrollee\"] = df_temp[\"TransfersNormalized\"] / np.sqrt(df_temp[\"Enrollees\"])"
   ]
  },
  {
   "cell_type": "code",
   "execution_count": 12,
   "metadata": {},
   "outputs": [
    {
     "data": {
      "text/html": [
       "<div>\n",
       "<style scoped>\n",
       "    .dataframe tbody tr th:only-of-type {\n",
       "        vertical-align: middle;\n",
       "    }\n",
       "\n",
       "    .dataframe tbody tr th {\n",
       "        vertical-align: top;\n",
       "    }\n",
       "\n",
       "    .dataframe thead th {\n",
       "        text-align: right;\n",
       "    }\n",
       "</style>\n",
       "<table border=\"1\" class=\"dataframe\">\n",
       "  <thead>\n",
       "    <tr style=\"text-align: right;\">\n",
       "      <th></th>\n",
       "      <th>TransfersPerSqrtEnrollee</th>\n",
       "      <th>TransfersNormalizedPerSqrtEnrollee</th>\n",
       "    </tr>\n",
       "  </thead>\n",
       "  <tbody>\n",
       "    <tr>\n",
       "      <th>298</th>\n",
       "      <td>-42261.328453</td>\n",
       "      <td>-40515.511159</td>\n",
       "    </tr>\n",
       "    <tr>\n",
       "      <th>299</th>\n",
       "      <td>28323.645597</td>\n",
       "      <td>27153.594580</td>\n",
       "    </tr>\n",
       "    <tr>\n",
       "      <th>300</th>\n",
       "      <td>-13460.971537</td>\n",
       "      <td>-12904.898225</td>\n",
       "    </tr>\n",
       "  </tbody>\n",
       "</table>\n",
       "</div>"
      ],
      "text/plain": [
       "     TransfersPerSqrtEnrollee  TransfersNormalizedPerSqrtEnrollee\n",
       "298             -42261.328453                       -40515.511159\n",
       "299              28323.645597                        27153.594580\n",
       "300             -13460.971537                       -12904.898225"
      ]
     },
     "execution_count": 12,
     "metadata": {},
     "output_type": "execute_result"
    }
   ],
   "source": [
    "dfs_new[3][[\"TransfersPerSqrtEnrollee\", \"TransfersNormalizedPerSqrtEnrollee\"]]"
   ]
  },
  {
   "cell_type": "code",
   "execution_count": 13,
   "metadata": {},
   "outputs": [],
   "source": [
    "df2 = create_df2(states, dfs_new, \"TransfersNormalizedPerSqrtEnrollee\")"
   ]
  },
  {
   "cell_type": "code",
   "execution_count": 14,
   "metadata": {},
   "outputs": [],
   "source": [
    "k = len(df2)\n",
    "v = np.linspace(0, max(abs(df2)), 10000)\n",
    "v = v[1:len(v)]\n",
    "\n",
    "ratios = [ratio_list(df2, vi) for vi in v]\n",
    "#print(ratios)\n",
    "begin_p = 5/k\n",
    "end_p = 1-begin_p\n",
    "start_index = 0\n",
    "end_index = 0\n",
    "for index, ratio2 in enumerate(ratios):\n",
    "    if ratio2 >= begin_p:\n",
    "        start_index = index\n",
    "        break\n",
    "    \n",
    "for index, ratio2 in enumerate(ratios):\n",
    "    if ratio2 > end_p:\n",
    "        end_index = index\n",
    "        break\n",
    "\n",
    "if end_index == 0:\n",
    "    end_index = len(v) - 1\n",
    "    \n",
    "v = v[start_index:end_index]\n",
    "\n",
    "ratios2 = ratios[start_index:end_index]\n",
    "multiplier = [np.sqrt(2)/vi for vi in v]\n",
    "#plt.plot(v, ratios2)\n",
    "#plt.plot(v, multiplier)"
   ]
  },
  {
   "cell_type": "code",
   "execution_count": 15,
   "metadata": {},
   "outputs": [],
   "source": [
    "y = [multiplier[i] * special.erfinv(ratio2) for i, ratio2 in enumerate(ratios2)]\n",
    "#plt.plot(v, y)\n",
    "#plt.title(\"1/beta vs. v\")\n",
    "beta = [1/yi for yi in y]\n",
    "#plt.plot(v, beta)\n",
    "#plt.axvline(x=64432.69, color='r', linestyle='--', label=\"Point of max difference\")\n",
    "#plt.title(\"beta vs. v\")"
   ]
  },
  {
   "cell_type": "code",
   "execution_count": 16,
   "metadata": {},
   "outputs": [],
   "source": [
    "# Finding the minimum beta\n",
    "# Whenever we reject a beta, we reject all betas greater than that,\n",
    "# so keep pushing beta smaller until we reach max_difference == test_statistic\n",
    "# Run test for larger data sizes (combining states, years)"
   ]
  },
  {
   "cell_type": "code",
   "execution_count": 17,
   "metadata": {},
   "outputs": [],
   "source": [
    "max_beta=max(beta)\n",
    "max_beta = int(max_beta/100)*100"
   ]
  },
  {
   "cell_type": "code",
   "execution_count": 18,
   "metadata": {
    "scrolled": true
   },
   "outputs": [
    {
     "name": "stdout",
     "output_type": "stream",
     "text": [
      "beta = 14300.000\n"
     ]
    },
    {
     "data": {
      "image/png": "[encoded data removed]",
      "text/plain": [
       "<Figure size 432x288 with 1 Axes>"
      ]
     },
     "metadata": {},
     "output_type": "display_data"
    }
   ],
   "source": [
    "theoretical = [special.erf(vi/(max_beta*np.sqrt(2))) for vi in v]\n",
    "\n",
    "plt.plot(v, theoretical, label=\"P(|N(0,beta^2)|<v)\")\n",
    "plt.plot(v, ratios2, label=\"P(|d_i|<v)\")\n",
    "plt.title(\"P(|N(0,beta^2)|<v) and P(|d_i|<v) vs. v for %s 2014-2017 (k=%d)\" % (states, len(df2)))\n",
    "#plt.axvline(x=64432.69, color='r', linestyle='--', label=\"Point of max difference\")\n",
    "plt.legend()\n",
    "print(\"beta = %.3f\" % (max_beta))"
   ]
  },
  {
   "cell_type": "code",
   "execution_count": 19,
   "metadata": {},
   "outputs": [
    {
     "name": "stdout",
     "output_type": "stream",
     "text": [
      "k = 19\n",
      "test_stat at this k = 0.31157\n",
      "\n",
      "At the point of maximum difference with beta = 14300:\n",
      "P(|d_i|<v) = 0.4211\n",
      "P(|N(0,max_beta^2)|<v) = 0.0884\n",
      "Difference = 0.3327\n",
      "\n",
      "\n",
      "\n",
      "\n",
      "At the point of maximum difference with beta = 14300:\n",
      "P(|d_i|<v) = 0.4211\n",
      "P(|N(0,max_beta^2)|<v) = 0.0884\n",
      "Difference = 0.3327\n",
      "\n",
      "\n",
      "\n",
      "\n",
      "At the point of maximum difference with beta = 14200:\n",
      "P(|d_i|<v) = 0.4211\n",
      "P(|N(0,max_beta^2)|<v) = 0.0890\n",
      "Difference = 0.3320\n",
      "\n",
      "\n",
      "\n",
      "\n",
      "At the point of maximum difference with beta = 14100:\n",
      "P(|d_i|<v) = 0.4211\n",
      "P(|N(0,max_beta^2)|<v) = 0.0896\n",
      "Difference = 0.3314\n",
      "\n",
      "\n",
      "\n",
      "\n",
      "At the point of maximum difference with beta = 14000:\n",
      "P(|d_i|<v) = 0.4211\n",
      "P(|N(0,max_beta^2)|<v) = 0.0903\n",
      "Difference = 0.3308\n",
      "\n",
      "\n",
      "\n",
      "\n",
      "At the point of maximum difference with beta = 13900:\n",
      "P(|d_i|<v) = 0.4211\n",
      "P(|N(0,max_beta^2)|<v) = 0.0909\n",
      "Difference = 0.3301\n",
      "\n",
      "\n",
      "\n",
      "\n",
      "At the point of maximum difference with beta = 13800:\n",
      "P(|d_i|<v) = 0.4211\n",
      "P(|N(0,max_beta^2)|<v) = 0.0916\n",
      "Difference = 0.3295\n",
      "\n",
      "\n",
      "\n",
      "\n",
      "At the point of maximum difference with beta = 13700:\n",
      "P(|d_i|<v) = 0.4211\n",
      "P(|N(0,max_beta^2)|<v) = 0.0923\n",
      "Difference = 0.3288\n",
      "\n",
      "\n",
      "\n",
      "\n",
      "At the point of maximum difference with beta = 13600:\n",
      "P(|d_i|<v) = 0.4211\n",
      "P(|N(0,max_beta^2)|<v) = 0.0929\n",
      "Difference = 0.3281\n",
      "\n",
      "\n",
      "\n",
      "\n",
      "At the point of maximum difference with beta = 13500:\n",
      "P(|d_i|<v) = 0.4211\n",
      "P(|N(0,max_beta^2)|<v) = 0.0936\n",
      "Difference = 0.3274\n",
      "\n",
      "\n",
      "\n",
      "\n",
      "At the point of maximum difference with beta = 13400:\n",
      "P(|d_i|<v) = 0.4211\n",
      "P(|N(0,max_beta^2)|<v) = 0.0943\n",
      "Difference = 0.3267\n",
      "\n",
      "\n",
      "\n",
      "\n",
      "At the point of maximum difference with beta = 13300:\n",
      "P(|d_i|<v) = 0.4211\n",
      "P(|N(0,max_beta^2)|<v) = 0.0950\n",
      "Difference = 0.3260\n",
      "\n",
      "\n",
      "\n",
      "\n",
      "At the point of maximum difference with beta = 13200:\n",
      "P(|d_i|<v) = 0.4211\n",
      "P(|N(0,max_beta^2)|<v) = 0.0957\n",
      "Difference = 0.3253\n",
      "\n",
      "\n",
      "\n",
      "\n",
      "At the point of maximum difference with beta = 13100:\n",
      "P(|d_i|<v) = 0.4211\n",
      "P(|N(0,max_beta^2)|<v) = 0.0965\n",
      "Difference = 0.3246\n",
      "\n",
      "\n",
      "\n",
      "\n",
      "At the point of maximum difference with beta = 13000:\n",
      "P(|d_i|<v) = 0.4211\n",
      "P(|N(0,max_beta^2)|<v) = 0.0972\n",
      "Difference = 0.3239\n",
      "\n",
      "\n",
      "\n",
      "\n",
      "At the point of maximum difference with beta = 12900:\n",
      "P(|d_i|<v) = 0.4211\n",
      "P(|N(0,max_beta^2)|<v) = 0.0979\n",
      "Difference = 0.3231\n",
      "\n",
      "\n",
      "\n",
      "\n",
      "At the point of maximum difference with beta = 12800:\n",
      "P(|d_i|<v) = 0.4211\n",
      "P(|N(0,max_beta^2)|<v) = 0.0987\n",
      "Difference = 0.3223\n",
      "\n",
      "\n",
      "\n",
      "\n",
      "At the point of maximum difference with beta = 12700:\n",
      "P(|d_i|<v) = 0.4211\n",
      "P(|N(0,max_beta^2)|<v) = 0.0995\n",
      "Difference = 0.3216\n",
      "\n",
      "\n",
      "\n",
      "\n",
      "At the point of maximum difference with beta = 12600:\n",
      "P(|d_i|<v) = 0.4211\n",
      "P(|N(0,max_beta^2)|<v) = 0.1003\n",
      "Difference = 0.3208\n",
      "\n",
      "\n",
      "\n",
      "\n",
      "At the point of maximum difference with beta = 12500:\n",
      "P(|d_i|<v) = 0.4211\n",
      "P(|N(0,max_beta^2)|<v) = 0.1011\n",
      "Difference = 0.3200\n",
      "\n",
      "\n",
      "\n",
      "\n",
      "At the point of maximum difference with beta = 12400:\n",
      "P(|d_i|<v) = 0.4211\n",
      "P(|N(0,max_beta^2)|<v) = 0.1019\n",
      "Difference = 0.3192\n",
      "\n",
      "\n",
      "\n",
      "\n",
      "At the point of maximum difference with beta = 12300:\n",
      "P(|d_i|<v) = 0.4211\n",
      "P(|N(0,max_beta^2)|<v) = 0.1027\n",
      "Difference = 0.3184\n",
      "\n",
      "\n",
      "\n",
      "\n",
      "At the point of maximum difference with beta = 12200:\n",
      "P(|d_i|<v) = 0.4211\n",
      "P(|N(0,max_beta^2)|<v) = 0.1035\n",
      "Difference = 0.3175\n",
      "\n",
      "\n",
      "\n",
      "\n",
      "At the point of maximum difference with beta = 12100:\n",
      "P(|d_i|<v) = 0.4211\n",
      "P(|N(0,max_beta^2)|<v) = 0.1044\n",
      "Difference = 0.3167\n",
      "\n",
      "\n",
      "\n",
      "\n",
      "At the point of maximum difference with beta = 12000:\n",
      "P(|d_i|<v) = 0.4211\n",
      "P(|N(0,max_beta^2)|<v) = 0.1053\n",
      "Difference = 0.3158\n",
      "\n",
      "\n",
      "\n",
      "\n",
      "At the point of maximum difference with beta = 11900:\n",
      "P(|d_i|<v) = 0.4211\n",
      "P(|N(0,max_beta^2)|<v) = 0.1061\n",
      "Difference = 0.3149\n",
      "\n",
      "\n",
      "\n",
      "\n",
      "At the point of maximum difference with beta = 11800:\n",
      "P(|d_i|<v) = 0.4211\n",
      "P(|N(0,max_beta^2)|<v) = 0.1070\n",
      "Difference = 0.3140\n",
      "\n",
      "\n",
      "\n",
      "\n",
      "At the point of maximum difference with beta = 11700:\n",
      "P(|d_i|<v) = 0.4211\n",
      "P(|N(0,max_beta^2)|<v) = 0.1079\n",
      "Difference = 0.3131\n",
      "\n",
      "\n",
      "\n",
      "\n",
      "At the point of maximum difference with beta = 11600:\n",
      "P(|d_i|<v) = 0.4211\n",
      "P(|N(0,max_beta^2)|<v) = 0.1089\n",
      "Difference = 0.3122\n",
      "\n",
      "\n",
      "\n"
     ]
    }
   ],
   "source": [
    "beta1, Mb_index = run_test_against_theoretical(df2, max_beta, ratios2)"
   ]
  },
  {
   "cell_type": "code",
   "execution_count": 20,
   "metadata": {},
   "outputs": [
    {
     "data": {
      "text/plain": [
       "<matplotlib.legend.Legend at 0x1c0b5c8e10>"
      ]
     },
     "execution_count": 20,
     "metadata": {},
     "output_type": "execute_result"
    },
    {
     "data": {
      "image/png": "[encoded data removed]",
      "text/plain": [
       "<Figure size 432x288 with 1 Axes>"
      ]
     },
     "metadata": {},
     "output_type": "display_data"
    }
   ],
   "source": [
    "beta1 = beta1+100\n",
    "\n",
    "theoretical = [special.erf(vi/(beta1*np.sqrt(2))) for vi in v]\n",
    "\n",
    "plt.plot(v, theoretical, label=\"P(|N(0,beta^2)|<v) beta=%d\" % (beta1))\n",
    "plt.plot(v, ratios2, label=\"P(|d_i|<v)\")\n",
    "plt.title(\"P(|N(0,beta^2)|<v) and P(|d_i|<v) vs. v for %s 2014-2017 (k=%d)\" % (states, len(df2)))\n",
    "plt.axvline(x=v[Mb_index], color='r', linestyle='--', label=\"Point of max difference\")\n",
    "plt.legend()\n",
    "#plt.xlim(0, 50000)\n",
    "#print(\"beta = %.3f\" % (max_beta))"
   ]
  },
  {
   "cell_type": "code",
   "execution_count": 21,
   "metadata": {},
   "outputs": [
    {
     "name": "stdout",
     "output_type": "stream",
     "text": [
      "Beta (=std): 11600\n",
      "Number of T/sqrt(n) above 2 stds: 3\n",
      "Proportion of T/sqrt(n) above 2 stds: 0.158\n",
      "P value = 0.009587\n"
     ]
    }
   ],
   "source": [
    "run_binom_stat_test2(beta1, df2.values)"
   ]
  },
  {
   "cell_type": "code",
   "execution_count": 22,
   "metadata": {},
   "outputs": [],
   "source": [
    "df3 = create_df3(states, dfs_new)"
   ]
  },
  {
   "cell_type": "code",
   "execution_count": 23,
   "metadata": {},
   "outputs": [],
   "source": [
    "#ratios_c = create_simulation(states, dfs_new, beta1 - 10000)\n",
    "#ratios_c2 = create_simulation(states, dfs_new, beta1)\n",
    "#ratios_c3 = create_simulation(states, dfs_new, beta1 + 10000)\n",
    "ratios_c = create_simulation_adjust_for_imbalances(states, dfs_new, beta1 - 10000)\n",
    "ratios_c2 = create_simulation_adjust_for_imbalances(states, dfs_new, beta1)\n",
    "ratios_c3 = create_simulation_adjust_for_imbalances(states, dfs_new, beta1 + 10000)"
   ]
  },
  {
   "cell_type": "code",
   "execution_count": 24,
   "metadata": {},
   "outputs": [
    {
     "data": {
      "text/plain": [
       "<matplotlib.legend.Legend at 0x1c0cca2cf8>"
      ]
     },
     "execution_count": 24,
     "metadata": {},
     "output_type": "execute_result"
    },
    {
     "data": {
      "image/png": "[encoded data removed]",
      "text/plain": [
       "<Figure size 720x504 with 1 Axes>"
      ]
     },
     "metadata": {},
     "output_type": "display_data"
    }
   ],
   "source": [
    "theoretical = [special.erf(vi/(beta1*np.sqrt(2))) for vi in v]\n",
    "\n",
    "plt.figure(figsize=(10, 7))\n",
    "plt.plot(v, theoretical, label=\"P(|N(0,beta^2)|<v) with beta = %d\" % (beta1))\n",
    "plt.plot(v, ratios2, label=\"P(|d_i|<v) = empirical distribution\")\n",
    "plt.plot(v, ratios_c, label=\"Simulation with es = %d, 5 times\" % (beta1 - 10000))\n",
    "plt.plot(v, ratios_c2, label=\"Simulation with es = %d, 5 times\" % (beta1))\n",
    "plt.plot(v, ratios_c3, label=\"Simulation with es = %d, 5 times\" % (beta1 + 10000))\n",
    "plt.title(\"P(|N(0,beta^2)|<v) and P(|d_i|<v) vs. v for %s (k=%d)\" % (states, len(df2)))\n",
    "plt.legend()"
   ]
  },
  {
   "cell_type": "code",
   "execution_count": 25,
   "metadata": {},
   "outputs": [
    {
     "name": "stdout",
     "output_type": "stream",
     "text": [
      "k = 19\n",
      "test_stat at this k = 0.31157\n",
      "\n",
      "At the point of maximum difference with beta = 11600:\n",
      "P(|d_i|<v) = 0.4211\n",
      "P(|N(0,max_beta^2)|<v) = 0.1930\n",
      "Difference = 0.2281 NOT > test_stat\n",
      "\n",
      "At the point of maximum difference with beta = 21600:\n",
      "P(|d_i|<v) = 0.4211\n",
      "P(|N(0,max_beta^2)|<v) = 0.0772\n",
      "Difference = 0.3439\n",
      "\n",
      "\n",
      "\n",
      "\n",
      "At the point of maximum difference with beta = 21500:\n",
      "P(|d_i|<v) = 0.4737\n",
      "P(|N(0,max_beta^2)|<v) = 0.1404\n",
      "Difference = 0.3333\n",
      "\n",
      "\n",
      "\n",
      "\n",
      "At the point of maximum difference with beta = 21400:\n",
      "P(|d_i|<v) = 0.4211\n",
      "P(|N(0,max_beta^2)|<v) = 0.0561\n",
      "Difference = 0.3649\n",
      "\n",
      "\n",
      "\n",
      "\n",
      "At the point of maximum difference with beta = 21300:\n",
      "P(|d_i|<v) = 0.4737\n",
      "P(|N(0,max_beta^2)|<v) = 0.1193\n",
      "Difference = 0.3544\n",
      "\n",
      "\n",
      "\n",
      "\n",
      "At the point of maximum difference with beta = 21200:\n",
      "P(|d_i|<v) = 0.4211\n",
      "P(|N(0,max_beta^2)|<v) = 0.0702\n",
      "Difference = 0.3509\n",
      "\n",
      "\n",
      "\n",
      "\n",
      "At the point of maximum difference with beta = 21100:\n",
      "P(|d_i|<v) = 0.4211\n",
      "P(|N(0,max_beta^2)|<v) = 0.0772\n",
      "Difference = 0.3439\n",
      "\n",
      "\n",
      "\n",
      "\n",
      "At the point of maximum difference with beta = 21000:\n",
      "P(|d_i|<v) = 0.4211\n",
      "P(|N(0,max_beta^2)|<v) = 0.0772\n",
      "Difference = 0.3439\n",
      "\n",
      "\n",
      "\n",
      "\n",
      "At the point of maximum difference with beta = 20900:\n",
      "P(|d_i|<v) = 0.4211\n",
      "P(|N(0,max_beta^2)|<v) = 0.0632\n",
      "Difference = 0.3579\n",
      "\n",
      "\n",
      "\n",
      "\n",
      "At the point of maximum difference with beta = 20800:\n",
      "P(|d_i|<v) = 0.4737\n",
      "P(|N(0,max_beta^2)|<v) = 0.1228\n",
      "Difference = 0.3509\n",
      "\n",
      "\n",
      "\n",
      "\n",
      "At the point of maximum difference with beta = 20700:\n",
      "P(|d_i|<v) = 0.4211\n",
      "P(|N(0,max_beta^2)|<v) = 0.0982\n",
      "Difference = 0.3228\n",
      "\n",
      "\n",
      "\n",
      "\n",
      "At the point of maximum difference with beta = 20600:\n",
      "P(|d_i|<v) = 0.4211\n",
      "P(|N(0,max_beta^2)|<v) = 0.0982\n",
      "Difference = 0.3228\n",
      "\n",
      "\n",
      "\n",
      "\n",
      "At the point of maximum difference with beta = 20500:\n",
      "P(|d_i|<v) = 0.4211\n",
      "P(|N(0,max_beta^2)|<v) = 0.0737\n",
      "Difference = 0.3474\n",
      "\n",
      "\n",
      "\n",
      "\n",
      "At the point of maximum difference with beta = 20400:\n",
      "P(|d_i|<v) = 0.4211\n",
      "P(|N(0,max_beta^2)|<v) = 0.1088\n",
      "Difference = 0.3123\n",
      "\n",
      "\n",
      "\n",
      "\n",
      "At the point of maximum difference with beta = 20300:\n",
      "P(|d_i|<v) = 0.4211\n",
      "P(|N(0,max_beta^2)|<v) = 0.0737\n",
      "Difference = 0.3474\n",
      "\n",
      "\n",
      "\n",
      "\n",
      "At the point of maximum difference with beta = 20200:\n",
      "P(|d_i|<v) = 0.4211\n",
      "P(|N(0,max_beta^2)|<v) = 0.0772\n",
      "Difference = 0.3439\n",
      "\n",
      "\n",
      "\n",
      "\n",
      "At the point of maximum difference with beta = 20100:\n",
      "P(|d_i|<v) = 0.4211\n",
      "P(|N(0,max_beta^2)|<v) = 0.0737\n",
      "Difference = 0.3474\n",
      "\n",
      "\n",
      "\n",
      "\n",
      "At the point of maximum difference with beta = 20000:\n",
      "P(|d_i|<v) = 0.4211\n",
      "P(|N(0,max_beta^2)|<v) = 0.0982\n",
      "Difference = 0.3228\n",
      "\n",
      "\n",
      "\n",
      "\n",
      "At the point of maximum difference with beta = 19900:\n",
      "P(|d_i|<v) = 0.4211\n",
      "P(|N(0,max_beta^2)|<v) = 0.0737\n",
      "Difference = 0.3474\n",
      "\n",
      "\n",
      "\n",
      "\n",
      "At the point of maximum difference with beta = 19800:\n",
      "P(|d_i|<v) = 0.4211\n",
      "P(|N(0,max_beta^2)|<v) = 0.1123\n",
      "Difference = 0.3088 NOT > test_stat\n"
     ]
    }
   ],
   "source": [
    "beta1, _= run_test_against_simulation_adjust_for_imbalances(states, dfs_new, beta1, ratios2)"
   ]
  },
  {
   "cell_type": "code",
   "execution_count": 26,
   "metadata": {},
   "outputs": [
    {
     "name": "stdout",
     "output_type": "stream",
     "text": [
      "Beta (=std): 19800\n",
      "Number of T/sqrt(n) above 2 stds: 2\n",
      "Proportion of T/sqrt(n) above 2 stds: 0.105\n",
      "P value = 0.052916\n"
     ]
    }
   ],
   "source": [
    "run_binom_stat_test2(beta1, df2.values)"
   ]
  },
  {
   "cell_type": "code",
   "execution_count": null,
   "metadata": {},
   "outputs": [],
   "source": []
  }
 ],
 "metadata": {
  "kernelspec": {
   "display_name": "Python 3",
   "language": "python",
   "name": "python3"
  },
  "language_info": {
   "codemirror_mode": {
    "name": "ipython",
    "version": 3
   },
   "file_extension": ".py",
   "mimetype": "text/x-python",
   "name": "python",
   "nbconvert_exporter": "python",
   "pygments_lexer": "ipython3",
   "version": "3.6.5"
  }
 },
 "nbformat": 4,
 "nbformat_minor": 2
}
