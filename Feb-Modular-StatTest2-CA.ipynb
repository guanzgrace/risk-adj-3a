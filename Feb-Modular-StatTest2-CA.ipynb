{
 "cells": [
  {
   "cell_type": "code",
   "execution_count": 1,
   "metadata": {},
   "outputs": [],
   "source": [
    "%run StatTest2_WithSimulation_Setup.ipynb"
   ]
  },
  {
   "cell_type": "code",
   "execution_count": 2,
   "metadata": {
    "scrolled": true
   },
   "outputs": [
    {
     "name": "stderr",
     "output_type": "stream",
     "text": [
      "/anaconda3/lib/python3.6/site-packages/IPython/core/interactiveshell.py:2785: DtypeWarning: Columns (1,2,52,323,649,882,932,1092,1202) have mixed types. Specify dtype option on import or set low_memory=False.\n",
      "  interactivity=interactivity, compiler=compiler, result=result)\n",
      "/anaconda3/lib/python3.6/site-packages/IPython/core/interactiveshell.py:2785: DtypeWarning: Columns (1,2,57,204,341,376,377,396,430,431,928,944,1006,1013,1151,1160,1169,1179,1411) have mixed types. Specify dtype option on import or set low_memory=False.\n",
      "  interactivity=interactivity, compiler=compiler, result=result)\n",
      "/anaconda3/lib/python3.6/site-packages/IPython/core/interactiveshell.py:2785: DtypeWarning: Columns (1,2,17,163,355,406,702,835,847,1083,1156,1183,1185,1200) have mixed types. Specify dtype option on import or set low_memory=False.\n",
      "  interactivity=interactivity, compiler=compiler, result=result)\n"
     ]
    }
   ],
   "source": [
    "data2014 = pd.read_csv(\"Our_Dataset/2014dataset.csv\")\n",
    "data2015 = pd.read_csv(\"Our_Dataset/2015dataset.csv\")\n",
    "data2016 = pd.read_csv(\"Our_Dataset/2016dataset.csv\")\n",
    "data2017 = pd.read_csv(\"Our_Dataset/2017dataset.csv\")"
   ]
  },
  {
   "cell_type": "code",
   "execution_count": 3,
   "metadata": {},
   "outputs": [],
   "source": [
    "# Create the labels.\n",
    "# By index:\n",
    "# label 2 is transfers\n",
    "# label 3 is premiums\n",
    "# label 4 is costs\n",
    "# label 5 is member months\n",
    "# label 6 is reinsurance (individual group only)\n",
    "\n",
    "ind_labels_14 = [\"HIOS ID\", \"HIOS INPUTTED INSURANCE COMPANY NAME\",\n",
    "                  \"HHS RISK ADJUSTMENT TRANSFER AMOUNT (INDIVIDUAL MARKET, INCLUDING CATASTROPHIC)\",\n",
    "                  \"1.1Directpremiumwritten2HealthInsuranceINDIVIDUALTotalasof3/31/15\",\n",
    "                  \"2.16Totalincurredclaims2HealthInsuranceINDIVIDUALTotalasof3/31/15\",\n",
    "                  \"7.4Membermonths2HealthInsuranceINDIVIDUALTotalasof3/31/15\",\n",
    "                  \"STATE\", \"REINSURANCE PAYMENT AMOUNT (OR NOT ELIGIBLE)\"] # no more reinsurance as of 2017\n",
    "ind_labels_15 = [label.replace('15', '16') for label in ind_labels_14]\n",
    "ind_labels_16 = [label.replace('15', '17') for label in ind_labels_14]\n",
    "ind_labels_17 = [label.replace('15', '18') for label in ind_labels_14][:-1]\n",
    "\n",
    "sg_labels_14 = [\"HIOS ID\", \"HIOS INPUTTED INSURANCE COMPANY NAME\",\n",
    "                 \"HHS RISK ADJUSTMENT TRANSFERS AMOUNT (SMALL GROUP MARKET)\",\n",
    "                  \"1.1Directpremiumwritten7HealthInsuranceSMALLGROUPTotalasof3/31/15\",\n",
    "                  \"2.16Totalincurredclaims7HealthInsuranceSMALLGROUPTotalasof3/31/15\",\n",
    "                  \"7.4Membermonths7HealthInsuranceSMALLGROUPTotalasof3/31/15\", \"STATE\"]\n",
    "sg_labels_15 = [label.replace('15', '16') for label in sg_labels_14]\n",
    "sg_labels_16 = [label.replace('15', '17') for label in sg_labels_14]\n",
    "sg_labels_17 = [label.replace('15', '18') for label in sg_labels_14]"
   ]
  },
  {
   "cell_type": "code",
   "execution_count": 4,
   "metadata": {},
   "outputs": [],
   "source": [
    "# Filter the data to include only the fields we want\n",
    "\n",
    "ind_data_14 = data2014[ind_labels_14].dropna()\n",
    "ind_data_15 = data2015[ind_labels_15].dropna()\n",
    "ind_data_16 = data2016[ind_labels_16].dropna()\n",
    "ind_data_17 = data2017[ind_labels_17].dropna()\n",
    "sg_data_14 = data2014[sg_labels_14].dropna()\n",
    "sg_data_15 = data2015[sg_labels_15].dropna()\n",
    "sg_data_16 = data2016[sg_labels_16].dropna()\n",
    "sg_data_17 = data2017[sg_labels_17].dropna()"
   ]
  },
  {
   "cell_type": "code",
   "execution_count": 5,
   "metadata": {},
   "outputs": [],
   "source": [
    "# Drop companies with <2000 MM\n",
    "ind_data_14 = ind_data_14.where(ind_data_14[ind_labels_14[5]] > 2000).dropna()\n",
    "ind_data_15 = ind_data_15.where(ind_data_15[ind_labels_15[5]] > 2000).dropna()\n",
    "ind_data_16 = ind_data_16.where(ind_data_16[ind_labels_16[5]] > 2000).dropna()\n",
    "ind_data_17 = ind_data_17.where(ind_data_17[ind_labels_17[5]] > 2000).dropna()\n",
    "sg_data_14 = sg_data_14.where(sg_data_14[sg_labels_14[5]] > 2000).dropna()\n",
    "sg_data_15 = sg_data_15.where(sg_data_15[sg_labels_15[5]] > 2000).dropna()\n",
    "sg_data_16 = sg_data_16.where(sg_data_16[sg_labels_16[5]] > 2000).dropna()\n",
    "sg_data_17 = sg_data_17.where(sg_data_17[sg_labels_17[5]] > 2000).dropna()"
   ]
  },
  {
   "cell_type": "code",
   "execution_count": 6,
   "metadata": {},
   "outputs": [],
   "source": [
    "# Calculate transfers, premiums, costs, and reinsurance (if individual group) per member month\n",
    "def calculate_pmm(df, df_labels, group):\n",
    "    df[\"MM\"] = df[df_labels[5]]\n",
    "    df[\"Transfers\"] = df[df_labels[2]]\n",
    "    df[\"Enrollees\"] = df[\"MM\"] / 12\n",
    "    df[\"TransfersPerEnrollee\"] = df[\"Transfers\"] / df[\"Enrollees\"]\n",
    "    df[\"TransfersPerSqrtEnrollee\"] = df[\"Transfers\"] / np.sqrt(df[\"Enrollees\"])\n",
    "    df[\"LogEnrollees\"] = np.log(df[\"Enrollees\"])\n",
    "    df[\"LogTransfers\"] = np.log(df[\"Transfers\"]**2 + 1)\n",
    "    df[\"TransfersPMM\"] = df[df_labels[2]] / df[df_labels[5]]\n",
    "    df[\"PremiumsPMM\"] = abs(df[df_labels[3]] / df[df_labels[5]])\n",
    "    df[\"CostsPMM\"] = abs(df[df_labels[4]] / df[df_labels[5]])\n",
    "    if group == \"i\":\n",
    "        df[\"ReinsurancePMM\"] = df[df_labels[7]] / df[df_labels[5]]\n",
    "        df[\"ProfitsPMM\"] = df[\"PremiumsPMM\"] - df[\"CostsPMM\"] + df[\"TransfersPMM\"] + df[\"ReinsurancePMM\"]\n",
    "        #df[\"PremMinusCostsPlusReinsurancePMM\"] = df[\"PremiumsPMM\"] - df[\"CostsPMM\"] + df[\"ReinsurancePMM\"]\n",
    "    elif group == \"sg\":\n",
    "        df[\"ProfitsPMM\"] = df[\"PremiumsPMM\"] - df[\"CostsPMM\"] + df[\"TransfersPMM\"]\n",
    "    df[\"PremMinusCostsPMM\"] = df[\"PremiumsPMM\"] - df[\"CostsPMM\"]\n",
    "    df[\"PremMinusCostsPlusTransfersPMM\"] = df[\"PremiumsPMM\"] - df[\"CostsPMM\"] + df[\"TransfersPMM\"]\n",
    "    df[\"SicknessPMM\"] = df[\"CostsPMM\"] - df[\"PremiumsPMM\"]\n",
    "    average_sickness = np.mean(df[\"SicknessPMM\"])\n",
    "    df[\"ExcessSicknessPMM\"] = df[\"SicknessPMM\"] - average_sickness\n",
    "    return df\n",
    "\n",
    "ind_data_14 = calculate_pmm(ind_data_14, ind_labels_14, \"i\")\n",
    "ind_data_15 = calculate_pmm(ind_data_15, ind_labels_15, \"i\")\n",
    "ind_data_16 = calculate_pmm(ind_data_16, ind_labels_16, \"i\")\n",
    "ind_data_17 = calculate_pmm(ind_data_17, ind_labels_17, \"sg\")\n",
    "sg_data_14 = calculate_pmm(sg_data_14, sg_labels_14, \"sg\")\n",
    "sg_data_15 = calculate_pmm(sg_data_15, sg_labels_15, \"sg\")\n",
    "sg_data_16 = calculate_pmm(sg_data_16, sg_labels_16, \"sg\")\n",
    "sg_data_17 = calculate_pmm(sg_data_17, sg_labels_17, \"sg\")"
   ]
  },
  {
   "cell_type": "code",
   "execution_count": 7,
   "metadata": {},
   "outputs": [],
   "source": [
    "# Combine the dataframes by left merging\n",
    "\n",
    "ind_data = ind_data_14.merge(ind_data_15, on='HIOS ID', how='outer', suffixes=('_14', '_15'))\\\n",
    ".merge(ind_data_16, on='HIOS ID', how='outer').merge(ind_data_17, on='HIOS ID', how='outer', suffixes=('_16', '_17'))"
   ]
  },
  {
   "cell_type": "code",
   "execution_count": 8,
   "metadata": {},
   "outputs": [],
   "source": [
    "# Do the same thing for small group\n",
    "\n",
    "sg_data = sg_data_14.merge(sg_data_15, on='HIOS ID', how='outer', suffixes=('_14', '_15'))\\\n",
    ".merge(sg_data_16, on='HIOS ID', how='outer').merge(sg_data_17, on='HIOS ID', how='outer', suffixes=('_16', '_17'))"
   ]
  },
  {
   "cell_type": "code",
   "execution_count": 9,
   "metadata": {},
   "outputs": [],
   "source": [
    "states = [\"CA\"]\n",
    "dfs = [sg_data_14, sg_data_15, sg_data_16, sg_data_17]"
   ]
  },
  {
   "cell_type": "code",
   "execution_count": 10,
   "metadata": {},
   "outputs": [],
   "source": [
    "df2 = create_df2(states, dfs)"
   ]
  },
  {
   "cell_type": "code",
   "execution_count": 11,
   "metadata": {},
   "outputs": [],
   "source": [
    "k = len(df2)\n",
    "v = np.linspace(0, max(abs(df2)), 10000)\n",
    "v = v[1:len(v)]\n",
    "\n",
    "ratios = [ratio_list(df2, vi) for vi in v]\n",
    "#print(ratios)\n",
    "begin_p = 5/k\n",
    "end_p = 1-begin_p\n",
    "start_index = 0\n",
    "end_index = 0\n",
    "for index, ratio2 in enumerate(ratios):\n",
    "    if ratio2 >= begin_p:\n",
    "        start_index = index\n",
    "        break\n",
    "    \n",
    "for index, ratio2 in enumerate(ratios):\n",
    "    if ratio2 > end_p:\n",
    "        end_index = index\n",
    "        break\n",
    "\n",
    "if end_index == 0:\n",
    "    end_index = len(v) - 1\n",
    "    \n",
    "v = v[start_index:end_index]\n",
    "\n",
    "ratios2 = ratios[start_index:end_index]\n",
    "multiplier = [np.sqrt(2)/vi for vi in v]\n",
    "#plt.plot(v, ratios2)\n",
    "#plt.plot(v, multiplier)"
   ]
  },
  {
   "cell_type": "code",
   "execution_count": 12,
   "metadata": {},
   "outputs": [],
   "source": [
    "y = [multiplier[i] * special.erfinv(ratio2) for i, ratio2 in enumerate(ratios2)]\n",
    "#plt.plot(v, y)\n",
    "#plt.title(\"1/beta vs. v\")\n",
    "beta = [1/yi for yi in y]\n",
    "#plt.plot(v, beta)\n",
    "#plt.axvline(x=64432.69, color='r', linestyle='--', label=\"Point of max difference\")\n",
    "#plt.title(\"beta vs. v\")"
   ]
  },
  {
   "cell_type": "code",
   "execution_count": 13,
   "metadata": {},
   "outputs": [],
   "source": [
    "# Finding the minimum beta\n",
    "# Whenever we reject a beta, we reject all betas greater than that,\n",
    "# so keep pushing beta smaller until we reach max_difference == test_statistic\n",
    "# Run test for larger data sizes (combining states, years)"
   ]
  },
  {
   "cell_type": "code",
   "execution_count": 14,
   "metadata": {},
   "outputs": [],
   "source": [
    "max_beta=max(beta)\n",
    "max_beta = int(max_beta/100)*100"
   ]
  },
  {
   "cell_type": "code",
   "execution_count": 15,
   "metadata": {
    "scrolled": true
   },
   "outputs": [
    {
     "name": "stdout",
     "output_type": "stream",
     "text": [
      "beta = 115600.000\n"
     ]
    },
    {
     "data": {
      "image/png": "[encoded data removed]",
      "text/plain": [
       "<Figure size 432x288 with 1 Axes>"
      ]
     },
     "metadata": {},
     "output_type": "display_data"
    }
   ],
   "source": [
    "theoretical = [special.erf(vi/(max_beta*np.sqrt(2))) for vi in v]\n",
    "\n",
    "plt.plot(v, theoretical, label=\"P(|N(0,beta^2)|<v)\")\n",
    "plt.plot(v, ratios2, label=\"P(|d_i|<v)\")\n",
    "plt.title(\"P(|N(0,beta^2)|<v) and P(|d_i|<v) vs. v for %s 2014-2017 (k=%d)\" % (states, len(df2)))\n",
    "#plt.axvline(x=64432.69, color='r', linestyle='--', label=\"Point of max difference\")\n",
    "plt.legend()\n",
    "print(\"beta = %.3f\" % (max_beta))"
   ]
  },
  {
   "cell_type": "code",
   "execution_count": 16,
   "metadata": {},
   "outputs": [
    {
     "name": "stdout",
     "output_type": "stream",
     "text": [
      "k = 61\n",
      "test_stat at this k = 0.17389\n",
      "\n",
      "At the point of maximum difference with beta = 115600:\n",
      "P(|d_i|<v) = 0.5738\n",
      "P(|N(0,max_beta^2)|<v) = 0.3006\n",
      "Difference = 0.2732\n",
      "\n",
      "\n",
      "\n",
      "\n",
      "At the point of maximum difference with beta = 105600:\n",
      "P(|d_i|<v) = 0.5738\n",
      "P(|N(0,max_beta^2)|<v) = 0.3275\n",
      "Difference = 0.2463\n",
      "\n",
      "\n",
      "\n",
      "\n",
      "At the point of maximum difference with beta = 95600:\n",
      "P(|d_i|<v) = 0.5410\n",
      "P(|N(0,max_beta^2)|<v) = 0.3257\n",
      "Difference = 0.2152\n",
      "\n",
      "\n",
      "\n",
      "\n",
      "At the point of maximum difference with beta = 85600:\n",
      "P(|d_i|<v) = 0.4262\n",
      "P(|N(0,max_beta^2)|<v) = 0.2442\n",
      "Difference = 0.1821\n",
      "\n",
      "\n",
      "\n",
      "\n",
      "At the point of maximum difference with beta = 85600:\n",
      "P(|d_i|<v) = 0.4262\n",
      "P(|N(0,max_beta^2)|<v) = 0.2442\n",
      "Difference = 0.1821\n",
      "\n",
      "\n",
      "\n",
      "\n",
      "At the point of maximum difference with beta = 85500:\n",
      "P(|d_i|<v) = 0.4262\n",
      "P(|N(0,max_beta^2)|<v) = 0.2444\n",
      "Difference = 0.1818\n",
      "\n",
      "\n",
      "\n",
      "\n",
      "At the point of maximum difference with beta = 85400:\n",
      "P(|d_i|<v) = 0.4262\n",
      "P(|N(0,max_beta^2)|<v) = 0.2447\n",
      "Difference = 0.1815\n",
      "\n",
      "\n",
      "\n",
      "\n",
      "At the point of maximum difference with beta = 85300:\n",
      "P(|d_i|<v) = 0.4262\n",
      "P(|N(0,max_beta^2)|<v) = 0.2450\n",
      "Difference = 0.1812\n",
      "\n",
      "\n",
      "\n",
      "\n",
      "At the point of maximum difference with beta = 85200:\n",
      "P(|d_i|<v) = 0.4262\n",
      "P(|N(0,max_beta^2)|<v) = 0.2453\n",
      "Difference = 0.1810\n",
      "\n",
      "\n",
      "\n",
      "\n",
      "At the point of maximum difference with beta = 85100:\n",
      "P(|d_i|<v) = 0.4262\n",
      "P(|N(0,max_beta^2)|<v) = 0.2455\n",
      "Difference = 0.1807\n",
      "\n",
      "\n",
      "\n",
      "\n",
      "At the point of maximum difference with beta = 85000:\n",
      "P(|d_i|<v) = 0.4262\n",
      "P(|N(0,max_beta^2)|<v) = 0.2458\n",
      "Difference = 0.1804\n",
      "\n",
      "\n",
      "\n",
      "\n",
      "At the point of maximum difference with beta = 84900:\n",
      "P(|d_i|<v) = 0.4262\n",
      "P(|N(0,max_beta^2)|<v) = 0.2461\n",
      "Difference = 0.1801\n",
      "\n",
      "\n",
      "\n",
      "\n",
      "At the point of maximum difference with beta = 84800:\n",
      "P(|d_i|<v) = 0.4262\n",
      "P(|N(0,max_beta^2)|<v) = 0.2464\n",
      "Difference = 0.1798\n",
      "\n",
      "\n",
      "\n",
      "\n",
      "At the point of maximum difference with beta = 84700:\n",
      "P(|d_i|<v) = 0.4262\n",
      "P(|N(0,max_beta^2)|<v) = 0.2467\n",
      "Difference = 0.1796\n",
      "\n",
      "\n",
      "\n",
      "\n",
      "At the point of maximum difference with beta = 84600:\n",
      "P(|d_i|<v) = 0.4262\n",
      "P(|N(0,max_beta^2)|<v) = 0.2470\n",
      "Difference = 0.1793\n",
      "\n",
      "\n",
      "\n",
      "\n",
      "At the point of maximum difference with beta = 84500:\n",
      "P(|d_i|<v) = 0.4262\n",
      "P(|N(0,max_beta^2)|<v) = 0.2472\n",
      "Difference = 0.1790\n",
      "\n",
      "\n",
      "\n",
      "\n",
      "At the point of maximum difference with beta = 84400:\n",
      "P(|d_i|<v) = 0.4262\n",
      "P(|N(0,max_beta^2)|<v) = 0.2475\n",
      "Difference = 0.1787\n",
      "\n",
      "\n",
      "\n",
      "\n",
      "At the point of maximum difference with beta = 84300:\n",
      "P(|d_i|<v) = 0.4262\n",
      "P(|N(0,max_beta^2)|<v) = 0.2478\n",
      "Difference = 0.1784\n",
      "\n",
      "\n",
      "\n",
      "\n",
      "At the point of maximum difference with beta = 84200:\n",
      "P(|d_i|<v) = 0.4262\n",
      "P(|N(0,max_beta^2)|<v) = 0.2481\n",
      "Difference = 0.1781\n",
      "\n",
      "\n",
      "\n",
      "\n",
      "At the point of maximum difference with beta = 84100:\n",
      "P(|d_i|<v) = 0.4262\n",
      "P(|N(0,max_beta^2)|<v) = 0.2484\n",
      "Difference = 0.1779\n",
      "\n",
      "\n",
      "\n",
      "\n",
      "At the point of maximum difference with beta = 84000:\n",
      "P(|d_i|<v) = 0.4262\n",
      "P(|N(0,max_beta^2)|<v) = 0.2487\n",
      "Difference = 0.1776\n",
      "\n",
      "\n",
      "\n",
      "\n",
      "At the point of maximum difference with beta = 83900:\n",
      "P(|d_i|<v) = 0.4262\n",
      "P(|N(0,max_beta^2)|<v) = 0.2489\n",
      "Difference = 0.1773\n",
      "\n",
      "\n",
      "\n",
      "\n",
      "At the point of maximum difference with beta = 83800:\n",
      "P(|d_i|<v) = 0.4262\n",
      "P(|N(0,max_beta^2)|<v) = 0.2492\n",
      "Difference = 0.1770\n",
      "\n",
      "\n",
      "\n",
      "\n",
      "At the point of maximum difference with beta = 83700:\n",
      "P(|d_i|<v) = 0.4262\n",
      "P(|N(0,max_beta^2)|<v) = 0.2495\n",
      "Difference = 0.1767\n",
      "\n",
      "\n",
      "\n",
      "\n",
      "At the point of maximum difference with beta = 83600:\n",
      "P(|d_i|<v) = 0.4262\n",
      "P(|N(0,max_beta^2)|<v) = 0.2498\n",
      "Difference = 0.1764\n",
      "\n",
      "\n",
      "\n",
      "\n",
      "At the point of maximum difference with beta = 83500:\n",
      "P(|d_i|<v) = 0.4262\n",
      "P(|N(0,max_beta^2)|<v) = 0.2501\n",
      "Difference = 0.1761\n",
      "\n",
      "\n",
      "\n",
      "\n",
      "At the point of maximum difference with beta = 83400:\n",
      "P(|d_i|<v) = 0.4262\n",
      "P(|N(0,max_beta^2)|<v) = 0.2504\n",
      "Difference = 0.1758\n",
      "\n",
      "\n",
      "\n",
      "\n",
      "At the point of maximum difference with beta = 83300:\n",
      "P(|d_i|<v) = 0.4262\n",
      "P(|N(0,max_beta^2)|<v) = 0.2507\n",
      "Difference = 0.1756\n",
      "\n",
      "\n",
      "\n",
      "\n",
      "At the point of maximum difference with beta = 83200:\n",
      "P(|d_i|<v) = 0.4262\n",
      "P(|N(0,max_beta^2)|<v) = 0.2510\n",
      "Difference = 0.1753\n",
      "\n",
      "\n",
      "\n",
      "\n",
      "At the point of maximum difference with beta = 83100:\n",
      "P(|d_i|<v) = 0.4262\n",
      "P(|N(0,max_beta^2)|<v) = 0.2513\n",
      "Difference = 0.1750\n",
      "\n",
      "\n",
      "\n",
      "\n",
      "At the point of maximum difference with beta = 83000:\n",
      "P(|d_i|<v) = 0.4262\n",
      "P(|N(0,max_beta^2)|<v) = 0.2516\n",
      "Difference = 0.1747\n",
      "\n",
      "\n",
      "\n",
      "\n",
      "At the point of maximum difference with beta = 82900:\n",
      "P(|d_i|<v) = 0.4262\n",
      "P(|N(0,max_beta^2)|<v) = 0.2518\n",
      "Difference = 0.1744\n",
      "\n",
      "\n",
      "\n",
      "\n",
      "At the point of maximum difference with beta = 82800:\n",
      "P(|d_i|<v) = 0.4262\n",
      "P(|N(0,max_beta^2)|<v) = 0.2521\n",
      "Difference = 0.1741\n",
      "\n",
      "\n",
      "\n"
     ]
    }
   ],
   "source": [
    "beta1, Mb_index = run_test_against_theoretical(df2, max_beta, ratios2)"
   ]
  },
  {
   "cell_type": "code",
   "execution_count": 17,
   "metadata": {},
   "outputs": [
    {
     "data": {
      "text/plain": [
       "<matplotlib.legend.Legend at 0x10a49efd0>"
      ]
     },
     "execution_count": 17,
     "metadata": {},
     "output_type": "execute_result"
    },
    {
     "data": {
      "image/png": "[encoded data removed]",
      "text/plain": [
       "<Figure size 432x288 with 1 Axes>"
      ]
     },
     "metadata": {},
     "output_type": "display_data"
    }
   ],
   "source": [
    "beta1 = beta1+100\n",
    "\n",
    "theoretical = [special.erf(vi/(beta1*np.sqrt(2))) for vi in v]\n",
    "\n",
    "plt.plot(v, theoretical, label=\"P(|N(0,beta^2)|<v) beta=%d\" % (beta1))\n",
    "plt.plot(v, ratios2, label=\"P(|d_i|<v)\")\n",
    "plt.title(\"P(|N(0,beta^2)|<v) and P(|d_i|<v) vs. v for %s 2014-2017 (k=%d)\" % (states, len(df2)))\n",
    "plt.axvline(x=v[Mb_index], color='r', linestyle='--', label=\"Point of max difference\")\n",
    "plt.legend()\n",
    "#plt.xlim(0, 50000)\n",
    "#print(\"beta = %.3f\" % (max_beta))"
   ]
  },
  {
   "cell_type": "code",
   "execution_count": 18,
   "metadata": {},
   "outputs": [
    {
     "name": "stdout",
     "output_type": "stream",
     "text": [
      "Beta (=std): 82800\n",
      "Number of T/sqrt(n) above 2 stds: 7\n",
      "Proportion of T/sqrt(n) above 2 stds: 0.115\n",
      "P value = 0.006278\n"
     ]
    }
   ],
   "source": [
    "run_binom_stat_test2(beta1, df2.values)"
   ]
  },
  {
   "cell_type": "code",
   "execution_count": 19,
   "metadata": {},
   "outputs": [],
   "source": [
    "df3 = create_df3(states, dfs)"
   ]
  },
  {
   "cell_type": "code",
   "execution_count": 20,
   "metadata": {},
   "outputs": [],
   "source": [
    "ratios_c = create_simulation(states, dfs, beta1 - 10000)\n",
    "ratios_c2 = create_simulation(states, dfs, beta1)\n",
    "ratios_c3 = create_simulation(states, dfs, beta1 + 10000)"
   ]
  },
  {
   "cell_type": "code",
   "execution_count": 21,
   "metadata": {},
   "outputs": [
    {
     "data": {
      "text/plain": [
       "<matplotlib.legend.Legend at 0x10a72c048>"
      ]
     },
     "execution_count": 21,
     "metadata": {},
     "output_type": "execute_result"
    },
    {
     "data": {
      "image/png": "[encoded data removed]",
      "text/plain": [
       "<Figure size 720x504 with 1 Axes>"
      ]
     },
     "metadata": {},
     "output_type": "display_data"
    }
   ],
   "source": [
    "theoretical = [special.erf(vi/(beta1*np.sqrt(2))) for vi in v]\n",
    "\n",
    "plt.figure(figsize=(10, 7))\n",
    "plt.plot(v, theoretical, label=\"P(|N(0,beta^2)|<v) with beta = %d\" % (beta1))\n",
    "plt.plot(v, ratios2, label=\"P(|d_i|<v) = empirical distribution\")\n",
    "plt.plot(v, ratios_c, label=\"Simulation with es = %d, 100 times\" % (beta1 - 10000))\n",
    "plt.plot(v, ratios_c2, label=\"Simulation with es = %d, 100 times\" % (beta1))\n",
    "plt.plot(v, ratios_c3, label=\"Simulation with es = %d, 100 times\" % (beta1 + 10000))\n",
    "plt.title(\"P(|N(0,beta^2)|<v) and P(|d_i|<v) vs. v for %s (k=%d)\" % (states, len(df2)))\n",
    "plt.legend()"
   ]
  },
  {
   "cell_type": "code",
   "execution_count": 24,
   "metadata": {},
   "outputs": [
    {
     "name": "stdout",
     "output_type": "stream",
     "text": [
      "k = 61\n",
      "test_stat at this k = 0.17389\n",
      "\n",
      "At the point of maximum difference with beta = 92800:\n",
      "P(|d_i|<v) = 0.4262\n",
      "P(|N(0,max_beta^2)|<v) = 0.2219\n",
      "Difference = 0.2044\n",
      "\n",
      "\n",
      "\n",
      "\n",
      "At the point of maximum difference with beta = 92700:\n",
      "P(|d_i|<v) = 0.5410\n",
      "P(|N(0,max_beta^2)|<v) = 0.3202\n",
      "Difference = 0.2208\n",
      "\n",
      "\n",
      "\n",
      "\n",
      "At the point of maximum difference with beta = 92600:\n",
      "P(|d_i|<v) = 0.5410\n",
      "P(|N(0,max_beta^2)|<v) = 0.3235\n",
      "Difference = 0.2175\n",
      "\n",
      "\n",
      "\n",
      "\n",
      "At the point of maximum difference with beta = 92500:\n",
      "P(|d_i|<v) = 0.5410\n",
      "P(|N(0,max_beta^2)|<v) = 0.3454\n",
      "Difference = 0.1956\n",
      "\n",
      "\n",
      "\n"
     ]
    }
   ],
   "source": [
    "beta1, _ = run_test_against_simulation(states, dfs, beta1, ratios2)"
   ]
  },
  {
   "cell_type": "code",
   "execution_count": 25,
   "metadata": {},
   "outputs": [
    {
     "name": "stdout",
     "output_type": "stream",
     "text": [
      "Beta (=std): 92400\n",
      "Number of T/sqrt(n) above 2 stds: 6\n",
      "Proportion of T/sqrt(n) above 2 stds: 0.098\n",
      "P value = 0.020526\n"
     ]
    }
   ],
   "source": [
    "run_binom_stat_test2(beta1, df2.values)"
   ]
  },
  {
   "cell_type": "code",
   "execution_count": null,
   "metadata": {},
   "outputs": [],
   "source": []
  }
 ],
 "metadata": {
  "kernelspec": {
   "display_name": "Python 3",
   "language": "python",
   "name": "python3"
  },
  "language_info": {
   "codemirror_mode": {
    "name": "ipython",
    "version": 3
   },
   "file_extension": ".py",
   "mimetype": "text/x-python",
   "name": "python",
   "nbconvert_exporter": "python",
   "pygments_lexer": "ipython3",
   "version": "3.6.5"
  }
 },
 "nbformat": 4,
 "nbformat_minor": 2
}
